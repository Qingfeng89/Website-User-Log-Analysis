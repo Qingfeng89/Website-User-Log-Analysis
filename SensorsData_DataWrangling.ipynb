{
 "cells": [
  {
   "cell_type": "markdown",
   "metadata": {},
   "source": [
    "## Goal\n",
    "    \n",
    "    To undertand website traffic and user browsing behaviors through data exploration, funnel analysis and retention analysis."
   ]
  },
  {
   "cell_type": "markdown",
   "metadata": {},
   "source": [
    "## Conclusion\n",
    "\n",
    "    1. The website has constant number of users visiting on weekdays and low volume of users on weekends. During weekdays, Monday is the least active day for users. If the company plans to start a marketing campaign, Tuesday through Friday will be a better time to start. \n",
    "    \n",
    "    2. Looking at user level metrics, the user group has poor engagement performance. If we define user engagement as average number of sessions in 9-day period, on average, users only have 1.4 sessions. And, the median session length is only 0.64 minutes. Basically, users are directed to the website and have a quick look at the site, and then leave the website. Within such a short time, it's hard for users to touch the core value of the products the company is offering. The company needs to figure out why users leave the website in such short time and do not come back for another session. One possible direction is to go through UI. Maybe users are bored with the website design, or the design of the website is so confusing that users can not find what they are looking for.  \n",
    "    \n",
    "    3. Funnel analysis shows that 2/3 of users are lost from pageview action to button click action,which is another indication of lack of user interaction with website. Most often, users land on homepage, and then either click through buttons or demo link to get to know companies products. However, current user flow is showing that 2/3 of users left the website without any interaction with core products. Again, the website design(location of buttons/demo link) should be tested. \n",
    "    \n",
    "    4. Funnel analysis also shows that the bottleneck exists at directing users to visit demo page. About 70% button click users are lost without further landing on demopage and leave demo page. Demos are essential to get users to know companies products. When users click buttons for more informaiton, the company can priorize demo related buttons(links) to get users' attention. \n",
    "    \n",
    "    5. Both funnel analyis show that at least 95% users left index page or demo page without registering for demo, which means most users leave the website without giving contact information. The company needs to figure out why users are relucant to register. Is it because users are not satisfied with products after demo introduction or because the registering process require too much information? If it's the latter one,is it possible to simplify the registeration process so that users can be acquired first(in order to get contact information).\n",
    "   \n",
    "    6. Retention Analysis shows that the number of users remained in the cohort on second day drops significantly and it continues to drop on 7th day. This implies that most users are one and done user. They visit the website once and don't come back. If user's contact information is available, reminders(emails/msg) should be sent to users. When looking at retention rate of user group with different behaviors, users who checked demo page outperformed other groups. The user group with button click behavior ranks second. In situations that users contact information is unavailable, by increasing user interaction with website(especially interaction with demo page), the retention rate can also be improved.\n",
    "    \n",
    "    7. Looking at user profile, 97% users are from China. Beijing(34%), Guangdong(21%), Shanghai(12%), Zhejiang(9%) are the top 4 user group. Comparing to the users in Beijing and Guangdong, the number of users in Shanghai and Zhejiang are still low. There are also a lot of small-medium companies in Shanghai and Zhejiang area, the compnay can grow potential business in eastern region. \n",
    "    \n",
    "    8. By checking the campaign source and referrer source, more than 85% users(who have source information) are from search. Content-based website ranked second, and social media ranked third. The brand team can improve brand awareness through content sharing website. "
   ]
  },
  {
   "cell_type": "markdown",
   "metadata": {},
   "source": [
    "## Summary\n",
    "\n",
    "### Dataset\n",
    "\n",
    "The original dataset is offered by a Saas company which provides data consultation and analytical software for companies to better understand their cusotmer. The dataset constains users web browsing activities such as users actions (pageview, butttonclick,formsubmit),  action-related properties (such as url, referer_page, utm info), time and device information.  The original dataset has 75092 rows and 70 columns.\n",
    "\n",
    "### Data Processing and Feature Engeering\n",
    "\n",
    "#### Event Level Data:\n",
    "In order to collect user behavior information, website will be tracking events of interest. Each row in the raw dataset is one record of event of one user. Each user may have multiple records for multiple days. \n",
    "    \n",
    "To prepare the dataset for EDA, the following steps of data transformation are done:\n",
    "1. Checking distributions of categorical variables and continous variables(especially percnet of NA's) to better understand each vairable.\n",
    "2. Drop columns that have same value for all users(such as lib related info) since it's not meaningful to understand user's behavior.\n",
    "3. Based on the distributions, regrouping categorical values so that the levels can be reduced to 3-5 levels. For example:\n",
    "    * for column ‘first_browser_language’(‘OS’/‘Model’), change values to upper case, and regroup it  to ‘zh’, ‘en’,’other’ three categories instead of 16 categories.\n",
    "    * for columns related to referral host or utm_source , they can be regrouped into ‘search’, ‘content’, ‘sensors’ ,’social media'.\n",
    "4. For some columns, it has mixed information. For example, column ‘properties.name’, it’s a mix of button name and user name, and thus need to be separated. \n",
    "5. For ‘time’ column, it can be changed to timestamp form.  New features such as time duration to now (‘time_date_to_Now), is weekday or not(time_date_weekday), time difference between each record (time_datefull_diff) can be generated.  \n",
    "6. Using timestamp information, we can also define active session as 30 minutes time window. If any user-interaction is made within 30 mins following last interaction, then a new 30 minute window is extended. Then, we can create new features such as ’NewSession_flag’ and ‘NewSessionByDay’ to further calculate number of session per user and per day.\n",
    "7. When checking time distribuiton, 7-31 data stands out because the date is far from the consecutive 9-day period. 7-31 is used to load users profile, and should not be be counted for event or time contribution. Time that equals to 7-31 is set to NA.   \n",
    "\n",
    "      \n",
    "#### User Level Data:\n",
    "To understand user level performance and metric, event level dataset can be transformed to user level dataset by aggregating the data by user id. The following transformation are done:\n",
    "\n",
    "1. Transforming multiple records of one user into frequency counts. For example, 'freq' column is the total number of actions taken by user. 'NewSession_flag' column is the count of sessions per user. \n",
    "2. For columns with more than one category, get the count of distinct categories, which will be an indication of variesties of interaction. For example, 'event' is the unique count of event type. If a user have mutiple records of pageview, btnclick and index_leave, then 'event' column will be 3. \n",
    "3. For columns with more than one category, transpose the column to n columns(equal to the number of categories), and make each column as frequency count of the category. For example, the original 'event' column is transposed to 11 columns(col: pageview, btnclick,.....), and each column represents how many time the action(e.g pageview) is performed by the user.\n",
    "4. Binary encoding for some variables(is_first_time_visit, return_flag). \n",
    "5. For columns such ip, os, model that are same for most actions of the user, keep one value instead of frequency count.  \n",
    "6. Generate time-related features, such as average session time per user,minimum time difference between adjacent actions, max time difference bewteen adjacent actions，time duration between first action and last action.\n",
    "        \n",
    "The user level data has  11756 rows(unique users) 121 columns.\n",
    "\n",
    "    \n",
    "### EDA\n",
    "** website traffic** :\n",
    "\n",
    "* Number of events/unique users/sessions:\n",
    "    * For normal weekdays,on average the website has 9041.5 events, 1836.5 unique users, 2257.75 sessions on a daily basis. \n",
    "    * Comparing to weekdays, weekends have lower volume of traffic, 3158 events, 777.5 unique users, 883.5 sessions on a daily basis.\n",
    "    * On average, each user is having 1.1-1.2 sessions. \n",
    "    \n",
    "    \n",
    "* Events: Break the events by category. Pageview and btnClick are the top2 events performed each day, other events are grouped as 'others'. On average, 50% events are pageview and 20% events are btnClick. \n",
    "\n",
    "\n",
    "* Users: Break the users into new/exp group. Around 69% are new users. \n",
    "    \n",
    "<table>       \n",
    "<tr>\n",
    "<td> <img src=\"img/session.png\",width=500,height=500/> </td>\n",
    "<td> <img src=\"img/event.png\",width=500,height=500/> </td>\n",
    "<td> <img src=\"img/newexp.png\",width=500,height=500/> </td>\n",
    "</tr> \n",
    "</table>\n",
    "\n",
    "** User level metrics **:\n",
    "\n",
    "The following table provides metrics from user level dataset. From the mean and median, we can see that most of the metrics have skewed distribution, and median might be a better reflection of metrics. Also, the following metrics are showing that users have quite low level interection with the website. More than 75% of users only have 1 session(short session) in 9 days. These basic metrics are showing that the company should focus on improving number of sessions per user and the length of each session. \n",
    "\n",
    "\n",
    "| Metric | Mean | Median|75%\n",
    "|--|--|--|--|\n",
    "|number of events|6.38|3|6|\n",
    "|number of unique events|2.4|2|3|\n",
    "|number of sessions|1.42|1|1|\n",
    "|session length(in minutes)|3.85 |0.64|3.78|\n",
    "|interval between sessions(in minutes)|1158.46|278.67|1334.24|\n",
    "\n",
    "### Funnel Analysis\n",
    "\n",
    "two common user flows:\n",
    "\n",
    "1. pageview ->  btnClick ->index_leave->  click_send_cellphone -> verify_cellphone_code -> submit(clickSubmit & formSubmit)\n",
    "2. pageview ->  btnClick ->demo_leave->  click_send_cellphone -> verify_cellphone_code -> submit(clickSubmit & formSubmit)\n",
    "\n",
    "\n",
    "<table>       \n",
    "<tr>\n",
    "<td> <img src=\"img/funnel1.png\",width=400,height=400/> </td>\n",
    "<td> <img src=\"img/funnel2.png\",width=400,height=400/> </td>\n",
    "</tr> \n",
    "</table>\n",
    "\n",
    "\n",
    "For the first user flow, the bottleneck exists at two steps: pageview -> btnclick and index_leave-> click_send_cellphone; \n",
    "\n",
    "For the second user flow, the bottleneck exists at three steps: pageview ->  btnClick , btnClick -> demo_leave and  demo_leave -> click_send_cellphone; \n",
    "\n",
    "From both funnels, we can see that we need to motivate users to actively interact with website, to incentivize users to click buttons(especially 'demo' button) on website. Also,we can see that once users leave index page or demo page, they lack the action of registering their phone number, which is a necessary step to get the demo products. The compnay should be investigating whether current registration methods are preventing users from registering. \n",
    "\n",
    "### Retention Analysis\n",
    "By looking at the daily user cohort(users who visit the website on same day), retention analysis shows the percent of users who come back to visit the website after their initial visit. Due to the limitation of data(9-day user data), we only look at the retention rate on a daily basis. Cohort is defined as users whose first visit(in the 9-day period)are on same day. Then, for each cohort, we calculate how many users are left in the subsequent days.\n",
    "\n",
    "The retention analysis is applied to four segments: all user, new user, btnclick user and demoleave user. The following plot compares the 2017-03-07 cohort performance by four segments.\n",
    "\n",
    "<img src=\"img/cmp_retention_line_chart.pdf\",width=600,height=600/>\n",
    "\n",
    "\n",
    "\n",
    "For the four segments, they all drop significantly after users' initial visit, but for btnclick and demoleave user, they have relatively higher rate of remained users. Also, weekdays have higher retention rate than weekend's. \n",
    "\n",
    "Based on the heatmap and line chart for four segments, we can see that users who had button click and demo page visit behaviors have higher second day visit retention rate. Users who visit the demo page are the users who touch the core product of the company, and they are more likely to come back for another visit. By directing users to visit demopage or turning users into active users will help to improve retention rate.\n"
   ]
  },
  {
   "cell_type": "markdown",
   "metadata": {},
   "source": [
    "### Load Data"
   ]
  },
  {
   "cell_type": "code",
   "execution_count": 1,
   "metadata": {
    "collapsed": true
   },
   "outputs": [],
   "source": [
    "import json\n",
    "import pandas as pd\n",
    "import numpy as np\n",
    "from pandas.io.json import json_normalize"
   ]
  },
  {
   "cell_type": "code",
   "execution_count": 2,
   "metadata": {
    "collapsed": true
   },
   "outputs": [],
   "source": [
    "import matplotlib.pyplot as plt\n",
    "\n",
    "# This statement allow to display plot without asking to\n",
    "%matplotlib inline\n",
    "\n",
    "# Always make it pretty.\n",
    "plt.style.use('ggplot')"
   ]
  },
  {
   "cell_type": "code",
   "execution_count": 4,
   "metadata": {},
   "outputs": [],
   "source": [
    "df = []\n",
    "\n",
    "for line in open('data/sensordata.json','r'):\n",
    "    df.append(json.loads(line))\n",
    "    \n",
    "df_flat = json_normalize(df)"
   ]
  },
  {
   "cell_type": "code",
   "execution_count": 4,
   "metadata": {},
   "outputs": [
    {
     "data": {
      "text/html": [
       "<div>\n",
       "<style>\n",
       "    .dataframe thead tr:only-child th {\n",
       "        text-align: right;\n",
       "    }\n",
       "\n",
       "    .dataframe thead th {\n",
       "        text-align: left;\n",
       "    }\n",
       "\n",
       "    .dataframe tbody tr th {\n",
       "        vertical-align: top;\n",
       "    }\n",
       "</style>\n",
       "<table border=\"1\" class=\"dataframe\">\n",
       "  <thead>\n",
       "    <tr style=\"text-align: right;\">\n",
       "      <th></th>\n",
       "      <th>_nocache</th>\n",
       "      <th>distinct_id</th>\n",
       "      <th>event</th>\n",
       "      <th>jssdk_error</th>\n",
       "      <th>lib.$lib</th>\n",
       "      <th>lib.$lib_method</th>\n",
       "      <th>lib.$lib_version</th>\n",
       "      <th>properties.$browser</th>\n",
       "      <th>properties.$browser_version</th>\n",
       "      <th>properties.$first_browser_language</th>\n",
       "      <th>...</th>\n",
       "      <th>properties.referrerUrl</th>\n",
       "      <th>properties.requestBtn</th>\n",
       "      <th>properties.result</th>\n",
       "      <th>properties.session_page_url</th>\n",
       "      <th>properties.siteUrl</th>\n",
       "      <th>properties.site_url</th>\n",
       "      <th>properties.url_path</th>\n",
       "      <th>properties.verification_code</th>\n",
       "      <th>time</th>\n",
       "      <th>type</th>\n",
       "    </tr>\n",
       "  </thead>\n",
       "  <tbody>\n",
       "    <tr>\n",
       "      <th>0</th>\n",
       "      <td>0654392402996</td>\n",
       "      <td>595466e9a8e733434ce08de16e927d985e0b5d48</td>\n",
       "      <td>index_leave</td>\n",
       "      <td>NaN</td>\n",
       "      <td>js</td>\n",
       "      <td>code</td>\n",
       "      <td>1.6.20</td>\n",
       "      <td>chrome</td>\n",
       "      <td>56</td>\n",
       "      <td>NaN</td>\n",
       "      <td>...</td>\n",
       "      <td>NaN</td>\n",
       "      <td>NaN</td>\n",
       "      <td>NaN</td>\n",
       "      <td>https://www.sensorsdata.cn/?utm_source=baidu&amp;u...</td>\n",
       "      <td>NaN</td>\n",
       "      <td>NaN</td>\n",
       "      <td>NaN</td>\n",
       "      <td>NaN</td>\n",
       "      <td>1488791047953</td>\n",
       "      <td>track</td>\n",
       "    </tr>\n",
       "    <tr>\n",
       "      <th>1</th>\n",
       "      <td>3040562711955</td>\n",
       "      <td>9939d3e087bca29c42334d96dccd25ca0e06652a</td>\n",
       "      <td>NaN</td>\n",
       "      <td>NaN</td>\n",
       "      <td>js</td>\n",
       "      <td>code</td>\n",
       "      <td>1.6.20</td>\n",
       "      <td>NaN</td>\n",
       "      <td>NaN</td>\n",
       "      <td>zh-CN</td>\n",
       "      <td>...</td>\n",
       "      <td>NaN</td>\n",
       "      <td>NaN</td>\n",
       "      <td>NaN</td>\n",
       "      <td>NaN</td>\n",
       "      <td>NaN</td>\n",
       "      <td>NaN</td>\n",
       "      <td>NaN</td>\n",
       "      <td>NaN</td>\n",
       "      <td>1490958296645</td>\n",
       "      <td>profile_set_once</td>\n",
       "    </tr>\n",
       "    <tr>\n",
       "      <th>2</th>\n",
       "      <td>9587552771961</td>\n",
       "      <td>9939d3e087bca29c42334d96dccd25ca0e06652a</td>\n",
       "      <td>$pageview</td>\n",
       "      <td>NaN</td>\n",
       "      <td>js</td>\n",
       "      <td>code</td>\n",
       "      <td>1.6.20</td>\n",
       "      <td>chrome</td>\n",
       "      <td>56</td>\n",
       "      <td>NaN</td>\n",
       "      <td>...</td>\n",
       "      <td>NaN</td>\n",
       "      <td>NaN</td>\n",
       "      <td>NaN</td>\n",
       "      <td>https://sensorsdata.cn/?ch=demo</td>\n",
       "      <td>NaN</td>\n",
       "      <td>NaN</td>\n",
       "      <td>NaN</td>\n",
       "      <td>NaN</td>\n",
       "      <td>1488791050856</td>\n",
       "      <td>track</td>\n",
       "    </tr>\n",
       "    <tr>\n",
       "      <th>3</th>\n",
       "      <td>0652937076129</td>\n",
       "      <td>9939d3e087bca29c42334d96dccd25ca0e06652a</td>\n",
       "      <td>btnClick</td>\n",
       "      <td>NaN</td>\n",
       "      <td>js</td>\n",
       "      <td>code</td>\n",
       "      <td>1.6.20</td>\n",
       "      <td>chrome</td>\n",
       "      <td>56</td>\n",
       "      <td>NaN</td>\n",
       "      <td>...</td>\n",
       "      <td>NaN</td>\n",
       "      <td>2</td>\n",
       "      <td>NaN</td>\n",
       "      <td>https://sensorsdata.cn/?ch=demo</td>\n",
       "      <td>NaN</td>\n",
       "      <td>NaN</td>\n",
       "      <td>NaN</td>\n",
       "      <td>NaN</td>\n",
       "      <td>1488791051772</td>\n",
       "      <td>track</td>\n",
       "    </tr>\n",
       "    <tr>\n",
       "      <th>4</th>\n",
       "      <td>8207407748558</td>\n",
       "      <td>9939d3e087bca29c42334d96dccd25ca0e06652a</td>\n",
       "      <td>btnClick</td>\n",
       "      <td>NaN</td>\n",
       "      <td>js</td>\n",
       "      <td>code</td>\n",
       "      <td>1.6.20</td>\n",
       "      <td>chrome</td>\n",
       "      <td>56</td>\n",
       "      <td>NaN</td>\n",
       "      <td>...</td>\n",
       "      <td>NaN</td>\n",
       "      <td>2</td>\n",
       "      <td>NaN</td>\n",
       "      <td>https://sensorsdata.cn/?ch=demo</td>\n",
       "      <td>NaN</td>\n",
       "      <td>NaN</td>\n",
       "      <td>NaN</td>\n",
       "      <td>NaN</td>\n",
       "      <td>1488791056032</td>\n",
       "      <td>track</td>\n",
       "    </tr>\n",
       "  </tbody>\n",
       "</table>\n",
       "<p>5 rows × 70 columns</p>\n",
       "</div>"
      ],
      "text/plain": [
       "        _nocache                               distinct_id        event  \\\n",
       "0  0654392402996  595466e9a8e733434ce08de16e927d985e0b5d48  index_leave   \n",
       "1  3040562711955  9939d3e087bca29c42334d96dccd25ca0e06652a          NaN   \n",
       "2  9587552771961  9939d3e087bca29c42334d96dccd25ca0e06652a    $pageview   \n",
       "3  0652937076129  9939d3e087bca29c42334d96dccd25ca0e06652a     btnClick   \n",
       "4  8207407748558  9939d3e087bca29c42334d96dccd25ca0e06652a     btnClick   \n",
       "\n",
       "  jssdk_error lib.$lib lib.$lib_method lib.$lib_version properties.$browser  \\\n",
       "0         NaN       js            code           1.6.20              chrome   \n",
       "1         NaN       js            code           1.6.20                 NaN   \n",
       "2         NaN       js            code           1.6.20              chrome   \n",
       "3         NaN       js            code           1.6.20              chrome   \n",
       "4         NaN       js            code           1.6.20              chrome   \n",
       "\n",
       "  properties.$browser_version properties.$first_browser_language  \\\n",
       "0                          56                                NaN   \n",
       "1                         NaN                              zh-CN   \n",
       "2                          56                                NaN   \n",
       "3                          56                                NaN   \n",
       "4                          56                                NaN   \n",
       "\n",
       "         ...        properties.referrerUrl properties.requestBtn  \\\n",
       "0        ...                           NaN                   NaN   \n",
       "1        ...                           NaN                   NaN   \n",
       "2        ...                           NaN                   NaN   \n",
       "3        ...                           NaN                     2   \n",
       "4        ...                           NaN                     2   \n",
       "\n",
       "  properties.result                        properties.session_page_url  \\\n",
       "0               NaN  https://www.sensorsdata.cn/?utm_source=baidu&u...   \n",
       "1               NaN                                                NaN   \n",
       "2               NaN                    https://sensorsdata.cn/?ch=demo   \n",
       "3               NaN                    https://sensorsdata.cn/?ch=demo   \n",
       "4               NaN                    https://sensorsdata.cn/?ch=demo   \n",
       "\n",
       "  properties.siteUrl properties.site_url properties.url_path  \\\n",
       "0                NaN                 NaN                 NaN   \n",
       "1                NaN                 NaN                 NaN   \n",
       "2                NaN                 NaN                 NaN   \n",
       "3                NaN                 NaN                 NaN   \n",
       "4                NaN                 NaN                 NaN   \n",
       "\n",
       "  properties.verification_code           time              type  \n",
       "0                          NaN  1488791047953             track  \n",
       "1                          NaN  1490958296645  profile_set_once  \n",
       "2                          NaN  1488791050856             track  \n",
       "3                          NaN  1488791051772             track  \n",
       "4                          NaN  1488791056032             track  \n",
       "\n",
       "[5 rows x 70 columns]"
      ]
     },
     "execution_count": 4,
     "metadata": {},
     "output_type": "execute_result"
    }
   ],
   "source": [
    "df_flat.head(5)\n",
    "#df_flat.info()"
   ]
  },
  {
   "cell_type": "code",
   "execution_count": 5,
   "metadata": {},
   "outputs": [
    {
     "data": {
      "text/plain": [
       "(75092, 70)"
      ]
     },
     "execution_count": 5,
     "metadata": {},
     "output_type": "execute_result"
    }
   ],
   "source": [
    "df_flat.shape[0],df_flat.shape[1]"
   ]
  },
  {
   "cell_type": "markdown",
   "metadata": {
    "collapsed": true
   },
   "source": [
    "### Exploring and Transforming Features"
   ]
  },
  {
   "cell_type": "code",
   "execution_count": 6,
   "metadata": {},
   "outputs": [
    {
     "data": {
      "text/plain": [
       "\"\\nfor col in df_flat:\\n    if df_flat[col].dtype == 'O':\\n        print(col)\\n        print(df_flat[col].value_counts(dropna=False)/df_flat.shape[0])\\n\\n\""
      ]
     },
     "execution_count": 6,
     "metadata": {},
     "output_type": "execute_result"
    }
   ],
   "source": [
    "# to check the distribution of object columns; Too much information to be displayed;\n",
    "'''\n",
    "for col in df_flat:\n",
    "    if df_flat[col].dtype == 'O':\n",
    "        print(col)\n",
    "        print(df_flat[col].value_counts(dropna=False)/df_flat.shape[0])\n",
    "\n",
    "'''"
   ]
  },
  {
   "cell_type": "code",
   "execution_count": 7,
   "metadata": {
    "collapsed": true
   },
   "outputs": [],
   "source": [
    "# the following columns have same value for all users, and cannot provide useful information;\n",
    "drop_col = ['_nocache','lib.$lib','lib.$lib_method','lib.$lib_version','properties.$lib','properties.$lib_version'\\\n",
    "           ,'properties.$browser_version','properties.$os_version']\n",
    "df_flat.drop(drop_col,axis=1,inplace=True)"
   ]
  },
  {
   "cell_type": "code",
   "execution_count": 8,
   "metadata": {
    "collapsed": true
   },
   "outputs": [],
   "source": [
    "# url columns\n",
    "url_col = ['properties._session_referrer','properties.$referrer','properties.$latest_referrer'\\\n",
    "           ,'properties.$first_referrer','properties.session_page_url','properties.pageUrl','properties.$url']"
   ]
  },
  {
   "cell_type": "code",
   "execution_count": 9,
   "metadata": {
    "collapsed": true
   },
   "outputs": [],
   "source": [
    "# changing cateogricial values to upper case\n",
    "upcase_col = ['properties.$first_browser_language']\n",
    "df_flat['properties.$first_browser_language']=df_flat['properties.$first_browser_language'].str.lower()\n",
    "df_flat['properties.$first_browser_language_cat'] = df_flat['properties.$first_browser_language'].str.split('-').str[0]\n",
    "df_flat.loc[~df_flat['properties.$first_browser_language_cat'].isin(['zh','en']) & ~pd.isnull(df_flat['properties.$first_browser_language_cat']),'properties.$first_browser_language_cat']='other'"
   ]
  },
  {
   "cell_type": "code",
   "execution_count": 10,
   "metadata": {},
   "outputs": [
    {
     "data": {
      "text/plain": [
       "NaN      65944\n",
       "zh        8464\n",
       "en         642\n",
       "other       42\n",
       "Name: properties.$first_browser_language_cat, dtype: int64"
      ]
     },
     "execution_count": 10,
     "metadata": {},
     "output_type": "execute_result"
    }
   ],
   "source": [
    "df_flat['properties.$first_browser_language_cat'].value_counts(dropna=False)"
   ]
  },
  {
   "cell_type": "code",
   "execution_count": 11,
   "metadata": {},
   "outputs": [
    {
     "data": {
      "text/plain": [
       "NaN      65944\n",
       "zh-cn     8441\n",
       "en-us      621\n",
       "en-gb       20\n",
       "zh-tw       20\n",
       "c           18\n",
       "ru          10\n",
       "ja-jp        5\n",
       "ru-ru        2\n",
       "ja           2\n",
       "ko           2\n",
       "zh           2\n",
       "en-sg        1\n",
       "zh-hk        1\n",
       "de-de        1\n",
       "fr           1\n",
       "hy-am        1\n",
       "Name: properties.$first_browser_language, dtype: int64"
      ]
     },
     "execution_count": 11,
     "metadata": {},
     "output_type": "execute_result"
    }
   ],
   "source": [
    "df_flat['properties.$first_browser_language'].value_counts(dropna=False)"
   ]
  },
  {
   "cell_type": "code",
   "execution_count": 12,
   "metadata": {
    "collapsed": true
   },
   "outputs": [],
   "source": [
    "# change blank rows to NA\n",
    "df_flat.replace('',np.nan,inplace=True)"
   ]
  },
  {
   "cell_type": "code",
   "execution_count": 14,
   "metadata": {},
   "outputs": [
    {
     "data": {
      "text/plain": [
       "event                  properties.name_request\n",
       "$pageview              NaN                        32620\n",
       "about_leave            NaN                         1032\n",
       "btnClick               request                     2967\n",
       "                       demo                        2783\n",
       "                       document                    2067\n",
       "                       product                     1942\n",
       "                       b-round                     1245\n",
       "                       about                        925\n",
       "                       blog                         803\n",
       "                       viedo                        550\n",
       "                       logo                         508\n",
       "                       mail                          76\n",
       "clickSubmit            NaN                          513\n",
       "click_send_cellphone   NaN                          600\n",
       "courses_leave          NaN                          906\n",
       "courses_play_leave     NaN                          747\n",
       "demo_leave             NaN                         3411\n",
       "formSubmit             NaN                          791\n",
       "index_leave            NaN                        10394\n",
       "page_close             NaN                          230\n",
       "verify_cellphone_code  NaN                          563\n",
       "Name: properties.name_request, dtype: int64"
      ]
     },
     "execution_count": 14,
     "metadata": {},
     "output_type": "execute_result"
    }
   ],
   "source": [
    "df_flat.groupby('event')['properties.name_request'].value_counts(dropna=False)\n",
    "##df_flat[['event','time_date']][df_flat['distinct_id']=='018bb247659bf22535ffc94bf91a6af31b964bac']"
   ]
  },
  {
   "cell_type": "code",
   "execution_count": 13,
   "metadata": {
    "collapsed": true
   },
   "outputs": [],
   "source": [
    "df_flat['properties.name_request'] = df_flat['properties.name']\n",
    "df_flat.loc[~df_flat['properties.name_request'].isin(['request','demo','document','product','b-round','about','blog','viedo','logo','mail']),'properties.name_request'] = np.nan "
   ]
  },
  {
   "cell_type": "code",
   "execution_count": 15,
   "metadata": {
    "collapsed": true
   },
   "outputs": [],
   "source": [
    "df_flat['properties.$first_visit_time_date'] = pd.to_datetime(df_flat['properties.$first_visit_time']).dt.normalize()"
   ]
  },
  {
   "cell_type": "code",
   "execution_count": 16,
   "metadata": {
    "collapsed": true
   },
   "outputs": [],
   "source": [
    "df_flat['properties.$first_visit_time_toNow'] = np.ceil((pd.to_datetime('2018-08-30') - pd.to_datetime(df_flat['properties.$first_visit_time']))/pd.Timedelta('1 ms'))"
   ]
  },
  {
   "cell_type": "code",
   "execution_count": 17,
   "metadata": {
    "collapsed": true
   },
   "outputs": [],
   "source": [
    "df_flat['properties.$first_visit_time_weekday'] = pd.to_datetime(df_flat['properties.$first_visit_time']).dt.weekday"
   ]
  },
  {
   "cell_type": "code",
   "execution_count": 18,
   "metadata": {
    "collapsed": true
   },
   "outputs": [],
   "source": [
    "df_flat['time_date'] = pd.to_datetime(df_flat['time'], unit='ms').dt.normalize()"
   ]
  },
  {
   "cell_type": "code",
   "execution_count": 19,
   "metadata": {
    "collapsed": true
   },
   "outputs": [],
   "source": [
    "df_flat['time_date_full'] = pd.to_datetime(df_flat['time'], unit='ms')"
   ]
  },
  {
   "cell_type": "code",
   "execution_count": 20,
   "metadata": {},
   "outputs": [
    {
     "data": {
      "text/plain": [
       "2017-03-14    10471\n",
       "2017-03-09     9930\n",
       "2017-03-31     9419\n",
       "2017-03-13     9372\n",
       "2017-03-07     9052\n",
       "2017-03-10     8700\n",
       "2017-03-08     8484\n",
       "2017-03-06     3348\n",
       "2017-03-11     3227\n",
       "2017-03-12     3089\n",
       "Name: time_date, dtype: int64"
      ]
     },
     "execution_count": 20,
     "metadata": {},
     "output_type": "execute_result"
    }
   ],
   "source": [
    "df_flat['time_date'].value_counts(dropna=False)"
   ]
  },
  {
   "cell_type": "code",
   "execution_count": 21,
   "metadata": {},
   "outputs": [
    {
     "data": {
      "text/plain": [
       "type              time_date \n",
       "profile_set_once  2017-03-31    9413\n",
       "track             2017-03-06     788\n",
       "                  2017-03-07    1822\n",
       "                  2017-03-08    1824\n",
       "                  2017-03-09    1991\n",
       "                  2017-03-10    1709\n",
       "                  2017-03-11     762\n",
       "                  2017-03-12     793\n",
       "                  2017-03-13    1978\n",
       "                  2017-03-14    2036\n",
       "Name: distinct_id, dtype: int64"
      ]
     },
     "execution_count": 21,
     "metadata": {},
     "output_type": "execute_result"
    }
   ],
   "source": [
    "df_flat.groupby(['type','time_date'])['distinct_id'].nunique()\n",
    "# time 2017-7-31 is used to load some user profile, the event is NA on 7-31 "
   ]
  },
  {
   "cell_type": "code",
   "execution_count": 22,
   "metadata": {
    "collapsed": true
   },
   "outputs": [],
   "source": [
    "# date beyond 2017-3-30 is set to NA to be avoided to be counted\n",
    "df_flat.loc[df_flat['time_date']>pd.to_datetime('2017-03-30'),['time','time_date','time_date_full']] = np.nan "
   ]
  },
  {
   "cell_type": "code",
   "execution_count": 23,
   "metadata": {
    "collapsed": true
   },
   "outputs": [],
   "source": [
    "df_flat['time_date_toNow'] = np.ceil((pd.to_datetime('2018-08-30') - pd.to_datetime(df_flat['time'],unit='ms'))/pd.Timedelta('1 ms'))"
   ]
  },
  {
   "cell_type": "code",
   "execution_count": 24,
   "metadata": {
    "collapsed": true
   },
   "outputs": [],
   "source": [
    "df_flat['time_date_weekday'] = pd.to_datetime(df_flat['time'], unit='ms').dt.weekday"
   ]
  },
  {
   "cell_type": "code",
   "execution_count": 25,
   "metadata": {
    "collapsed": true
   },
   "outputs": [],
   "source": [
    "#df_days_uniq = df_flat.groupby('distinct_id')['time_date'].nunique()\n",
    "#df_days_uniq[df_days_uniq>2]\n",
    "df_flat['min_date_per_user'] = df_flat.groupby('distinct_id')['time_date'].transform('min')"
   ]
  },
  {
   "cell_type": "code",
   "execution_count": 26,
   "metadata": {
    "collapsed": true
   },
   "outputs": [],
   "source": [
    "#df_flat[['distinct_id','event','time_date','min_date_per_user','return_1day_flg']][df_flat['distinct_id']=='018bb247659bf22535ffc94bf91a6af31b964bac']"
   ]
  },
  {
   "cell_type": "code",
   "execution_count": 27,
   "metadata": {
    "collapsed": true
   },
   "outputs": [],
   "source": [
    "df_flat['return_1day_flg'] = np.where(df_flat['time_date'] >= df_flat['min_date_per_user']+pd.Timedelta('1 day'),1,0)\n",
    "#df_flat['return_2day_flg'] = np.where(df_flat['time_date'] >= df_flat['min_date_per_user']+pd.Timedelta('2 day'),1,0)"
   ]
  },
  {
   "cell_type": "code",
   "execution_count": 28,
   "metadata": {
    "collapsed": true
   },
   "outputs": [],
   "source": [
    "df_flat['properties.$browser_cat'] = df_flat['properties.$browser']\n",
    "df_flat.loc[df_flat['properties.$browser'].str.contains('na',na=False),'properties.$browser_cat']=np.nan\n",
    "df_flat.loc[~df_flat['properties.$browser'].isin(['chrome','safari','firefox']) & ~pd.isnull(df_flat['properties.$browser']),'properties.$browser_cat']='other'"
   ]
  },
  {
   "cell_type": "code",
   "execution_count": 29,
   "metadata": {
    "collapsed": true
   },
   "outputs": [],
   "source": [
    "df_flat['properties.$first_browser_language0'] = df_flat['properties.$first_browser_language'].str.split('-').str[0]\n",
    "df_flat.loc[~df_flat['properties.$first_browser_language0'].isin(['zh','en']) & ~pd.isnull(df_flat['properties.$first_browser_language0']),'properties.$first_browser_language0']='other'"
   ]
  },
  {
   "cell_type": "code",
   "execution_count": 30,
   "metadata": {
    "collapsed": true
   },
   "outputs": [],
   "source": [
    "df_flat['properties.$first_referrer_host_cat'] = df_flat['properties.$first_referrer_host']\n",
    "df_flat.loc[df_flat['properties.$first_referrer_host'].str.contains(\"baidu\",na=False),'properties.$first_referrer_host_cat'] = 'search'\n",
    "df_flat.loc[df_flat['properties.$first_referrer_host'].str.contains(\"sogou\",na=False),'properties.$first_referrer_host_cat'] = 'search'\n",
    "df_flat.loc[df_flat['properties.$first_referrer_host'].str.contains(\"google\",na=False),'properties.$first_referrer_host_cat'] = 'search'\n",
    "df_flat.loc[df_flat['properties.$first_referrer_host'].str.contains(\"bing\",na=False),'properties.$first_referrer_host_cat'] = 'search'\n",
    "df_flat.loc[df_flat['properties.$first_referrer_host'].str.contains(\"sina\",na=False),'properties.$first_referrer_host_cat'] = 'content'\n",
    "df_flat.loc[df_flat['properties.$first_referrer_host'].str.contains(\"zhihu\",na=False),'properties.$first_referrer_host_cat'] = 'content'\n",
    "df_flat.loc[df_flat['properties.$first_referrer_host'].str.contains(\"36kr\",na=False),'properties.$first_referrer_host_cat'] = 'content'\n",
    "df_flat.loc[df_flat['properties.$first_referrer_host'].str.contains(\"toutiao\",na=False),'properties.$first_referrer_host_cat'] = 'content'\n",
    "df_flat.loc[df_flat['properties.$first_referrer_host'].str.contains(\"blog\",na=False),'properties.$first_referrer_host_cat'] = 'content'\n",
    "df_flat.loc[df_flat['properties.$first_referrer_host'].str.contains(\"mail\",na=False),'properties.$first_referrer_host_cat'] = 'content'\n",
    "df_flat.loc[df_flat['properties.$first_referrer_host'].str.contains(\"qq\",na=False),'properties.$first_referrer_host_cat'] = 'content'\n",
    "df_flat.loc[df_flat['properties.$first_referrer_host'].str.contains(\"sensors\",na=False),'properties.$first_referrer_host_cat'] = 'sensors'"
   ]
  },
  {
   "cell_type": "code",
   "execution_count": 31,
   "metadata": {
    "collapsed": true
   },
   "outputs": [],
   "source": [
    "df_flat.loc[~df_flat['properties.$first_referrer_host_cat'].isin(['search','sensors','content']) & ~pd.isnull(df_flat['properties.$first_referrer_host_cat']),'properties.$first_referrer_host_cat']='other'"
   ]
  },
  {
   "cell_type": "code",
   "execution_count": 32,
   "metadata": {
    "collapsed": true
   },
   "outputs": [],
   "source": [
    "df_flat['properties.$latest_referrer_host_cat'] = df_flat['properties.$latest_referrer_host']\n",
    "df_flat.loc[df_flat['properties.$latest_referrer_host'].str.contains(\"baidu\",na=False),'properties.$latest_referrer_host_cat'] = 'search'\n",
    "df_flat.loc[df_flat['properties.$latest_referrer_host'].str.contains(\"sogou\",na=False),'properties.$latest_referrer_host_cat'] = 'search'\n",
    "df_flat.loc[df_flat['properties.$latest_referrer_host'].str.contains(\"google\",na=False),'properties.$latest_referrer_host_cat'] = 'search'\n",
    "df_flat.loc[df_flat['properties.$latest_referrer_host'].str.contains(\"bing\",na=False),'properties.$latest_referrer_host_cat'] = 'search'\n",
    "df_flat.loc[df_flat['properties.$latest_referrer_host'].str.contains(\"sina\",na=False),'properties.$latest_referrer_host_cat'] = 'content'\n",
    "df_flat.loc[df_flat['properties.$latest_referrer_host'].str.contains(\"zhihu\",na=False),'properties.$latest_referrer_host_cat'] = 'content'\n",
    "df_flat.loc[df_flat['properties.$latest_referrer_host'].str.contains(\"36kr\",na=False),'properties.$latest_referrer_host_cat'] = 'content'\n",
    "df_flat.loc[df_flat['properties.$latest_referrer_host'].str.contains(\"toutiao\",na=False),'properties.$latest_referrer_host_cat'] = 'content'\n",
    "df_flat.loc[df_flat['properties.$latest_referrer_host'].str.contains(\"blog\",na=False),'properties.$latest_referrer_host_cat'] = 'content'\n",
    "df_flat.loc[df_flat['properties.$latest_referrer_host'].str.contains(\"mail\",na=False),'properties.$latest_referrer_host_cat'] = 'content'\n",
    "df_flat.loc[df_flat['properties.$latest_referrer_host'].str.contains(\"qq\",na=False),'properties.$latest_referrer_host_cat'] = 'content'\n",
    "df_flat.loc[df_flat['properties.$latest_referrer_host'].str.contains(\"sensors\",na=False),'properties.$latest_referrer_host_cat'] = 'sensors'"
   ]
  },
  {
   "cell_type": "code",
   "execution_count": 33,
   "metadata": {
    "collapsed": true
   },
   "outputs": [],
   "source": [
    "df_flat.loc[~df_flat['properties.$latest_referrer_host_cat'].isin(['search','sensors','content']) & ~pd.isnull(df_flat['properties.$latest_referrer_host_cat']),'properties.$latest_referrer_host_cat']='other'"
   ]
  },
  {
   "cell_type": "code",
   "execution_count": 34,
   "metadata": {
    "collapsed": true
   },
   "outputs": [],
   "source": [
    "df_flat['properties.$latest_utm_source_cat'] = df_flat['properties.$latest_utm_source']\n",
    "df_flat.loc[df_flat['properties.$latest_utm_source'].str.contains(\"baidu\",na=False),'properties.$latest_utm_source_cat'] = 'search'\n",
    "df_flat.loc[df_flat['properties.$latest_utm_source'].str.contains(\"sogou\",na=False),'properties.$latest_utm_source_cat'] = 'search'\n",
    "df_flat.loc[df_flat['properties.$latest_utm_source'].str.contains(\"google\",na=False),'properties.$latest_utm_source_cat'] = 'search'\n",
    "df_flat.loc[df_flat['properties.$latest_utm_source'].str.contains(\"bing\",na=False),'properties.$latest_utm_source'] = 'search'\n",
    "df_flat.loc[df_flat['properties.$latest_utm_source'].str.contains(\"sina\",na=False),'properties.$latest_utm_source_cat'] = 'content'\n",
    "df_flat.loc[df_flat['properties.$latest_utm_source'].str.contains(\"zhihu\",na=False),'properties.$latest_utm_source_cat'] = 'content'\n",
    "df_flat.loc[df_flat['properties.$latest_utm_source'].str.contains(\"36kr\",na=False),'properties.$latest_utm_source_cat'] = 'content'\n",
    "df_flat.loc[df_flat['properties.$latest_utm_source'].str.contains(\"toutiao\",na=False),'properties.$latest_utm_source_cat'] = 'content'\n",
    "df_flat.loc[df_flat['properties.$latest_utm_source'].str.contains(\"blog\",na=False),'properties.$latest_utm_source_cat'] = 'content'\n",
    "df_flat.loc[df_flat['properties.$latest_utm_source'].str.contains(\"mail\",na=False),'properties.$latest_utm_source_cat'] = 'content'\n",
    "df_flat.loc[df_flat['properties.$latest_utm_source'].str.contains(\"qq\",na=False),'properties.$latest_utm_source_cat'] = 'social'\n",
    "df_flat.loc[df_flat['properties.$latest_utm_source'].str.contains(\"wechat\",na=False),'properties.$latest_utm_source_cat'] = 'social'\n",
    "df_flat.loc[df_flat['properties.$latest_utm_source'].str.contains(\"weibo\",na=False),'properties.$latest_utm_source_cat'] = 'social'"
   ]
  },
  {
   "cell_type": "code",
   "execution_count": 35,
   "metadata": {
    "collapsed": true
   },
   "outputs": [],
   "source": [
    "df_flat.loc[~df_flat['properties.$latest_utm_source_cat'].isin(['search','social','content']) & ~pd.isnull(df_flat['properties.$latest_utm_source_cat']),'properties.$latest_utm_source_cat']='other'"
   ]
  },
  {
   "cell_type": "code",
   "execution_count": 36,
   "metadata": {
    "collapsed": true
   },
   "outputs": [],
   "source": [
    "df_flat['properties.$latest_utm_campaign_cat'] = df_flat['properties.$latest_utm_campaign']\n",
    "df_flat.loc[df_flat['properties.$latest_utm_campaign'].str.contains(\"通用词\",na=False),'properties.$latest_utm_campaign_cat'] = '通用词'\n",
    "df_flat.loc[~df_flat['properties.$latest_utm_campaign_cat'].isin([\"通用词\",\"品牌词\",\"神策-移动推广\"]) & ~pd.isnull(df_flat['properties.$latest_utm_campaign_cat']),'properties.$latest_utm_campaign_cat']='other'"
   ]
  },
  {
   "cell_type": "code",
   "execution_count": 37,
   "metadata": {},
   "outputs": [
    {
     "data": {
      "text/plain": [
       "NaN        35189\n",
       "通用词        24490\n",
       "品牌词        11929\n",
       "other       2486\n",
       "神策-移动推广      998\n",
       "Name: properties.$latest_utm_campaign_cat, dtype: int64"
      ]
     },
     "execution_count": 37,
     "metadata": {},
     "output_type": "execute_result"
    }
   ],
   "source": [
    "df_flat['properties.$latest_utm_campaign_cat'].value_counts(dropna=False)"
   ]
  },
  {
   "cell_type": "code",
   "execution_count": 38,
   "metadata": {
    "collapsed": true
   },
   "outputs": [],
   "source": [
    "df_flat['properties.$latest_utm_medium_cat'] = df_flat['properties.$latest_utm_medium']\n",
    "df_flat.loc[~df_flat['properties.$latest_utm_medium_cat'].isin([\"cpc\",\"mcpc\",'mfeed']) & ~pd.isnull(df_flat['properties.$latest_utm_medium_cat']),'properties.$latest_utm_medium_cat']='other'"
   ]
  },
  {
   "cell_type": "code",
   "execution_count": 39,
   "metadata": {},
   "outputs": [
    {
     "data": {
      "text/plain": [
       "NaN      35401\n",
       "cpc      34623\n",
       "mcpc      3255\n",
       "mfeed      934\n",
       "other      879\n",
       "Name: properties.$latest_utm_medium_cat, dtype: int64"
      ]
     },
     "execution_count": 39,
     "metadata": {},
     "output_type": "execute_result"
    }
   ],
   "source": [
    "df_flat['properties.$latest_utm_medium_cat'].value_counts(dropna=False)"
   ]
  },
  {
   "cell_type": "code",
   "execution_count": 40,
   "metadata": {
    "collapsed": true
   },
   "outputs": [],
   "source": [
    "df_flat['properties.$latest_utm_content0'] = df_flat['properties.$latest_utm_content'].str.split('-').str[0]\n",
    "df_flat.loc[df_flat['properties.$latest_utm_content0'].str.contains(\"通用\",na=False),'properties.$latest_utm_content_cat'] = '通用'\n",
    "df_flat.loc[df_flat['properties.$latest_utm_content0'].str.contains(\"品牌\",na=False),'properties.$latest_utm_content_cat'] = '品牌'\n",
    "df_flat.loc[~df_flat['properties.$latest_utm_content_cat'].isin([\"通用\",\"品牌\"]) & ~pd.isnull(df_flat['properties.$latest_utm_content_cat']),'properties.$latest_utm_content_cat']='other'"
   ]
  },
  {
   "cell_type": "code",
   "execution_count": 41,
   "metadata": {},
   "outputs": [
    {
     "data": {
      "text/plain": [
       "NaN    36405\n",
       "通用     26426\n",
       "品牌     12261\n",
       "Name: properties.$latest_utm_content_cat, dtype: int64"
      ]
     },
     "execution_count": 41,
     "metadata": {},
     "output_type": "execute_result"
    }
   ],
   "source": [
    "df_flat['properties.$latest_utm_content_cat'].value_counts(dropna=False)"
   ]
  },
  {
   "cell_type": "code",
   "execution_count": 42,
   "metadata": {
    "collapsed": true
   },
   "outputs": [],
   "source": [
    "df_flat['properties.$latest_utm_term_isna'] = np.where(pd.isnull(df_flat['properties.$latest_utm_term']),1,0)\n",
    "df_flat['properties.$latest_utm_term_shence'] = np.where(df_flat['properties.$latest_utm_term'].str.contains(\"神策\",na=False),1,0)\n",
    "df_flat['properties.$latest_utm_term_shuju'] = np.where(df_flat['properties.$latest_utm_term'].str.contains(\"数据\",na=False),1,0)\n",
    "df_flat['properties.$latest_utm_term_fenxi'] = np.where(df_flat['properties.$latest_utm_term'].str.contains(\"分析\",na=False),1,0)"
   ]
  },
  {
   "cell_type": "code",
   "execution_count": 43,
   "metadata": {},
   "outputs": [
    {
     "data": {
      "text/plain": [
       "(11936, 17067, 13093)"
      ]
     },
     "execution_count": 43,
     "metadata": {},
     "output_type": "execute_result"
    }
   ],
   "source": [
    "(df_flat['properties.$latest_utm_term_shence'].sum(),df_flat['properties.$latest_utm_term_shuju'].sum(),df_flat['properties.$latest_utm_term_fenxi'].sum())"
   ]
  },
  {
   "cell_type": "code",
   "execution_count": 44,
   "metadata": {
    "collapsed": true
   },
   "outputs": [],
   "source": [
    "df_flat['properties.$model_cat'] = df_flat['properties.$model']\n",
    "df_flat.loc[df_flat['properties.$model'].str.contains('na',na=False),'properties.$model_cat']=np.nan\n",
    "df_flat.loc[~df_flat['properties.$model_cat'].isin(['pc','mac']) & ~pd.isnull(df_flat['properties.$model_cat']),'properties.$model_cat']='other'"
   ]
  },
  {
   "cell_type": "code",
   "execution_count": 45,
   "metadata": {
    "collapsed": true
   },
   "outputs": [],
   "source": [
    "df_flat['properties.$os_cat'] = df_flat['properties.$os']\n",
    "df_flat.loc[df_flat['properties.$os'].str.contains('na',na=False),'properties.$os_cat']=np.nan"
   ]
  },
  {
   "cell_type": "code",
   "execution_count": 46,
   "metadata": {
    "collapsed": true
   },
   "outputs": [],
   "source": [
    "df_flat['properties.$referrer_host_cat'] = df_flat['properties.$referrer_host']\n",
    "df_flat.loc[df_flat['properties.$referrer_host'].str.contains(\"baidu\",na=False),'properties.$referrer_host_cat'] = 'search'\n",
    "df_flat.loc[df_flat['properties.$referrer_host'].str.contains(\"sogou\",na=False),'properties.$referrer_host_cat'] = 'search'\n",
    "df_flat.loc[df_flat['properties.$referrer_host'].str.contains(\"google\",na=False),'properties.$referrer_host_cat'] = 'search'\n",
    "df_flat.loc[df_flat['properties.$referrer_host'].str.contains(\"bing\",na=False),'properties.$referrer_host_cat'] = 'search'\n",
    "df_flat.loc[df_flat['properties.$referrer_host'].str.contains(\"sina\",na=False),'properties.$referrer_host_cat'] = 'content'\n",
    "df_flat.loc[df_flat['properties.$referrer_host'].str.contains(\"zhihu\",na=False),'properties.$referrer_host_cat'] = 'content'\n",
    "df_flat.loc[df_flat['properties.$referrer_host'].str.contains(\"36kr\",na=False),'properties.$referrer_host_cat'] = 'content'\n",
    "df_flat.loc[df_flat['properties.$referrer_host'].str.contains(\"toutiao\",na=False),'properties.$referrer_host_cat'] = 'content'\n",
    "df_flat.loc[df_flat['properties.$referrer_host'].str.contains(\"blog\",na=False),'properties.$referrer_host_cat'] = 'content'\n",
    "df_flat.loc[df_flat['properties.$referrer_host'].str.contains(\"mail\",na=False),'properties.$referrer_host_cat'] = 'content'\n",
    "df_flat.loc[df_flat['properties.$referrer_host'].str.contains(\"qq\",na=False),'properties.$referrer_host_cat'] = 'content'\n",
    "df_flat.loc[df_flat['properties.$referrer_host'].str.contains(\"sensors\",na=False),'properties.$referrer_host_cat'] = 'sensors'"
   ]
  },
  {
   "cell_type": "code",
   "execution_count": 47,
   "metadata": {
    "collapsed": true
   },
   "outputs": [],
   "source": [
    "df_flat.loc[~df_flat['properties.$referrer_host_cat'].isin(['search','sensors','content']) & ~pd.isnull(df_flat['properties.$referrer_host_cat']),'properties.$referrer_host_cat']='other'"
   ]
  },
  {
   "cell_type": "code",
   "execution_count": 48,
   "metadata": {
    "collapsed": true
   },
   "outputs": [],
   "source": [
    "df_flat['screen'] = df_flat['properties.$screen_width']*df_flat['properties.$screen_height']"
   ]
  },
  {
   "cell_type": "code",
   "execution_count": 49,
   "metadata": {
    "collapsed": true
   },
   "outputs": [],
   "source": [
    "df_flat['properties.$url_path_cat'] = df_flat['properties.$url_path']\n",
    "df_flat.loc[df_flat['properties.$url_path'].str.contains(\"demo\",na=False),'properties.$url_path_cat'] = 'demo'\n",
    "df_flat.loc[df_flat['properties.$url_path'].str.contains(\"manual\",na=False),'properties.$url_path_cat'] = 'manual'\n",
    "df_flat.loc[df_flat['properties.$url_path'].str.contains(\"product\",na=False),'properties.$url_path_cat'] = 'product'\n",
    "df_flat.loc[df_flat['properties.$url_path'].str.contains(\"courses\",na=False),'properties.$url_path_cat'] = 'courses'\n",
    "df_flat.loc[df_flat['properties.$url_path'].str.contains(\"b-round\",na=False),'properties.$url_path_cat'] = 'b-round'"
   ]
  },
  {
   "cell_type": "code",
   "execution_count": 50,
   "metadata": {
    "collapsed": true
   },
   "outputs": [],
   "source": [
    "#df_flat['properties.$url_path_cat'].value_counts(dropna=False)"
   ]
  },
  {
   "cell_type": "code",
   "execution_count": 51,
   "metadata": {
    "collapsed": true
   },
   "outputs": [],
   "source": [
    "df_flat.loc[~df_flat['properties.$url_path_cat'].isin(['demo','manual','product','courses','b-round']) & ~pd.isnull(df_flat['properties.$url_path_cat']),'properties.$url_path_cat']='other'"
   ]
  },
  {
   "cell_type": "code",
   "execution_count": 52,
   "metadata": {
    "collapsed": true
   },
   "outputs": [],
   "source": [
    "#df_flat.groupby('distinct_id')['properties.company'].value_counts(dropna=False)\n",
    "df_flat['prop_session_referrer_host_cat'] = df_flat['properties._session_referrer_host']\n",
    "df_flat.loc[df_flat['properties._session_referrer_host'].str.contains(\"baidu\",na=False),'prop_session_referrer_host_cat'] = 'search'\n",
    "df_flat.loc[df_flat['properties._session_referrer_host'].str.contains(\"sogou\",na=False),'prop_session_referrer_host_cat'] = 'search'\n",
    "df_flat.loc[df_flat['properties._session_referrer_host'].str.contains(\"google\",na=False),'prop_session_referrer_host_cat'] = 'search'\n",
    "df_flat.loc[df_flat['properties._session_referrer_host'].str.contains(\"bing\",na=False),'prop_session_referrer_host_cat'] = 'search'\n",
    "df_flat.loc[df_flat['properties._session_referrer_host'].str.contains(\"sina\",na=False),'prop_session_referrer_host_cat'] = 'content'\n",
    "df_flat.loc[df_flat['properties._session_referrer_host'].str.contains(\"zhihu\",na=False),'prop_session_referrer_host_cat'] = 'content'\n",
    "df_flat.loc[df_flat['properties._session_referrer_host'].str.contains(\"36kr\",na=False),'prop_session_referrer_host_cat'] = 'content'\n",
    "df_flat.loc[df_flat['properties._session_referrer_host'].str.contains(\"toutiao\",na=False),'prop_session_referrer_host_cat'] = 'content'\n",
    "df_flat.loc[df_flat['properties._session_referrer_host'].str.contains(\"blog\",na=False),'prop_session_referrer_host_cat'] = 'content'\n",
    "df_flat.loc[df_flat['properties._session_referrer_host'].str.contains(\"mail\",na=False),'prop_session_referrer_host_cat'] = 'content'\n",
    "df_flat.loc[df_flat['properties._session_referrer_host'].str.contains(\"qq\",na=False),'prop_session_referrer_host_cat'] = 'content'\n",
    "df_flat.loc[df_flat['properties._session_referrer_host'].str.contains(\"sensors\",na=False),'prop_session_referrer_host_cat'] = 'sensors'"
   ]
  },
  {
   "cell_type": "code",
   "execution_count": 53,
   "metadata": {
    "collapsed": true
   },
   "outputs": [],
   "source": [
    "df_flat.loc[~df_flat['prop_session_referrer_host_cat'].isin(['search','sensors','content']) & ~pd.isnull(df_flat['prop_session_referrer_host_cat']),'prop_session_referrer_host_cat']='other'"
   ]
  },
  {
   "cell_type": "code",
   "execution_count": 54,
   "metadata": {
    "collapsed": true
   },
   "outputs": [],
   "source": [
    "df_flat['properties.result_cat'] = df_flat['properties.result']\n",
    "df_flat.loc[df_flat['properties.result'].isin(['ajax success','正确']),'properties.result_cat']='correct'\n",
    "df_flat.loc[df_flat['properties.result'].isin(['手机号格式错误','验证码错误','没有该号码验证信息','距上次发送时间不到 1 分钟']),'properties.result_cat']='error'"
   ]
  },
  {
   "cell_type": "code",
   "execution_count": 55,
   "metadata": {
    "collapsed": true
   },
   "outputs": [],
   "source": [
    "# the following code is used for test cases\n",
    "#df_flat[['event','type','properties.info','properties.isMsg','properties.isSuccess','properties.name','properties.page'\n",
    "#,'properties.pagePosition','time_date_full','properties.session_page_url']][df_flat['distinct_id']=='006cd710d5641e0b1d1c390c6df54a28a5c0f754'].sort_values(['time_date_full'])\n",
    "#df_flat[['event','type','properties.$is_first_day','properties.$is_first_time','properties.info','properties.isMsg','properties.isSuccess','properties.name','properties.page','properties.pageStayTime','properties.pagePosition','properties.project_name','properties.requestBtn','time','time_date','properties.$latest_utm_campaign','properties.$utm_campaign'\n",
    "#          ,'properties.session_page_url','time_date_full','properties.pageUrl','time_datefull_diffByMinute','NewSession_flag','time_datefull_min','NewSessionBy06']][df_flat['distinct_id']=='018bb247659bf22535ffc94bf91a6af31b964bac'].sort_values(['time_date_full'])\n",
    "\n",
    "# ffba0da231dbced6e7b853c591bd87d0f9676086\n",
    "# 002d8f97faecdd57156c648b3214e6ace810d974\n",
    "# 018bb247659bf22535ffc94bf91a6af31b964bac\n",
    "#df_flat[['event','type','properties.info','properties.$is_first_day','properties.$is_first_time','properties.page','time_date_full','properties.pageUrl','time_datefull_diffByMinute'\n",
    "#         ,'NewSession_flag','time_datefull_min','NewSessionBy06','NewSessionBy07','NewSessionBy08','NewSessionBy09','NewSessionBy10'\n",
    "#        ,'NewSessionBy11','NewSessionBy12','NewSessionBy13','NewSessionBy14']][df_flat['distinct_id']=='018bb247659bf22535ffc94bf91a6af31b964bac'].sort_values(['time_date_full'])\n",
    "\n",
    "#condition = (df_flat['type'] == 'profile_set_once')\n",
    "#df_flat.drop(df_flat[condition].index,inplace=True)\n",
    "#df_flat[,['time_date']]\n",
    "\n",
    "#df_flat.groupby('distinct_id')['time_datefull_diffByMinute'].value_counts(dropna=False)"
   ]
  },
  {
   "cell_type": "code",
   "execution_count": 56,
   "metadata": {
    "collapsed": true
   },
   "outputs": [],
   "source": [
    "df_flat['time_datefull_diff'] = df_flat[df_flat['type'] == 'track'].sort_values(['distinct_id','time_date_full']).groupby('distinct_id')['time_date_full'].diff()\n",
    "df_flat['time_datefull_diffbyMS']= df_flat['time_datefull_diff'] / pd.Timedelta('1 ms') \n",
    "df_flat['time_datefull_diffByMinute']= df_flat['time_datefull_diff'] / pd.Timedelta('1 minute') "
   ]
  },
  {
   "cell_type": "code",
   "execution_count": 57,
   "metadata": {
    "collapsed": true
   },
   "outputs": [],
   "source": [
    "#df_flat['time_datefull_min'] = df_flat.groupby('distinct_id')['time_date_full'].min().\n",
    "df_flat['time_datefull_min'] = df_flat.groupby(['distinct_id'])['time_date_full'].transform('min')"
   ]
  },
  {
   "cell_type": "code",
   "execution_count": 58,
   "metadata": {
    "collapsed": true
   },
   "outputs": [],
   "source": [
    "df_flat['NewSession_flag'] = np.where(df_flat['time_datefull_diffByMinute']>30,1,0)"
   ]
  },
  {
   "cell_type": "code",
   "execution_count": 59,
   "metadata": {
    "collapsed": true
   },
   "outputs": [],
   "source": [
    "df_flat['NewSessionBy06'] = np.where( ((df_flat['time_datefull_diffByMinute']>30) & (df_flat['time_date'] == pd.to_datetime('2017-03-06'))) | (pd.isnull(df_flat['time_datefull_diffByMinute']) & (df_flat['time_date'] == pd.to_datetime('2017-03-06'))) ,1,0)\n",
    "df_flat['NewSessionBy07'] = np.where( ((df_flat['time_datefull_diffByMinute']>30) & (df_flat['time_date'] == pd.to_datetime('2017-03-07'))) | (pd.isnull(df_flat['time_datefull_diffByMinute']) & (df_flat['time_date'] == pd.to_datetime('2017-03-07'))) ,1,0)\n",
    "df_flat['NewSessionBy08'] = np.where( ((df_flat['time_datefull_diffByMinute']>30) & (df_flat['time_date'] == pd.to_datetime('2017-03-08'))) | (pd.isnull(df_flat['time_datefull_diffByMinute']) & (df_flat['time_date'] == pd.to_datetime('2017-03-08'))) ,1,0)\n",
    "df_flat['NewSessionBy09'] = np.where( ((df_flat['time_datefull_diffByMinute']>30) & (df_flat['time_date'] == pd.to_datetime('2017-03-09'))) | (pd.isnull(df_flat['time_datefull_diffByMinute']) & (df_flat['time_date'] == pd.to_datetime('2017-03-09'))) ,1,0)\n",
    "df_flat['NewSessionBy10'] = np.where( ((df_flat['time_datefull_diffByMinute']>30) & (df_flat['time_date'] == pd.to_datetime('2017-03-10'))) | (pd.isnull(df_flat['time_datefull_diffByMinute']) & (df_flat['time_date'] == pd.to_datetime('2017-03-10'))) ,1,0)\n",
    "df_flat['NewSessionBy11'] = np.where( ((df_flat['time_datefull_diffByMinute']>30) & (df_flat['time_date'] == pd.to_datetime('2017-03-11'))) | (pd.isnull(df_flat['time_datefull_diffByMinute']) & (df_flat['time_date'] == pd.to_datetime('2017-03-11'))) ,1,0)\n",
    "df_flat['NewSessionBy12'] = np.where( ((df_flat['time_datefull_diffByMinute']>30) & (df_flat['time_date'] == pd.to_datetime('2017-03-12'))) | (pd.isnull(df_flat['time_datefull_diffByMinute']) & (df_flat['time_date'] == pd.to_datetime('2017-03-12'))) ,1,0)\n",
    "df_flat['NewSessionBy13'] = np.where( ((df_flat['time_datefull_diffByMinute']>30) & (df_flat['time_date'] == pd.to_datetime('2017-03-13'))) | (pd.isnull(df_flat['time_datefull_diffByMinute']) & (df_flat['time_date'] == pd.to_datetime('2017-03-13'))) ,1,0)\n",
    "df_flat['NewSessionBy14'] = np.where( ((df_flat['time_datefull_diffByMinute']>30) & (df_flat['time_date'] == pd.to_datetime('2017-03-14'))) | (pd.isnull(df_flat['time_datefull_diffByMinute']) & (df_flat['time_date'] == pd.to_datetime('2017-03-14'))) ,1,0)"
   ]
  },
  {
   "cell_type": "markdown",
   "metadata": {},
   "source": [
    "### EDA"
   ]
  },
  {
   "cell_type": "code",
   "execution_count": 60,
   "metadata": {
    "collapsed": true
   },
   "outputs": [],
   "source": [
    "#number of events by date\n",
    "EventByDay = df_flat[['time_date','event']].groupby('time_date').count()\n",
    "#df_flat.groupby('time_date')['time_date_weekday'].first()"
   ]
  },
  {
   "cell_type": "code",
   "execution_count": 61,
   "metadata": {},
   "outputs": [
    {
     "data": {
      "text/html": [
       "<div>\n",
       "<style>\n",
       "    .dataframe thead tr:only-child th {\n",
       "        text-align: right;\n",
       "    }\n",
       "\n",
       "    .dataframe thead th {\n",
       "        text-align: left;\n",
       "    }\n",
       "\n",
       "    .dataframe tbody tr th {\n",
       "        vertical-align: top;\n",
       "    }\n",
       "</style>\n",
       "<table border=\"1\" class=\"dataframe\">\n",
       "  <thead>\n",
       "    <tr style=\"text-align: right;\">\n",
       "      <th></th>\n",
       "      <th>event</th>\n",
       "    </tr>\n",
       "    <tr>\n",
       "      <th>time_date</th>\n",
       "      <th></th>\n",
       "    </tr>\n",
       "  </thead>\n",
       "  <tbody>\n",
       "    <tr>\n",
       "      <th>2017-03-06</th>\n",
       "      <td>3348</td>\n",
       "    </tr>\n",
       "    <tr>\n",
       "      <th>2017-03-07</th>\n",
       "      <td>9052</td>\n",
       "    </tr>\n",
       "    <tr>\n",
       "      <th>2017-03-08</th>\n",
       "      <td>8484</td>\n",
       "    </tr>\n",
       "    <tr>\n",
       "      <th>2017-03-09</th>\n",
       "      <td>9930</td>\n",
       "    </tr>\n",
       "    <tr>\n",
       "      <th>2017-03-10</th>\n",
       "      <td>8700</td>\n",
       "    </tr>\n",
       "    <tr>\n",
       "      <th>2017-03-11</th>\n",
       "      <td>3227</td>\n",
       "    </tr>\n",
       "    <tr>\n",
       "      <th>2017-03-12</th>\n",
       "      <td>3089</td>\n",
       "    </tr>\n",
       "    <tr>\n",
       "      <th>2017-03-13</th>\n",
       "      <td>9372</td>\n",
       "    </tr>\n",
       "    <tr>\n",
       "      <th>2017-03-14</th>\n",
       "      <td>10471</td>\n",
       "    </tr>\n",
       "  </tbody>\n",
       "</table>\n",
       "</div>"
      ],
      "text/plain": [
       "            event\n",
       "time_date        \n",
       "2017-03-06   3348\n",
       "2017-03-07   9052\n",
       "2017-03-08   8484\n",
       "2017-03-09   9930\n",
       "2017-03-10   8700\n",
       "2017-03-11   3227\n",
       "2017-03-12   3089\n",
       "2017-03-13   9372\n",
       "2017-03-14  10471"
      ]
     },
     "execution_count": 61,
     "metadata": {},
     "output_type": "execute_result"
    }
   ],
   "source": [
    "EventByDay"
   ]
  },
  {
   "cell_type": "code",
   "execution_count": 62,
   "metadata": {},
   "outputs": [
    {
     "data": {
      "text/plain": [
       "time_date\n",
       "2017-03-06    0.0\n",
       "2017-03-07    1.0\n",
       "2017-03-08    2.0\n",
       "2017-03-09    3.0\n",
       "2017-03-10    4.0\n",
       "2017-03-11    5.0\n",
       "2017-03-12    6.0\n",
       "2017-03-13    0.0\n",
       "2017-03-14    1.0\n",
       "Name: time_date_weekday, dtype: float64"
      ]
     },
     "execution_count": 62,
     "metadata": {},
     "output_type": "execute_result"
    }
   ],
   "source": [
    "df_flat.groupby('time_date')['time_date_weekday'].min()\n",
    "#The day of the week with Monday=0, Sunday=6"
   ]
  },
  {
   "cell_type": "code",
   "execution_count": 63,
   "metadata": {
    "collapsed": true
   },
   "outputs": [],
   "source": [
    "UniqUserByDay = df_flat.groupby('time_date')['distinct_id'].nunique()"
   ]
  },
  {
   "cell_type": "code",
   "execution_count": 64,
   "metadata": {},
   "outputs": [
    {
     "data": {
      "text/plain": [
       "time_date\n",
       "2017-03-06     788\n",
       "2017-03-07    1822\n",
       "2017-03-08    1824\n",
       "2017-03-09    1991\n",
       "2017-03-10    1709\n",
       "2017-03-11     762\n",
       "2017-03-12     793\n",
       "2017-03-13    1978\n",
       "2017-03-14    2036\n",
       "Name: distinct_id, dtype: int64"
      ]
     },
     "execution_count": 64,
     "metadata": {},
     "output_type": "execute_result"
    }
   ],
   "source": [
    "UniqUserByDay"
   ]
  },
  {
   "cell_type": "code",
   "execution_count": 65,
   "metadata": {
    "collapsed": true
   },
   "outputs": [],
   "source": [
    "SessionByDay1 = df_flat[['NewSessionBy06','NewSessionBy07','NewSessionBy08','NewSessionBy09','NewSessionBy10'\n",
    "                        ,'NewSessionBy11','NewSessionBy12','NewSessionBy13','NewSessionBy14']].sum()"
   ]
  },
  {
   "cell_type": "code",
   "execution_count": 66,
   "metadata": {
    "collapsed": true
   },
   "outputs": [],
   "source": [
    "#SessionByDay.index =UniqUserByDay.index\n",
    "SessionByDay = pd.DataFrame(SessionByDay1,columns=['Session'])\n",
    "SessionByDay.reset_index()\n",
    "SessionByDay.index = UniqUserByDay.index\n",
    "#SessionByDay"
   ]
  },
  {
   "cell_type": "code",
   "execution_count": 67,
   "metadata": {
    "collapsed": true
   },
   "outputs": [],
   "source": [
    "df_summary1 = pd.concat([EventByDay,UniqUserByDay,SessionByDay],axis=1)\n",
    "#EventByDay.index\n",
    "#UniqUserByDay.index\n",
    "#SessionByDay.index"
   ]
  },
  {
   "cell_type": "code",
   "execution_count": 68,
   "metadata": {},
   "outputs": [
    {
     "data": {
      "text/html": [
       "<div>\n",
       "<style>\n",
       "    .dataframe thead tr:only-child th {\n",
       "        text-align: right;\n",
       "    }\n",
       "\n",
       "    .dataframe thead th {\n",
       "        text-align: left;\n",
       "    }\n",
       "\n",
       "    .dataframe tbody tr th {\n",
       "        vertical-align: top;\n",
       "    }\n",
       "</style>\n",
       "<table border=\"1\" class=\"dataframe\">\n",
       "  <thead>\n",
       "    <tr style=\"text-align: right;\">\n",
       "      <th></th>\n",
       "      <th>event</th>\n",
       "      <th>distinct_id</th>\n",
       "      <th>Session</th>\n",
       "    </tr>\n",
       "    <tr>\n",
       "      <th>time_date</th>\n",
       "      <th></th>\n",
       "      <th></th>\n",
       "      <th></th>\n",
       "    </tr>\n",
       "  </thead>\n",
       "  <tbody>\n",
       "    <tr>\n",
       "      <th>2017-03-06</th>\n",
       "      <td>3348</td>\n",
       "      <td>788</td>\n",
       "      <td>861</td>\n",
       "    </tr>\n",
       "    <tr>\n",
       "      <th>2017-03-07</th>\n",
       "      <td>9052</td>\n",
       "      <td>1822</td>\n",
       "      <td>2222</td>\n",
       "    </tr>\n",
       "    <tr>\n",
       "      <th>2017-03-08</th>\n",
       "      <td>8484</td>\n",
       "      <td>1824</td>\n",
       "      <td>2241</td>\n",
       "    </tr>\n",
       "    <tr>\n",
       "      <th>2017-03-09</th>\n",
       "      <td>9930</td>\n",
       "      <td>1991</td>\n",
       "      <td>2452</td>\n",
       "    </tr>\n",
       "    <tr>\n",
       "      <th>2017-03-10</th>\n",
       "      <td>8700</td>\n",
       "      <td>1709</td>\n",
       "      <td>2116</td>\n",
       "    </tr>\n",
       "    <tr>\n",
       "      <th>2017-03-11</th>\n",
       "      <td>3227</td>\n",
       "      <td>762</td>\n",
       "      <td>876</td>\n",
       "    </tr>\n",
       "    <tr>\n",
       "      <th>2017-03-12</th>\n",
       "      <td>3089</td>\n",
       "      <td>793</td>\n",
       "      <td>891</td>\n",
       "    </tr>\n",
       "    <tr>\n",
       "      <th>2017-03-13</th>\n",
       "      <td>9372</td>\n",
       "      <td>1978</td>\n",
       "      <td>2473</td>\n",
       "    </tr>\n",
       "    <tr>\n",
       "      <th>2017-03-14</th>\n",
       "      <td>10471</td>\n",
       "      <td>2036</td>\n",
       "      <td>2555</td>\n",
       "    </tr>\n",
       "  </tbody>\n",
       "</table>\n",
       "</div>"
      ],
      "text/plain": [
       "            event  distinct_id  Session\n",
       "time_date                              \n",
       "2017-03-06   3348          788      861\n",
       "2017-03-07   9052         1822     2222\n",
       "2017-03-08   8484         1824     2241\n",
       "2017-03-09   9930         1991     2452\n",
       "2017-03-10   8700         1709     2116\n",
       "2017-03-11   3227          762      876\n",
       "2017-03-12   3089          793      891\n",
       "2017-03-13   9372         1978     2473\n",
       "2017-03-14  10471         2036     2555"
      ]
     },
     "execution_count": 68,
     "metadata": {},
     "output_type": "execute_result"
    }
   ],
   "source": [
    "df_summary1"
   ]
  },
  {
   "cell_type": "code",
   "execution_count": 69,
   "metadata": {
    "collapsed": true
   },
   "outputs": [],
   "source": [
    "df_summary1.to_csv('event_id_session.csv')"
   ]
  },
  {
   "cell_type": "code",
   "execution_count": 70,
   "metadata": {},
   "outputs": [
    {
     "data": {
      "text/plain": [
       "<matplotlib.legend.Legend at 0x10a324128>"
      ]
     },
     "execution_count": 70,
     "metadata": {},
     "output_type": "execute_result"
    },
    {
     "data": {
      "image/png": "[encoded data removed]",
      "text/plain": [
       "<matplotlib.figure.Figure at 0x10a33a668>"
      ]
     },
     "metadata": {},
     "output_type": "display_data"
    }
   ],
   "source": [
    "#plt.figure();\n",
    "df_summary1.plot();\n",
    "plt.legend(bbox_to_anchor=(1, 1))"
   ]
  },
  {
   "cell_type": "markdown",
   "metadata": {},
   "source": [
    "#### Events"
   ]
  },
  {
   "cell_type": "code",
   "execution_count": 71,
   "metadata": {
    "collapsed": true
   },
   "outputs": [],
   "source": [
    "# events distribution by day\n",
    "EvtByDay = df_flat.groupby('time_date')['event'].value_counts(dropna=False).unstack()"
   ]
  },
  {
   "cell_type": "code",
   "execution_count": 72,
   "metadata": {},
   "outputs": [
    {
     "data": {
      "text/html": [
       "<div>\n",
       "<style>\n",
       "    .dataframe thead tr:only-child th {\n",
       "        text-align: right;\n",
       "    }\n",
       "\n",
       "    .dataframe thead th {\n",
       "        text-align: left;\n",
       "    }\n",
       "\n",
       "    .dataframe tbody tr th {\n",
       "        vertical-align: top;\n",
       "    }\n",
       "</style>\n",
       "<table border=\"1\" class=\"dataframe\">\n",
       "  <thead>\n",
       "    <tr style=\"text-align: right;\">\n",
       "      <th>event</th>\n",
       "      <th>$pageview</th>\n",
       "      <th>about_leave</th>\n",
       "      <th>btnClick</th>\n",
       "      <th>clickSubmit</th>\n",
       "      <th>click_send_cellphone</th>\n",
       "      <th>courses_leave</th>\n",
       "      <th>courses_play_leave</th>\n",
       "      <th>demo_leave</th>\n",
       "      <th>formSubmit</th>\n",
       "      <th>index_leave</th>\n",
       "      <th>page_close</th>\n",
       "      <th>verify_cellphone_code</th>\n",
       "    </tr>\n",
       "    <tr>\n",
       "      <th>time_date</th>\n",
       "      <th></th>\n",
       "      <th></th>\n",
       "      <th></th>\n",
       "      <th></th>\n",
       "      <th></th>\n",
       "      <th></th>\n",
       "      <th></th>\n",
       "      <th></th>\n",
       "      <th></th>\n",
       "      <th></th>\n",
       "      <th></th>\n",
       "      <th></th>\n",
       "    </tr>\n",
       "  </thead>\n",
       "  <tbody>\n",
       "    <tr>\n",
       "      <th>2017-03-06</th>\n",
       "      <td>0.488650</td>\n",
       "      <td>0.019116</td>\n",
       "      <td>0.210573</td>\n",
       "      <td>0.007467</td>\n",
       "      <td>0.008662</td>\n",
       "      <td>0.014038</td>\n",
       "      <td>0.009259</td>\n",
       "      <td>0.058244</td>\n",
       "      <td>0.008961</td>\n",
       "      <td>0.165173</td>\n",
       "      <td>0.002389</td>\n",
       "      <td>0.007467</td>\n",
       "    </tr>\n",
       "    <tr>\n",
       "      <th>2017-03-07</th>\n",
       "      <td>0.492046</td>\n",
       "      <td>0.015908</td>\n",
       "      <td>0.210893</td>\n",
       "      <td>0.009832</td>\n",
       "      <td>0.009280</td>\n",
       "      <td>0.014582</td>\n",
       "      <td>0.013920</td>\n",
       "      <td>0.053027</td>\n",
       "      <td>0.012594</td>\n",
       "      <td>0.155877</td>\n",
       "      <td>0.003204</td>\n",
       "      <td>0.008838</td>\n",
       "    </tr>\n",
       "    <tr>\n",
       "      <th>2017-03-08</th>\n",
       "      <td>0.492928</td>\n",
       "      <td>0.012612</td>\n",
       "      <td>0.202145</td>\n",
       "      <td>0.008133</td>\n",
       "      <td>0.010255</td>\n",
       "      <td>0.013673</td>\n",
       "      <td>0.012848</td>\n",
       "      <td>0.056106</td>\n",
       "      <td>0.011905</td>\n",
       "      <td>0.165252</td>\n",
       "      <td>0.004125</td>\n",
       "      <td>0.010019</td>\n",
       "    </tr>\n",
       "    <tr>\n",
       "      <th>2017-03-09</th>\n",
       "      <td>0.504834</td>\n",
       "      <td>0.014300</td>\n",
       "      <td>0.213897</td>\n",
       "      <td>0.006747</td>\n",
       "      <td>0.008157</td>\n",
       "      <td>0.011883</td>\n",
       "      <td>0.011682</td>\n",
       "      <td>0.050453</td>\n",
       "      <td>0.010675</td>\n",
       "      <td>0.157301</td>\n",
       "      <td>0.003021</td>\n",
       "      <td>0.007049</td>\n",
       "    </tr>\n",
       "    <tr>\n",
       "      <th>2017-03-10</th>\n",
       "      <td>0.485747</td>\n",
       "      <td>0.018621</td>\n",
       "      <td>0.219885</td>\n",
       "      <td>0.007126</td>\n",
       "      <td>0.008736</td>\n",
       "      <td>0.013218</td>\n",
       "      <td>0.007126</td>\n",
       "      <td>0.062414</td>\n",
       "      <td>0.013908</td>\n",
       "      <td>0.151609</td>\n",
       "      <td>0.003218</td>\n",
       "      <td>0.008391</td>\n",
       "    </tr>\n",
       "    <tr>\n",
       "      <th>2017-03-11</th>\n",
       "      <td>0.503564</td>\n",
       "      <td>0.017044</td>\n",
       "      <td>0.206694</td>\n",
       "      <td>0.006817</td>\n",
       "      <td>0.008367</td>\n",
       "      <td>0.021382</td>\n",
       "      <td>0.010536</td>\n",
       "      <td>0.042764</td>\n",
       "      <td>0.009916</td>\n",
       "      <td>0.163000</td>\n",
       "      <td>0.002479</td>\n",
       "      <td>0.007437</td>\n",
       "    </tr>\n",
       "    <tr>\n",
       "      <th>2017-03-12</th>\n",
       "      <td>0.507931</td>\n",
       "      <td>0.012949</td>\n",
       "      <td>0.191648</td>\n",
       "      <td>0.007770</td>\n",
       "      <td>0.007122</td>\n",
       "      <td>0.015539</td>\n",
       "      <td>0.015215</td>\n",
       "      <td>0.031078</td>\n",
       "      <td>0.012625</td>\n",
       "      <td>0.189382</td>\n",
       "      <td>0.001942</td>\n",
       "      <td>0.006798</td>\n",
       "    </tr>\n",
       "    <tr>\n",
       "      <th>2017-03-13</th>\n",
       "      <td>0.502988</td>\n",
       "      <td>0.016752</td>\n",
       "      <td>0.209774</td>\n",
       "      <td>0.007682</td>\n",
       "      <td>0.008963</td>\n",
       "      <td>0.011844</td>\n",
       "      <td>0.010350</td>\n",
       "      <td>0.047695</td>\n",
       "      <td>0.010990</td>\n",
       "      <td>0.159838</td>\n",
       "      <td>0.004161</td>\n",
       "      <td>0.008963</td>\n",
       "    </tr>\n",
       "    <tr>\n",
       "      <th>2017-03-14</th>\n",
       "      <td>0.496705</td>\n",
       "      <td>0.015376</td>\n",
       "      <td>0.217267</td>\n",
       "      <td>0.007927</td>\n",
       "      <td>0.010505</td>\n",
       "      <td>0.014325</td>\n",
       "      <td>0.011938</td>\n",
       "      <td>0.051093</td>\n",
       "      <td>0.013848</td>\n",
       "      <td>0.146882</td>\n",
       "      <td>0.004489</td>\n",
       "      <td>0.009646</td>\n",
       "    </tr>\n",
       "  </tbody>\n",
       "</table>\n",
       "</div>"
      ],
      "text/plain": [
       "event       $pageview  about_leave  btnClick  clickSubmit  \\\n",
       "time_date                                                   \n",
       "2017-03-06   0.488650     0.019116  0.210573     0.007467   \n",
       "2017-03-07   0.492046     0.015908  0.210893     0.009832   \n",
       "2017-03-08   0.492928     0.012612  0.202145     0.008133   \n",
       "2017-03-09   0.504834     0.014300  0.213897     0.006747   \n",
       "2017-03-10   0.485747     0.018621  0.219885     0.007126   \n",
       "2017-03-11   0.503564     0.017044  0.206694     0.006817   \n",
       "2017-03-12   0.507931     0.012949  0.191648     0.007770   \n",
       "2017-03-13   0.502988     0.016752  0.209774     0.007682   \n",
       "2017-03-14   0.496705     0.015376  0.217267     0.007927   \n",
       "\n",
       "event       click_send_cellphone  courses_leave  courses_play_leave  \\\n",
       "time_date                                                             \n",
       "2017-03-06              0.008662       0.014038            0.009259   \n",
       "2017-03-07              0.009280       0.014582            0.013920   \n",
       "2017-03-08              0.010255       0.013673            0.012848   \n",
       "2017-03-09              0.008157       0.011883            0.011682   \n",
       "2017-03-10              0.008736       0.013218            0.007126   \n",
       "2017-03-11              0.008367       0.021382            0.010536   \n",
       "2017-03-12              0.007122       0.015539            0.015215   \n",
       "2017-03-13              0.008963       0.011844            0.010350   \n",
       "2017-03-14              0.010505       0.014325            0.011938   \n",
       "\n",
       "event       demo_leave  formSubmit  index_leave  page_close  \\\n",
       "time_date                                                     \n",
       "2017-03-06    0.058244    0.008961     0.165173    0.002389   \n",
       "2017-03-07    0.053027    0.012594     0.155877    0.003204   \n",
       "2017-03-08    0.056106    0.011905     0.165252    0.004125   \n",
       "2017-03-09    0.050453    0.010675     0.157301    0.003021   \n",
       "2017-03-10    0.062414    0.013908     0.151609    0.003218   \n",
       "2017-03-11    0.042764    0.009916     0.163000    0.002479   \n",
       "2017-03-12    0.031078    0.012625     0.189382    0.001942   \n",
       "2017-03-13    0.047695    0.010990     0.159838    0.004161   \n",
       "2017-03-14    0.051093    0.013848     0.146882    0.004489   \n",
       "\n",
       "event       verify_cellphone_code  \n",
       "time_date                          \n",
       "2017-03-06               0.007467  \n",
       "2017-03-07               0.008838  \n",
       "2017-03-08               0.010019  \n",
       "2017-03-09               0.007049  \n",
       "2017-03-10               0.008391  \n",
       "2017-03-11               0.007437  \n",
       "2017-03-12               0.006798  \n",
       "2017-03-13               0.008963  \n",
       "2017-03-14               0.009646  "
      ]
     },
     "execution_count": 72,
     "metadata": {},
     "output_type": "execute_result"
    }
   ],
   "source": [
    "EvtByDay2 = EvtByDay.copy()\n",
    "EvtByDay2.divide(EvtByDay.sum(axis=1),axis=0)\n",
    "# top 2 events are pageview and btnlick"
   ]
  },
  {
   "cell_type": "code",
   "execution_count": 73,
   "metadata": {
    "collapsed": true
   },
   "outputs": [],
   "source": [
    "EvtByDay2['other'] = EvtByDay2[EvtByDay2.columns.difference(['$pageview','btnClick'])].sum(axis=1)"
   ]
  },
  {
   "cell_type": "code",
   "execution_count": 74,
   "metadata": {
    "collapsed": true
   },
   "outputs": [],
   "source": [
    "EvtBarPlot = EvtByDay2[['$pageview','btnClick','other']]"
   ]
  },
  {
   "cell_type": "code",
   "execution_count": 75,
   "metadata": {
    "collapsed": true
   },
   "outputs": [],
   "source": [
    "EvtBarPlot.to_csv('EventBarPlot.csv')"
   ]
  },
  {
   "cell_type": "code",
   "execution_count": 76,
   "metadata": {},
   "outputs": [
    {
     "data": {
      "text/plain": [
       "<matplotlib.legend.Legend at 0x129ed5278>"
      ]
     },
     "execution_count": 76,
     "metadata": {},
     "output_type": "execute_result"
    },
    {
     "data": {
      "image/png": "[encoded data removed]",
      "text/plain": [
       "<matplotlib.figure.Figure at 0x129f0c7b8>"
      ]
     },
     "metadata": {},
     "output_type": "display_data"
    }
   ],
   "source": [
    "EvtBarPlot.plot.bar(stacked=True)\n",
    "plt.legend(bbox_to_anchor=(1, 1))"
   ]
  },
  {
   "cell_type": "code",
   "execution_count": 77,
   "metadata": {
    "collapsed": true
   },
   "outputs": [],
   "source": [
    "# users with one event by day\n",
    "temp = df_flat.groupby(['time_date','distinct_id'])['event'].nunique()"
   ]
  },
  {
   "cell_type": "code",
   "execution_count": 78,
   "metadata": {
    "collapsed": true
   },
   "outputs": [],
   "source": [
    "temp1 = temp[temp==1]"
   ]
  },
  {
   "cell_type": "code",
   "execution_count": 79,
   "metadata": {
    "collapsed": true
   },
   "outputs": [],
   "source": [
    "res = temp1.index.get_level_values(0).value_counts()"
   ]
  },
  {
   "cell_type": "code",
   "execution_count": 80,
   "metadata": {},
   "outputs": [
    {
     "data": {
      "text/plain": [
       "2017-03-06    0.398477\n",
       "2017-03-07    0.339188\n",
       "2017-03-08    0.375548\n",
       "2017-03-09    0.355600\n",
       "2017-03-10    0.370392\n",
       "2017-03-11    0.375328\n",
       "2017-03-12    0.397226\n",
       "2017-03-13    0.380688\n",
       "2017-03-14    0.373772\n",
       "dtype: float64"
      ]
     },
     "execution_count": 80,
     "metadata": {},
     "output_type": "execute_result"
    }
   ],
   "source": [
    "(res.sort_index(ascending=True)/UniqUserByDay)"
   ]
  },
  {
   "cell_type": "code",
   "execution_count": 81,
   "metadata": {},
   "outputs": [
    {
     "data": {
      "text/plain": [
       "count    9.000000\n",
       "mean     0.374024\n",
       "std      0.018544\n",
       "min      0.339188\n",
       "25%      0.370392\n",
       "50%      0.375328\n",
       "75%      0.380688\n",
       "max      0.398477\n",
       "dtype: float64"
      ]
     },
     "execution_count": 81,
     "metadata": {},
     "output_type": "execute_result"
    }
   ],
   "source": [
    "(res.sort_index(ascending=True)/UniqUserByDay).describe()"
   ]
  },
  {
   "cell_type": "markdown",
   "metadata": {},
   "source": [
    "#### New User vs Exp User"
   ]
  },
  {
   "cell_type": "code",
   "execution_count": 82,
   "metadata": {},
   "outputs": [
    {
     "data": {
      "text/plain": [
       "2017-03-06    0.772843\n",
       "2017-03-07    0.698683\n",
       "2017-03-08    0.707237\n",
       "2017-03-09    0.713209\n",
       "2017-03-10    0.655354\n",
       "2017-03-11    0.787402\n",
       "2017-03-12    0.770492\n",
       "2017-03-13    0.635490\n",
       "2017-03-14    0.672888\n",
       "dtype: float64"
      ]
     },
     "execution_count": 82,
     "metadata": {},
     "output_type": "execute_result"
    }
   ],
   "source": [
    "# checking new user rate by day\n",
    "temp = df_flat.groupby(['time_date','distinct_id'])['properties.$is_first_day'].first()\n",
    "temp1 = temp[temp==True]\n",
    "temp1.index.get_level_values(0).value_counts()/UniqUserByDay"
   ]
  },
  {
   "cell_type": "code",
   "execution_count": 83,
   "metadata": {},
   "outputs": [
    {
     "data": {
      "text/plain": [
       "count    9.000000\n",
       "mean     0.712622\n",
       "std      0.054312\n",
       "min      0.635490\n",
       "25%      0.672888\n",
       "50%      0.707237\n",
       "75%      0.770492\n",
       "max      0.787402\n",
       "dtype: float64"
      ]
     },
     "execution_count": 83,
     "metadata": {},
     "output_type": "execute_result"
    }
   ],
   "source": [
    "(temp1.index.get_level_values(0).value_counts()/UniqUserByDay).describe()"
   ]
  },
  {
   "cell_type": "code",
   "execution_count": 84,
   "metadata": {
    "collapsed": true
   },
   "outputs": [],
   "source": [
    "NewUserByDay = temp1.index.get_level_values(0).value_counts()\n",
    "ExpUserByDay = UniqUserByDay - NewUserByDay\n",
    "NewUserByDay.name = 'New'\n",
    "ExpUserByDay.name = 'Exp'"
   ]
  },
  {
   "cell_type": "code",
   "execution_count": 85,
   "metadata": {},
   "outputs": [
    {
     "data": {
      "text/plain": [
       "<matplotlib.axes._subplots.AxesSubplot at 0x129e1c358>"
      ]
     },
     "execution_count": 85,
     "metadata": {},
     "output_type": "execute_result"
    },
    {
     "data": {
      "image/png": "[encoded data removed]",
      "text/plain": [
       "<matplotlib.figure.Figure at 0x129e1a438>"
      ]
     },
     "metadata": {},
     "output_type": "display_data"
    }
   ],
   "source": [
    "res = pd.concat([NewUserByDay,ExpUserByDay],axis=1)\n",
    "res.plot(kind='bar',stacked=True,figsize=(6,5))"
   ]
  },
  {
   "cell_type": "code",
   "execution_count": 86,
   "metadata": {
    "collapsed": true
   },
   "outputs": [],
   "source": [
    "res.to_csv('new_exp.csv')"
   ]
  },
  {
   "cell_type": "markdown",
   "metadata": {},
   "source": [
    "#### Avg Session Time Per User"
   ]
  },
  {
   "cell_type": "code",
   "execution_count": 87,
   "metadata": {
    "collapsed": true
   },
   "outputs": [],
   "source": [
    "id_list = df_flat['distinct_id'].unique()\n",
    "dict_session = {}\n",
    "for i in id_list:\n",
    "    dict_session[i] = []\n",
    "#dict_session\n",
    "\n",
    "for item in id_list:\n",
    "    #print (item)\n",
    "    temp = (df_flat['time_date_full'][df_flat['distinct_id']==item].sort_values().diff())/pd.Timedelta('1 minute')\n",
    "    cum_sum = 0\n",
    "    for i in temp:\n",
    "        #print (i)\n",
    "        if np.isnan(i):\n",
    "            continue\n",
    "        elif i<=30:\n",
    "            cum_sum = cum_sum+i\n",
    "        else:\n",
    "            dict_session[item].append(cum_sum)\n",
    "            cum_sum = 0\n",
    "    dict_session[item].append(cum_sum)"
   ]
  },
  {
   "cell_type": "code",
   "execution_count": 88,
   "metadata": {
    "collapsed": true
   },
   "outputs": [],
   "source": [
    "dict_AvgSessionTime={}\n",
    "for i in dict_session:\n",
    "    temp = [x for x in dict_session[i] if x>0]\n",
    "    if len(temp)>0:\n",
    "        dict_AvgSessionTime[i] = np.mean(temp)\n",
    "    else:\n",
    "        dict_AvgSessionTime[i] = np.nan\n",
    "#dict_AvgSessionTime   "
   ]
  },
  {
   "cell_type": "code",
   "execution_count": 89,
   "metadata": {
    "collapsed": true
   },
   "outputs": [],
   "source": [
    "df_avgSession = pd.DataFrame.from_dict(dict_AvgSessionTime,orient='index')\n",
    "df_avgSession.columns = ['AvgSessionTime_perUser']\n",
    "#df_avgSession"
   ]
  },
  {
   "cell_type": "code",
   "execution_count": 90,
   "metadata": {},
   "outputs": [
    {
     "data": {
      "text/html": [
       "<div>\n",
       "<style>\n",
       "    .dataframe thead tr:only-child th {\n",
       "        text-align: right;\n",
       "    }\n",
       "\n",
       "    .dataframe thead th {\n",
       "        text-align: left;\n",
       "    }\n",
       "\n",
       "    .dataframe tbody tr th {\n",
       "        vertical-align: top;\n",
       "    }\n",
       "</style>\n",
       "<table border=\"1\" class=\"dataframe\">\n",
       "  <thead>\n",
       "    <tr style=\"text-align: right;\">\n",
       "      <th></th>\n",
       "      <th>AvgSessionTime_perUser</th>\n",
       "    </tr>\n",
       "  </thead>\n",
       "  <tbody>\n",
       "    <tr>\n",
       "      <th>count</th>\n",
       "      <td>7952.000000</td>\n",
       "    </tr>\n",
       "    <tr>\n",
       "      <th>mean</th>\n",
       "      <td>3.854404</td>\n",
       "    </tr>\n",
       "    <tr>\n",
       "      <th>std</th>\n",
       "      <td>7.317563</td>\n",
       "    </tr>\n",
       "    <tr>\n",
       "      <th>min</th>\n",
       "      <td>0.000017</td>\n",
       "    </tr>\n",
       "    <tr>\n",
       "      <th>25%</th>\n",
       "      <td>0.142708</td>\n",
       "    </tr>\n",
       "    <tr>\n",
       "      <th>50%</th>\n",
       "      <td>0.635933</td>\n",
       "    </tr>\n",
       "    <tr>\n",
       "      <th>75%</th>\n",
       "      <td>3.781544</td>\n",
       "    </tr>\n",
       "    <tr>\n",
       "      <th>max</th>\n",
       "      <td>90.387000</td>\n",
       "    </tr>\n",
       "  </tbody>\n",
       "</table>\n",
       "</div>"
      ],
      "text/plain": [
       "       AvgSessionTime_perUser\n",
       "count             7952.000000\n",
       "mean                 3.854404\n",
       "std                  7.317563\n",
       "min                  0.000017\n",
       "25%                  0.142708\n",
       "50%                  0.635933\n",
       "75%                  3.781544\n",
       "max                 90.387000"
      ]
     },
     "execution_count": 90,
     "metadata": {},
     "output_type": "execute_result"
    }
   ],
   "source": [
    "df_avgSession.describe()"
   ]
  },
  {
   "cell_type": "code",
   "execution_count": 91,
   "metadata": {},
   "outputs": [
    {
     "data": {
      "text/plain": [
       "array([[<matplotlib.axes._subplots.AxesSubplot object at 0x129e12d68>]], dtype=object)"
      ]
     },
     "execution_count": 91,
     "metadata": {},
     "output_type": "execute_result"
    },
    {
     "data": {
      "image/png": "[encoded data removed]",
      "text/plain": [
       "<matplotlib.figure.Figure at 0x129ed0438>"
      ]
     },
     "metadata": {},
     "output_type": "display_data"
    }
   ],
   "source": [
    "df_avgSession.hist(bins=30)"
   ]
  },
  {
   "cell_type": "code",
   "execution_count": 92,
   "metadata": {},
   "outputs": [
    {
     "data": {
      "text/plain": [
       "count    11756.000000\n",
       "mean         6.387547\n",
       "std         10.440768\n",
       "min          1.000000\n",
       "25%          2.000000\n",
       "50%          3.000000\n",
       "75%          6.000000\n",
       "max        254.000000\n",
       "Name: event, dtype: float64"
      ]
     },
     "execution_count": 92,
     "metadata": {},
     "output_type": "execute_result"
    }
   ],
   "source": [
    "# number of events per user\n",
    "eventPerUser = df_flat.groupby('distinct_id')['event'].size()\n",
    "eventPerUser.describe()"
   ]
  },
  {
   "cell_type": "code",
   "execution_count": 93,
   "metadata": {},
   "outputs": [
    {
     "data": {
      "text/plain": [
       "<matplotlib.axes._subplots.AxesSubplot at 0x129e0f2e8>"
      ]
     },
     "execution_count": 93,
     "metadata": {},
     "output_type": "execute_result"
    },
    {
     "data": {
      "image/png": "[encoded data removed]",
      "text/plain": [
       "<matplotlib.figure.Figure at 0x12a144f60>"
      ]
     },
     "metadata": {},
     "output_type": "display_data"
    }
   ],
   "source": [
    "eventPerUser.hist(bins=20)"
   ]
  },
  {
   "cell_type": "code",
   "execution_count": 94,
   "metadata": {
    "collapsed": true
   },
   "outputs": [],
   "source": [
    "uniqEventPerUser = df_flat.groupby('distinct_id')['event'].nunique()"
   ]
  },
  {
   "cell_type": "code",
   "execution_count": 95,
   "metadata": {},
   "outputs": [
    {
     "data": {
      "text/plain": [
       "count    11756.00000\n",
       "mean         2.40490\n",
       "std          1.66022\n",
       "min          0.00000\n",
       "25%          1.00000\n",
       "50%          2.00000\n",
       "75%          3.00000\n",
       "max         11.00000\n",
       "Name: event, dtype: float64"
      ]
     },
     "execution_count": 95,
     "metadata": {},
     "output_type": "execute_result"
    }
   ],
   "source": [
    "uniqEventPerUser.describe()"
   ]
  },
  {
   "cell_type": "markdown",
   "metadata": {},
   "source": [
    "### Change Event data to User Level Data"
   ]
  },
  {
   "cell_type": "code",
   "execution_count": 96,
   "metadata": {
    "collapsed": true
   },
   "outputs": [],
   "source": [
    "df_id = df_flat['distinct_id'].value_counts(dropna=False)\n",
    "df_user = pd.DataFrame(df_id)\n",
    "df_user.columns = ['freq']"
   ]
  },
  {
   "cell_type": "code",
   "execution_count": 97,
   "metadata": {
    "collapsed": true
   },
   "outputs": [],
   "source": [
    "df_idByEvent = df_flat.groupby('distinct_id').event.value_counts(dropna=False)\n",
    "df_event = df_idByEvent.unstack()\n",
    "df_event.columns = df_event.columns.fillna('is_na')\n",
    "df_event.drop('is_na',axis=1,inplace=True)"
   ]
  },
  {
   "cell_type": "code",
   "execution_count": 98,
   "metadata": {},
   "outputs": [
    {
     "data": {
      "text/plain": [
       "Index(['$pageview', 'about_leave', 'btnClick', 'clickSubmit',\n",
       "       'click_send_cellphone', 'courses_leave', 'courses_play_leave',\n",
       "       'demo_leave', 'formSubmit', 'index_leave', 'page_close',\n",
       "       'verify_cellphone_code'],\n",
       "      dtype='object', name='event')"
      ]
     },
     "execution_count": 98,
     "metadata": {},
     "output_type": "execute_result"
    }
   ],
   "source": [
    "df_event.columns"
   ]
  },
  {
   "cell_type": "code",
   "execution_count": 99,
   "metadata": {
    "collapsed": true
   },
   "outputs": [],
   "source": [
    "df_idByUniqEvent = df_flat.groupby('distinct_id').event.nunique()"
   ]
  },
  {
   "cell_type": "code",
   "execution_count": 100,
   "metadata": {},
   "outputs": [
    {
     "data": {
      "text/plain": [
       "2.404899625723035"
      ]
     },
     "execution_count": 100,
     "metadata": {},
     "output_type": "execute_result"
    }
   ],
   "source": [
    "df_idByUniqEvent.mean()"
   ]
  },
  {
   "cell_type": "code",
   "execution_count": 101,
   "metadata": {
    "collapsed": true
   },
   "outputs": [],
   "source": [
    "df_time = df_flat.groupby('distinct_id').agg({'time_date_full':['min','max'],\n",
    "                                              'time_date_toNow':['max'],\n",
    "                                              'time_datefull_diffbyMS':['min','max','mean'],\n",
    "                                              'time_datefull_diffByMinute':['min','max','mean']})\n",
    "df_time.columns = ['_'.join(col).strip() for col in df_time.columns.values]\n",
    "df_time['time_durationByMS'] = (df_time['time_date_full_max'] - df_time['time_date_full_min'])/pd.Timedelta('1 ms')"
   ]
  },
  {
   "cell_type": "code",
   "execution_count": 102,
   "metadata": {},
   "outputs": [
    {
     "name": "stderr",
     "output_type": "stream",
     "text": [
      "/Users/qingfenghu/anaconda/envs/py36/lib/python3.6/site-packages/pandas/core/groupby.py:3081: FutureWarning: In the future, NAT != NAT will be True rather than False.\n",
      "  inc = np.r_[1, val[1:] != val[:-1]]\n"
     ]
    }
   ],
   "source": [
    "df_days_uniq = df_flat.groupby('distinct_id')['time_date'].nunique()\n",
    "df_return_flg = df_flat.groupby('distinct_id')['return_1day_flg'].max()"
   ]
  },
  {
   "cell_type": "code",
   "execution_count": 103,
   "metadata": {},
   "outputs": [
    {
     "data": {
      "text/plain": [
       "0.8919700578428037"
      ]
     },
     "execution_count": 103,
     "metadata": {},
     "output_type": "execute_result"
    }
   ],
   "source": [
    "len(df_days_uniq[df_days_uniq==1].index)/df_flat['distinct_id'].nunique()"
   ]
  },
  {
   "cell_type": "code",
   "execution_count": 104,
   "metadata": {},
   "outputs": [
    {
     "data": {
      "text/plain": [
       "1    10486\n",
       "2      804\n",
       "3      231\n",
       "4       86\n",
       "5       54\n",
       "0       48\n",
       "6       32\n",
       "7       10\n",
       "8        5\n",
       "Name: time_date, dtype: int64"
      ]
     },
     "execution_count": 104,
     "metadata": {},
     "output_type": "execute_result"
    }
   ],
   "source": [
    "df_days_uniq.value_counts(dropna=False)\n",
    "#90% users have one and done visit, only 10% come back for a second visit(or more visits) on different day"
   ]
  },
  {
   "cell_type": "code",
   "execution_count": 105,
   "metadata": {},
   "outputs": [
    {
     "data": {
      "text/plain": [
       "0.10394692072133378"
      ]
     },
     "execution_count": 105,
     "metadata": {},
     "output_type": "execute_result"
    }
   ],
   "source": [
    "df_return_flg.sum()/df_flat['distinct_id'].nunique()"
   ]
  },
  {
   "cell_type": "code",
   "execution_count": 106,
   "metadata": {
    "collapsed": true
   },
   "outputs": [],
   "source": [
    "df_session = df_flat.groupby('distinct_id')['NewSession_flag'].sum() +1"
   ]
  },
  {
   "cell_type": "code",
   "execution_count": 107,
   "metadata": {},
   "outputs": [
    {
     "data": {
      "text/plain": [
       "count    11756.000000\n",
       "mean         1.423528\n",
       "std          1.430311\n",
       "min          1.000000\n",
       "25%          1.000000\n",
       "50%          1.000000\n",
       "75%          1.000000\n",
       "max         31.000000\n",
       "Name: NewSession_flag, dtype: float64"
      ]
     },
     "execution_count": 107,
     "metadata": {},
     "output_type": "execute_result"
    }
   ],
   "source": [
    "df_session.describe()"
   ]
  },
  {
   "cell_type": "code",
   "execution_count": 108,
   "metadata": {
    "collapsed": true
   },
   "outputs": [],
   "source": [
    "df_sessionfreq = df_flat[['distinct_id','NewSession_flag','time_date_full','time_datefull_min']].copy()"
   ]
  },
  {
   "cell_type": "code",
   "execution_count": 109,
   "metadata": {
    "collapsed": true
   },
   "outputs": [],
   "source": [
    "df_sessionfreq['flag2'] = df_sessionfreq['NewSession_flag']\n",
    "df_sessionfreq.loc[df_sessionfreq['time_date_full']==df_sessionfreq['time_datefull_min'],'flag2']=1"
   ]
  },
  {
   "cell_type": "code",
   "execution_count": 110,
   "metadata": {
    "collapsed": true
   },
   "outputs": [],
   "source": [
    "sorted_session = df_sessionfreq[df_sessionfreq['NewSession_flag']==1].sort_values(['distinct_id','time_date_full'])"
   ]
  },
  {
   "cell_type": "code",
   "execution_count": 111,
   "metadata": {
    "collapsed": true
   },
   "outputs": [],
   "source": [
    "sorted_session['difference'] = df_sessionfreq[df_sessionfreq['NewSession_flag']==1].sort_values(['distinct_id','time_date_full']).groupby('distinct_id')['time_date_full'].diff()/pd.Timedelta('1 minute')"
   ]
  },
  {
   "cell_type": "code",
   "execution_count": 112,
   "metadata": {
    "collapsed": true
   },
   "outputs": [],
   "source": [
    "sorted_session.loc[pd.isnull(sorted_session['difference']),'difference'] = (sorted_session['time_date_full'] - sorted_session['time_datefull_min'])/pd.Timedelta('1 minute')"
   ]
  },
  {
   "cell_type": "code",
   "execution_count": 113,
   "metadata": {},
   "outputs": [
    {
     "data": {
      "text/plain": [
       "count     4979.000000\n",
       "mean      1158.459464\n",
       "std       1845.704817\n",
       "min         30.003650\n",
       "25%         90.341925\n",
       "50%        278.672450\n",
       "75%       1334.244175\n",
       "max      11542.784483\n",
       "Name: difference, dtype: float64"
      ]
     },
     "execution_count": 113,
     "metadata": {},
     "output_type": "execute_result"
    }
   ],
   "source": [
    "sorted_session['difference'].describe()"
   ]
  },
  {
   "cell_type": "code",
   "execution_count": 114,
   "metadata": {
    "collapsed": true
   },
   "outputs": [],
   "source": [
    "df_first_time = df_flat.groupby('distinct_id').agg({'properties.$first_visit_time_date':[min],\n",
    "                                              'properties.$first_visit_time_toNow':[min],\n",
    "                                              'properties.$first_visit_time_weekday':[min]})"
   ]
  },
  {
   "cell_type": "code",
   "execution_count": 115,
   "metadata": {
    "collapsed": true
   },
   "outputs": [],
   "source": [
    "#df_time.columns = df.columns.get_level_values(0)\n",
    "df_first_time.columns = ['_'.join(col).strip() for col in df_first_time.columns.values]"
   ]
  },
  {
   "cell_type": "code",
   "execution_count": 116,
   "metadata": {
    "collapsed": true
   },
   "outputs": [],
   "source": [
    "df_idbyerror=df_flat.groupby('distinct_id')['jssdk_error'].value_counts(dropna=False)\n",
    "df_error = pd.DataFrame(df_idbyerror.unstack().fillna(0))\n",
    "df_error = df_error['cookieNotEnable']"
   ]
  },
  {
   "cell_type": "code",
   "execution_count": 117,
   "metadata": {
    "collapsed": true
   },
   "outputs": [],
   "source": [
    "df_browser = df_flat.groupby('distinct_id')['properties.$browser_cat'].first()"
   ]
  },
  {
   "cell_type": "code",
   "execution_count": 118,
   "metadata": {
    "collapsed": true
   },
   "outputs": [],
   "source": [
    "df_broswer_language = df_flat.groupby('distinct_id')['properties.$first_browser_language0'].first()"
   ]
  },
  {
   "cell_type": "code",
   "execution_count": 119,
   "metadata": {
    "collapsed": true
   },
   "outputs": [],
   "source": [
    "df_first_day = df_flat.groupby('distinct_id')['properties.$is_first_day'].first()"
   ]
  },
  {
   "cell_type": "code",
   "execution_count": 120,
   "metadata": {
    "collapsed": true
   },
   "outputs": [],
   "source": [
    "df_first_time = df_flat.groupby('distinct_id')['properties.$is_first_time'].first()"
   ]
  },
  {
   "cell_type": "code",
   "execution_count": 121,
   "metadata": {
    "collapsed": true
   },
   "outputs": [],
   "source": [
    "df_ip = df_flat.groupby('distinct_id')['properties.$ip'].first()\n",
    "df_ip = df_ip.astype(str)"
   ]
  },
  {
   "cell_type": "code",
   "execution_count": 122,
   "metadata": {
    "collapsed": true
   },
   "outputs": [],
   "source": [
    "from geolite2 import geolite2\n",
    "geo = geolite2.reader()"
   ]
  },
  {
   "cell_type": "code",
   "execution_count": 123,
   "metadata": {
    "collapsed": true
   },
   "outputs": [],
   "source": [
    "def get_country(ip):\n",
    "    try:\n",
    "        x = geo.get(ip)\n",
    "    except ValueError:\n",
    "        return pd.np.nan\n",
    "    try:\n",
    "        return x['country']['names']['en'] if x else pd.np.nan\n",
    "    except KeyError:\n",
    "        return pd.np.nan"
   ]
  },
  {
   "cell_type": "code",
   "execution_count": 124,
   "metadata": {
    "collapsed": true
   },
   "outputs": [],
   "source": [
    "def get_province(ip):\n",
    "    try:\n",
    "        x = geo.get(ip)\n",
    "    except ValueError:\n",
    "        return pd.np.nan\n",
    "    try:\n",
    "        return x['subdivisions'][0]['names']['en'] if x else pd.np.nan\n",
    "    except KeyError:\n",
    "        return pd.np.nan"
   ]
  },
  {
   "cell_type": "code",
   "execution_count": 125,
   "metadata": {
    "collapsed": true
   },
   "outputs": [],
   "source": [
    "df_country=df_ip.apply(get_country)\n",
    "df_province=df_ip.apply(get_province)"
   ]
  },
  {
   "cell_type": "code",
   "execution_count": 126,
   "metadata": {
    "collapsed": true
   },
   "outputs": [],
   "source": [
    "df_country.name = \"country\"\n",
    "df_province.name=\"province\""
   ]
  },
  {
   "cell_type": "code",
   "execution_count": 127,
   "metadata": {
    "collapsed": true
   },
   "outputs": [],
   "source": [
    "def df_sub_generator(x):\n",
    "    temp = df_flat.groupby('distinct_id')[x].value_counts(dropna=False)\n",
    "    temp_cat = pd.DataFrame(temp.unstack().fillna(0))\n",
    "    temp_cat.columns = temp_cat.columns.fillna('is_na')\n",
    "    temp_cat.drop('is_na',axis=1,inplace=True)\n",
    "    temp_cat.columns = [x + '_'+ str(col) for col in temp_cat.columns.values]\n",
    "    return temp_cat"
   ]
  },
  {
   "cell_type": "code",
   "execution_count": 128,
   "metadata": {
    "collapsed": true
   },
   "outputs": [],
   "source": [
    "df_first_refer_host_cat = df_sub_generator('properties.$first_referrer_host_cat')  "
   ]
  },
  {
   "cell_type": "code",
   "execution_count": 129,
   "metadata": {
    "collapsed": true
   },
   "outputs": [],
   "source": [
    "df_first_rhc_uniq_cnt = df_flat.groupby('distinct_id')['properties.$first_referrer_host'].nunique()"
   ]
  },
  {
   "cell_type": "code",
   "execution_count": 130,
   "metadata": {
    "collapsed": true
   },
   "outputs": [],
   "source": [
    "df_latest_refer_host_cat = df_sub_generator('properties.$latest_referrer_host_cat')  "
   ]
  },
  {
   "cell_type": "code",
   "execution_count": 131,
   "metadata": {
    "collapsed": true
   },
   "outputs": [],
   "source": [
    "df_latest_rhc_uniq_cnt = df_flat.groupby('distinct_id')['properties.$latest_referrer_host'].nunique()"
   ]
  },
  {
   "cell_type": "code",
   "execution_count": 132,
   "metadata": {
    "collapsed": true
   },
   "outputs": [],
   "source": [
    "#df_latest_rhc_uniq_cnt.max()\n",
    "#df_latest_rhc_uniq_cnt[df_latest_rhc_uniq_cnt>=2]\n",
    "#df_flat[['event','properties.$latest_referrer_host','time_date','properties.$referrer_host']][df_flat['distinct_id']=='085172088e5ff0d4286261c015d5027c2a4de1dd']"
   ]
  },
  {
   "cell_type": "code",
   "execution_count": 133,
   "metadata": {
    "collapsed": true
   },
   "outputs": [],
   "source": [
    "df_latest_utm_source_cat = df_sub_generator('properties.$latest_utm_source_cat')  "
   ]
  },
  {
   "cell_type": "code",
   "execution_count": 134,
   "metadata": {
    "collapsed": true
   },
   "outputs": [],
   "source": [
    "df_latest_utm_source_uniq_cnt = df_flat.groupby('distinct_id')['properties.$latest_utm_source_cat'].nunique()"
   ]
  },
  {
   "cell_type": "code",
   "execution_count": 135,
   "metadata": {
    "collapsed": true
   },
   "outputs": [],
   "source": [
    "df_latest_utm_campaign_cat = df_sub_generator('properties.$latest_utm_campaign_cat')  "
   ]
  },
  {
   "cell_type": "code",
   "execution_count": 136,
   "metadata": {
    "collapsed": true
   },
   "outputs": [],
   "source": [
    "df_latest_utm_campaign_uniq_cnt = df_flat.groupby('distinct_id')['properties.$latest_utm_campaign_cat'].nunique()"
   ]
  },
  {
   "cell_type": "code",
   "execution_count": 137,
   "metadata": {
    "collapsed": true
   },
   "outputs": [],
   "source": [
    "df_latest_utm_medium_cat = df_sub_generator('properties.$latest_utm_medium_cat')  "
   ]
  },
  {
   "cell_type": "code",
   "execution_count": 138,
   "metadata": {
    "collapsed": true
   },
   "outputs": [],
   "source": [
    "df_latest_utm_medium_uniq_cnt = df_flat.groupby('distinct_id')['properties.$latest_utm_medium_cat'].nunique()"
   ]
  },
  {
   "cell_type": "code",
   "execution_count": 139,
   "metadata": {
    "collapsed": true
   },
   "outputs": [],
   "source": [
    "df_latest_utm_content_cat = df_sub_generator('properties.$latest_utm_content_cat')  "
   ]
  },
  {
   "cell_type": "code",
   "execution_count": 140,
   "metadata": {
    "collapsed": true
   },
   "outputs": [],
   "source": [
    "df_latest_utm_content_uniq_cnt = df_flat.groupby('distinct_id')['properties.$latest_utm_content_cat'].nunique()"
   ]
  },
  {
   "cell_type": "code",
   "execution_count": 141,
   "metadata": {
    "collapsed": true
   },
   "outputs": [],
   "source": [
    "df_shence=df_flat.groupby('distinct_id')['properties.$latest_utm_term_shence'].value_counts(dropna=False).unstack()\n",
    "df_shence.columns = ['latest_utm_term_shence' + '_'+ str(col) for col in df_shence.columns.values]\n",
    "df_shence.drop('latest_utm_term_shence_0',axis=1,inplace=True)\n",
    "df_shence=df_shence.fillna(0)"
   ]
  },
  {
   "cell_type": "code",
   "execution_count": 142,
   "metadata": {
    "collapsed": true
   },
   "outputs": [],
   "source": [
    "df_shuju=df_flat.groupby('distinct_id')['properties.$latest_utm_term_shuju'].value_counts(dropna=False).unstack()\n",
    "df_shuju.columns = ['latest_utm_term_shuju' + '_'+ str(col) for col in df_shuju.columns.values]\n",
    "df_shuju.drop('latest_utm_term_shuju_0',axis=1,inplace=True)\n",
    "df_shuju=df_shuju.fillna(0)"
   ]
  },
  {
   "cell_type": "code",
   "execution_count": 143,
   "metadata": {
    "collapsed": true
   },
   "outputs": [],
   "source": [
    "df_fenxi=df_flat.groupby('distinct_id')['properties.$latest_utm_term_fenxi'].value_counts(dropna=False).unstack()\n",
    "df_fenxi.columns = ['latest_utm_term_fenxi' + '_'+ str(col) for col in df_fenxi.columns.values]\n",
    "df_fenxi.drop('latest_utm_term_fenxi_0',axis=1,inplace=True)\n",
    "df_fenxi=df_fenxi.fillna(0)"
   ]
  },
  {
   "cell_type": "code",
   "execution_count": 144,
   "metadata": {
    "collapsed": true
   },
   "outputs": [],
   "source": [
    "df_model = df_sub_generator('properties.$model_cat')"
   ]
  },
  {
   "cell_type": "code",
   "execution_count": 145,
   "metadata": {
    "collapsed": true
   },
   "outputs": [],
   "source": [
    "df_os = df_sub_generator('properties.$os_cat')"
   ]
  },
  {
   "cell_type": "code",
   "execution_count": 146,
   "metadata": {
    "collapsed": true
   },
   "outputs": [],
   "source": [
    "df_referrer_host_cat = df_sub_generator('properties.$referrer_host_cat')"
   ]
  },
  {
   "cell_type": "code",
   "execution_count": 147,
   "metadata": {
    "collapsed": true
   },
   "outputs": [],
   "source": [
    "df_screen = df_flat.groupby('distinct_id')['screen'].first()"
   ]
  },
  {
   "cell_type": "code",
   "execution_count": 148,
   "metadata": {
    "collapsed": true
   },
   "outputs": [],
   "source": [
    "df_url_path_cat = df_sub_generator('properties.$url_path_cat')"
   ]
  },
  {
   "cell_type": "code",
   "execution_count": 149,
   "metadata": {
    "collapsed": true
   },
   "outputs": [],
   "source": [
    "df_session_refer_host_cat = df_sub_generator('prop_session_referrer_host_cat')"
   ]
  },
  {
   "cell_type": "code",
   "execution_count": 150,
   "metadata": {
    "collapsed": true
   },
   "outputs": [],
   "source": [
    "df_info = df_flat.groupby('distinct_id')['properties.info'].any()\n",
    "df_company = df_flat.groupby('distinct_id')['properties.company'].any()\n",
    "df_contact = df_flat.groupby('distinct_id')['properties.contact'].any()\n",
    "df_email = df_flat.groupby('distinct_id')['properties.email'].any()\n",
    "df_isMsg = df_flat.groupby('distinct_id')['properties.isMsg'].any()\n",
    "df_isSuccess = df_flat.groupby('distinct_id')['properties.isSuccess'].any()"
   ]
  },
  {
   "cell_type": "code",
   "execution_count": 151,
   "metadata": {
    "collapsed": true
   },
   "outputs": [],
   "source": [
    "df_name = df_flat.groupby('distinct_id')['properties.name'].nunique()"
   ]
  },
  {
   "cell_type": "code",
   "execution_count": 152,
   "metadata": {
    "collapsed": true
   },
   "outputs": [],
   "source": [
    "df_name_request = df_sub_generator('properties.name_request')"
   ]
  },
  {
   "cell_type": "code",
   "execution_count": 153,
   "metadata": {
    "collapsed": true
   },
   "outputs": [],
   "source": [
    "df_name_request_uniq = df_flat.groupby('distinct_id')['properties.name_request'].nunique()"
   ]
  },
  {
   "cell_type": "code",
   "execution_count": 154,
   "metadata": {
    "collapsed": true
   },
   "outputs": [],
   "source": [
    "df_unique_page=df_flat.groupby('distinct_id')['properties.page'].nunique()"
   ]
  },
  {
   "cell_type": "code",
   "execution_count": 155,
   "metadata": {
    "collapsed": true
   },
   "outputs": [],
   "source": [
    "df_page = df_sub_generator('properties.page')"
   ]
  },
  {
   "cell_type": "code",
   "execution_count": 156,
   "metadata": {
    "collapsed": true
   },
   "outputs": [],
   "source": [
    "df_page_position = df_flat.groupby('distinct_id')['properties.pagePosition'].nunique()"
   ]
  },
  {
   "cell_type": "code",
   "execution_count": 157,
   "metadata": {
    "collapsed": true
   },
   "outputs": [],
   "source": [
    "df_flat['pagePosition_str'] = df_flat['properties.pagePosition'].astype(str)"
   ]
  },
  {
   "cell_type": "code",
   "execution_count": 158,
   "metadata": {
    "collapsed": true
   },
   "outputs": [],
   "source": [
    "#pd.get_dummies(df_flat['pagePosition_str'],prefix='pagePos')"
   ]
  },
  {
   "cell_type": "code",
   "execution_count": 159,
   "metadata": {
    "collapsed": true
   },
   "outputs": [],
   "source": [
    "df_pageStayTime_max = df_flat.groupby('distinct_id')['properties.pageStayTime'].max()\n",
    "df_pageStayTime_min = df_flat.groupby('distinct_id')['properties.pageStayTime'].min()\n",
    "df_pageStayTime_avg = df_flat.groupby('distinct_id')['properties.pageStayTime'].mean()"
   ]
  },
  {
   "cell_type": "code",
   "execution_count": 160,
   "metadata": {
    "collapsed": true
   },
   "outputs": [],
   "source": [
    "df_pageStayTime_final = pd.DataFrame({'pageStayTime_max':df_pageStayTime_max,\n",
    "                      'pageStayTime_min': df_pageStayTime_min,\n",
    "                      'pageStayTime_avg': df_pageStayTime_avg})"
   ]
  },
  {
   "cell_type": "code",
   "execution_count": 161,
   "metadata": {
    "collapsed": true
   },
   "outputs": [],
   "source": [
    "df_requestBtn = df_flat.groupby('distinct_id')['properties.requestBtn'].nunique()"
   ]
  },
  {
   "cell_type": "code",
   "execution_count": 162,
   "metadata": {
    "collapsed": true
   },
   "outputs": [],
   "source": [
    "df_requestBtn_pos = df_sub_generator('properties.requestBtn')"
   ]
  },
  {
   "cell_type": "code",
   "execution_count": 163,
   "metadata": {
    "collapsed": true
   },
   "outputs": [],
   "source": [
    "df_result_cnt = df_flat.groupby('distinct_id')['properties.result'].nunique()"
   ]
  },
  {
   "cell_type": "code",
   "execution_count": 164,
   "metadata": {
    "collapsed": true
   },
   "outputs": [],
   "source": [
    "df_result = df_sub_generator('properties.result_cat')"
   ]
  },
  {
   "cell_type": "code",
   "execution_count": 165,
   "metadata": {
    "collapsed": true
   },
   "outputs": [],
   "source": [
    "df_verify =  df_flat.groupby('distinct_id')['properties.verification_code'].nunique()"
   ]
  },
  {
   "cell_type": "code",
   "execution_count": 166,
   "metadata": {
    "collapsed": true
   },
   "outputs": [],
   "source": [
    "df_final = pd.concat([df_user,df_idByUniqEvent,df_event,df_session,df_avgSession,df_time,df_error,df_browser,df_broswer_language\n",
    "                      ,df_days_uniq,df_return_flg,df_first_day,df_first_time,df_country,df_province,df_first_refer_host_cat\n",
    "                      ,df_latest_refer_host_cat,df_latest_rhc_uniq_cnt\n",
    "                      ,df_latest_utm_source_cat,df_latest_utm_source_uniq_cnt\n",
    "                      ,df_latest_utm_campaign_cat,df_latest_utm_campaign_uniq_cnt\n",
    "                      ,df_latest_utm_medium_cat, df_latest_utm_medium_uniq_cnt\n",
    "                      ,df_latest_utm_content_cat, df_latest_utm_content_uniq_cnt\n",
    "                      ,df_shence,df_shuju,df_fenxi,df_model,df_os,df_referrer_host_cat,df_screen,df_url_path_cat\n",
    "                      ,df_session_refer_host_cat,df_info,df_company,df_contact,df_email,df_isMsg,df_isSuccess,df_name\n",
    "                      ,df_name_request,df_name_request_uniq,df_unique_page,df_page,df_page_position,df_pageStayTime_final\n",
    "                      ,df_requestBtn, df_result_cnt,df_result,df_verify],axis=1)"
   ]
  },
  {
   "cell_type": "code",
   "execution_count": 167,
   "metadata": {},
   "outputs": [
    {
     "data": {
      "text/plain": [
       "array(['freq', 'event', '$pageview', 'about_leave', 'btnClick',\n",
       "       'clickSubmit', 'click_send_cellphone', 'courses_leave',\n",
       "       'courses_play_leave', 'demo_leave', 'formSubmit', 'index_leave',\n",
       "       'page_close', 'verify_cellphone_code', 'NewSession_flag',\n",
       "       'AvgSessionTime_perUser', 'time_date_full_min',\n",
       "       'time_date_full_max', 'time_date_toNow_max',\n",
       "       'time_datefull_diffbyMS_min', 'time_datefull_diffbyMS_max',\n",
       "       'time_datefull_diffbyMS_mean', 'time_datefull_diffByMinute_min',\n",
       "       'time_datefull_diffByMinute_max', 'time_datefull_diffByMinute_mean',\n",
       "       'time_durationByMS', 'cookieNotEnable', 'properties.$browser_cat',\n",
       "       'properties.$first_browser_language0', 'time_date',\n",
       "       'return_1day_flg', 'properties.$is_first_day',\n",
       "       'properties.$is_first_time', 'country', 'province',\n",
       "       'properties.$first_referrer_host_cat_content',\n",
       "       'properties.$first_referrer_host_cat_other',\n",
       "       'properties.$first_referrer_host_cat_search',\n",
       "       'properties.$first_referrer_host_cat_sensors',\n",
       "       'properties.$latest_referrer_host_cat_content',\n",
       "       'properties.$latest_referrer_host_cat_other',\n",
       "       'properties.$latest_referrer_host_cat_search',\n",
       "       'properties.$latest_referrer_host_cat_sensors',\n",
       "       'properties.$latest_referrer_host',\n",
       "       'properties.$latest_utm_source_cat_content',\n",
       "       'properties.$latest_utm_source_cat_other',\n",
       "       'properties.$latest_utm_source_cat_search',\n",
       "       'properties.$latest_utm_source_cat_social',\n",
       "       'properties.$latest_utm_source_cat',\n",
       "       'properties.$latest_utm_campaign_cat_other',\n",
       "       'properties.$latest_utm_campaign_cat_品牌词',\n",
       "       'properties.$latest_utm_campaign_cat_神策-移动推广',\n",
       "       'properties.$latest_utm_campaign_cat_通用词',\n",
       "       'properties.$latest_utm_campaign_cat',\n",
       "       'properties.$latest_utm_medium_cat_cpc',\n",
       "       'properties.$latest_utm_medium_cat_mcpc',\n",
       "       'properties.$latest_utm_medium_cat_mfeed',\n",
       "       'properties.$latest_utm_medium_cat_other',\n",
       "       'properties.$latest_utm_medium_cat',\n",
       "       'properties.$latest_utm_content_cat_品牌',\n",
       "       'properties.$latest_utm_content_cat_通用',\n",
       "       'properties.$latest_utm_content_cat', 'latest_utm_term_shence_1',\n",
       "       'latest_utm_term_shuju_1', 'latest_utm_term_fenxi_1',\n",
       "       'properties.$model_cat_mac', 'properties.$model_cat_other',\n",
       "       'properties.$model_cat_pc', 'properties.$os_cat_Android',\n",
       "       'properties.$os_cat_iOS', 'properties.$os_cat_linux',\n",
       "       'properties.$os_cat_macosx', 'properties.$os_cat_windows',\n",
       "       'properties.$referrer_host_cat_content',\n",
       "       'properties.$referrer_host_cat_other',\n",
       "       'properties.$referrer_host_cat_search',\n",
       "       'properties.$referrer_host_cat_sensors', 'screen',\n",
       "       'properties.$url_path_cat_b-round',\n",
       "       'properties.$url_path_cat_courses', 'properties.$url_path_cat_demo',\n",
       "       'properties.$url_path_cat_manual', 'properties.$url_path_cat_other',\n",
       "       'properties.$url_path_cat_product',\n",
       "       'prop_session_referrer_host_cat_content',\n",
       "       'prop_session_referrer_host_cat_other',\n",
       "       'prop_session_referrer_host_cat_search',\n",
       "       'prop_session_referrer_host_cat_sensors', 'properties.info',\n",
       "       'properties.company', 'properties.contact', 'properties.email',\n",
       "       'properties.isMsg', 'properties.isSuccess', 'properties.name',\n",
       "       'properties.name_request_about', 'properties.name_request_b-round',\n",
       "       'properties.name_request_blog', 'properties.name_request_demo',\n",
       "       'properties.name_request_document', 'properties.name_request_logo',\n",
       "       'properties.name_request_mail', 'properties.name_request_product',\n",
       "       'properties.name_request_request', 'properties.name_request_viedo',\n",
       "       'properties.name_request', 'properties.page',\n",
       "       'properties.page_about', 'properties.page_courses_index',\n",
       "       'properties.page_demo', 'properties.page_index',\n",
       "       'properties.pagePosition', 'pageStayTime_avg', 'pageStayTime_max',\n",
       "       'pageStayTime_min', 'properties.requestBtn', 'properties.result',\n",
       "       'properties.result_cat_correct', 'properties.result_cat_error',\n",
       "       'properties.verification_code'], dtype=object)"
      ]
     },
     "execution_count": 167,
     "metadata": {},
     "output_type": "execute_result"
    }
   ],
   "source": [
    "#df_final is the user level dataset and will be used for modeling later\n",
    "df_final.columns.values"
   ]
  },
  {
   "cell_type": "code",
   "execution_count": 208,
   "metadata": {
    "collapsed": true
   },
   "outputs": [],
   "source": [
    "df_final.to_csv('user_level_data2.csv',index=True,index_label='distinct_id')"
   ]
  },
  {
   "cell_type": "markdown",
   "metadata": {},
   "source": [
    "### User Level EDA"
   ]
  },
  {
   "cell_type": "code",
   "execution_count": 172,
   "metadata": {},
   "outputs": [
    {
     "data": {
      "text/html": [
       "<div>\n",
       "<style>\n",
       "    .dataframe thead tr:only-child th {\n",
       "        text-align: right;\n",
       "    }\n",
       "\n",
       "    .dataframe thead th {\n",
       "        text-align: left;\n",
       "    }\n",
       "\n",
       "    .dataframe tbody tr th {\n",
       "        vertical-align: top;\n",
       "    }\n",
       "</style>\n",
       "<table border=\"1\" class=\"dataframe\">\n",
       "  <thead>\n",
       "    <tr style=\"text-align: right;\">\n",
       "      <th></th>\n",
       "      <th>freq</th>\n",
       "      <th>event</th>\n",
       "      <th>$pageview</th>\n",
       "      <th>about_leave</th>\n",
       "      <th>btnClick</th>\n",
       "      <th>clickSubmit</th>\n",
       "      <th>click_send_cellphone</th>\n",
       "      <th>courses_leave</th>\n",
       "      <th>courses_play_leave</th>\n",
       "      <th>demo_leave</th>\n",
       "      <th>formSubmit</th>\n",
       "      <th>index_leave</th>\n",
       "      <th>page_close</th>\n",
       "      <th>verify_cellphone_code</th>\n",
       "      <th>NewSession_flag</th>\n",
       "      <th>AvgSessionTime_perUser</th>\n",
       "      <th>time_date_toNow_max</th>\n",
       "      <th>time_datefull_diffbyMS_min</th>\n",
       "    </tr>\n",
       "  </thead>\n",
       "  <tbody>\n",
       "    <tr>\n",
       "      <th>count</th>\n",
       "      <td>11756.000000</td>\n",
       "      <td>11756.00000</td>\n",
       "      <td>11587.000000</td>\n",
       "      <td>712.000000</td>\n",
       "      <td>4501.000000</td>\n",
       "      <td>461.000000</td>\n",
       "      <td>501.000000</td>\n",
       "      <td>692.000000</td>\n",
       "      <td>370.000000</td>\n",
       "      <td>1436.000000</td>\n",
       "      <td>497.000000</td>\n",
       "      <td>6946.000000</td>\n",
       "      <td>97.000000</td>\n",
       "      <td>472.000000</td>\n",
       "      <td>11756.000000</td>\n",
       "      <td>7952.000000</td>\n",
       "      <td>1.170800e+04</td>\n",
       "      <td>8.493000e+03</td>\n",
       "    </tr>\n",
       "    <tr>\n",
       "      <th>mean</th>\n",
       "      <td>6.387547</td>\n",
       "      <td>2.40490</td>\n",
       "      <td>2.815224</td>\n",
       "      <td>1.449438</td>\n",
       "      <td>3.080649</td>\n",
       "      <td>1.112798</td>\n",
       "      <td>1.197605</td>\n",
       "      <td>1.309249</td>\n",
       "      <td>2.018919</td>\n",
       "      <td>2.375348</td>\n",
       "      <td>1.591549</td>\n",
       "      <td>1.496401</td>\n",
       "      <td>2.371134</td>\n",
       "      <td>1.192797</td>\n",
       "      <td>1.423528</td>\n",
       "      <td>3.854404</td>\n",
       "      <td>4.645139e+10</td>\n",
       "      <td>3.706468e+06</td>\n",
       "    </tr>\n",
       "    <tr>\n",
       "      <th>std</th>\n",
       "      <td>10.440768</td>\n",
       "      <td>1.66022</td>\n",
       "      <td>5.044301</td>\n",
       "      <td>1.175332</td>\n",
       "      <td>3.976255</td>\n",
       "      <td>1.147904</td>\n",
       "      <td>0.588960</td>\n",
       "      <td>0.863993</td>\n",
       "      <td>1.992443</td>\n",
       "      <td>2.576318</td>\n",
       "      <td>1.460560</td>\n",
       "      <td>1.715907</td>\n",
       "      <td>2.945051</td>\n",
       "      <td>0.567064</td>\n",
       "      <td>1.430311</td>\n",
       "      <td>7.317563</td>\n",
       "      <td>2.248173e+08</td>\n",
       "      <td>3.032153e+07</td>\n",
       "    </tr>\n",
       "    <tr>\n",
       "      <th>min</th>\n",
       "      <td>1.000000</td>\n",
       "      <td>0.00000</td>\n",
       "      <td>1.000000</td>\n",
       "      <td>1.000000</td>\n",
       "      <td>1.000000</td>\n",
       "      <td>1.000000</td>\n",
       "      <td>1.000000</td>\n",
       "      <td>1.000000</td>\n",
       "      <td>1.000000</td>\n",
       "      <td>1.000000</td>\n",
       "      <td>1.000000</td>\n",
       "      <td>1.000000</td>\n",
       "      <td>1.000000</td>\n",
       "      <td>1.000000</td>\n",
       "      <td>1.000000</td>\n",
       "      <td>0.000017</td>\n",
       "      <td>4.607005e+10</td>\n",
       "      <td>0.000000e+00</td>\n",
       "    </tr>\n",
       "    <tr>\n",
       "      <th>25%</th>\n",
       "      <td>2.000000</td>\n",
       "      <td>1.00000</td>\n",
       "      <td>1.000000</td>\n",
       "      <td>1.000000</td>\n",
       "      <td>1.000000</td>\n",
       "      <td>1.000000</td>\n",
       "      <td>1.000000</td>\n",
       "      <td>1.000000</td>\n",
       "      <td>1.000000</td>\n",
       "      <td>1.000000</td>\n",
       "      <td>1.000000</td>\n",
       "      <td>1.000000</td>\n",
       "      <td>1.000000</td>\n",
       "      <td>1.000000</td>\n",
       "      <td>1.000000</td>\n",
       "      <td>0.142708</td>\n",
       "      <td>4.621178e+10</td>\n",
       "      <td>1.300000e+01</td>\n",
       "    </tr>\n",
       "    <tr>\n",
       "      <th>50%</th>\n",
       "      <td>3.000000</td>\n",
       "      <td>2.00000</td>\n",
       "      <td>1.000000</td>\n",
       "      <td>1.000000</td>\n",
       "      <td>2.000000</td>\n",
       "      <td>1.000000</td>\n",
       "      <td>1.000000</td>\n",
       "      <td>1.000000</td>\n",
       "      <td>1.000000</td>\n",
       "      <td>1.000000</td>\n",
       "      <td>1.000000</td>\n",
       "      <td>1.000000</td>\n",
       "      <td>1.000000</td>\n",
       "      <td>1.000000</td>\n",
       "      <td>1.000000</td>\n",
       "      <td>0.635933</td>\n",
       "      <td>4.647949e+10</td>\n",
       "      <td>1.503000e+03</td>\n",
       "    </tr>\n",
       "    <tr>\n",
       "      <th>75%</th>\n",
       "      <td>6.000000</td>\n",
       "      <td>3.00000</td>\n",
       "      <td>3.000000</td>\n",
       "      <td>2.000000</td>\n",
       "      <td>4.000000</td>\n",
       "      <td>1.000000</td>\n",
       "      <td>1.000000</td>\n",
       "      <td>1.000000</td>\n",
       "      <td>2.000000</td>\n",
       "      <td>3.000000</td>\n",
       "      <td>2.000000</td>\n",
       "      <td>1.000000</td>\n",
       "      <td>2.000000</td>\n",
       "      <td>1.000000</td>\n",
       "      <td>1.000000</td>\n",
       "      <td>3.781544</td>\n",
       "      <td>4.663719e+10</td>\n",
       "      <td>1.276800e+04</td>\n",
       "    </tr>\n",
       "    <tr>\n",
       "      <th>max</th>\n",
       "      <td>254.000000</td>\n",
       "      <td>11.00000</td>\n",
       "      <td>152.000000</td>\n",
       "      <td>18.000000</td>\n",
       "      <td>69.000000</td>\n",
       "      <td>24.000000</td>\n",
       "      <td>6.000000</td>\n",
       "      <td>13.000000</td>\n",
       "      <td>13.000000</td>\n",
       "      <td>31.000000</td>\n",
       "      <td>17.000000</td>\n",
       "      <td>68.000000</td>\n",
       "      <td>23.000000</td>\n",
       "      <td>6.000000</td>\n",
       "      <td>31.000000</td>\n",
       "      <td>90.387000</td>\n",
       "      <td>4.679615e+10</td>\n",
       "      <td>6.743670e+08</td>\n",
       "    </tr>\n",
       "  </tbody>\n",
       "</table>\n",
       "</div>"
      ],
      "text/plain": [
       "               freq        event     $pageview  about_leave     btnClick  \\\n",
       "count  11756.000000  11756.00000  11587.000000   712.000000  4501.000000   \n",
       "mean       6.387547      2.40490      2.815224     1.449438     3.080649   \n",
       "std       10.440768      1.66022      5.044301     1.175332     3.976255   \n",
       "min        1.000000      0.00000      1.000000     1.000000     1.000000   \n",
       "25%        2.000000      1.00000      1.000000     1.000000     1.000000   \n",
       "50%        3.000000      2.00000      1.000000     1.000000     2.000000   \n",
       "75%        6.000000      3.00000      3.000000     2.000000     4.000000   \n",
       "max      254.000000     11.00000    152.000000    18.000000    69.000000   \n",
       "\n",
       "       clickSubmit  click_send_cellphone  courses_leave  courses_play_leave  \\\n",
       "count   461.000000            501.000000     692.000000          370.000000   \n",
       "mean      1.112798              1.197605       1.309249            2.018919   \n",
       "std       1.147904              0.588960       0.863993            1.992443   \n",
       "min       1.000000              1.000000       1.000000            1.000000   \n",
       "25%       1.000000              1.000000       1.000000            1.000000   \n",
       "50%       1.000000              1.000000       1.000000            1.000000   \n",
       "75%       1.000000              1.000000       1.000000            2.000000   \n",
       "max      24.000000              6.000000      13.000000           13.000000   \n",
       "\n",
       "        demo_leave  formSubmit  index_leave  page_close  \\\n",
       "count  1436.000000  497.000000  6946.000000   97.000000   \n",
       "mean      2.375348    1.591549     1.496401    2.371134   \n",
       "std       2.576318    1.460560     1.715907    2.945051   \n",
       "min       1.000000    1.000000     1.000000    1.000000   \n",
       "25%       1.000000    1.000000     1.000000    1.000000   \n",
       "50%       1.000000    1.000000     1.000000    1.000000   \n",
       "75%       3.000000    2.000000     1.000000    2.000000   \n",
       "max      31.000000   17.000000    68.000000   23.000000   \n",
       "\n",
       "       verify_cellphone_code  NewSession_flag  AvgSessionTime_perUser  \\\n",
       "count             472.000000     11756.000000             7952.000000   \n",
       "mean                1.192797         1.423528                3.854404   \n",
       "std                 0.567064         1.430311                7.317563   \n",
       "min                 1.000000         1.000000                0.000017   \n",
       "25%                 1.000000         1.000000                0.142708   \n",
       "50%                 1.000000         1.000000                0.635933   \n",
       "75%                 1.000000         1.000000                3.781544   \n",
       "max                 6.000000        31.000000               90.387000   \n",
       "\n",
       "       time_date_toNow_max  time_datefull_diffbyMS_min  \n",
       "count         1.170800e+04                8.493000e+03  \n",
       "mean          4.645139e+10                3.706468e+06  \n",
       "std           2.248173e+08                3.032153e+07  \n",
       "min           4.607005e+10                0.000000e+00  \n",
       "25%           4.621178e+10                1.300000e+01  \n",
       "50%           4.647949e+10                1.503000e+03  \n",
       "75%           4.663719e+10                1.276800e+04  \n",
       "max           4.679615e+10                6.743670e+08  "
      ]
     },
     "execution_count": 172,
     "metadata": {},
     "output_type": "execute_result"
    }
   ],
   "source": [
    "col = range(20)\n",
    "df_final.iloc[:,col].describe()"
   ]
  },
  {
   "cell_type": "code",
   "execution_count": 174,
   "metadata": {},
   "outputs": [
    {
     "data": {
      "text/plain": [
       "0.05018713848247703"
      ]
     },
     "execution_count": 174,
     "metadata": {},
     "output_type": "execute_result"
    }
   ],
   "source": [
    "# percent of user with one record\n",
    "df_final[df_final['freq']==1].shape[0]/df_final.shape[0]"
   ]
  },
  {
   "cell_type": "code",
   "execution_count": 474,
   "metadata": {},
   "outputs": [
    {
     "data": {
      "text/plain": [
       "0.3317454916638312"
      ]
     },
     "execution_count": 474,
     "metadata": {},
     "output_type": "execute_result"
    }
   ],
   "source": [
    "# percent of users with one type Event\n",
    "df_final[df_final['event']==1].shape[0]/df_final.shape[0]"
   ]
  },
  {
   "cell_type": "code",
   "execution_count": 168,
   "metadata": {},
   "outputs": [
    {
     "data": {
      "text/plain": [
       "0.7942327322218442"
      ]
     },
     "execution_count": 168,
     "metadata": {},
     "output_type": "execute_result"
    }
   ],
   "source": [
    "df_final[df_final['properties.$is_first_time']==True].shape[0]/df_final.shape[0]\n",
    "# percent of first_time_user"
   ]
  },
  {
   "cell_type": "code",
   "execution_count": 169,
   "metadata": {},
   "outputs": [
    {
     "data": {
      "text/plain": [
       "count    7952.000000\n",
       "mean        3.854404\n",
       "std         7.317563\n",
       "min         0.000017\n",
       "25%         0.142708\n",
       "50%         0.635933\n",
       "75%         3.781544\n",
       "max        90.387000\n",
       "Name: AvgSessionTime_perUser, dtype: float64"
      ]
     },
     "execution_count": 169,
     "metadata": {},
     "output_type": "execute_result"
    }
   ],
   "source": [
    "df_final['AvgSessionTime_perUser'].describe()"
   ]
  },
  {
   "cell_type": "code",
   "execution_count": 170,
   "metadata": {},
   "outputs": [
    {
     "data": {
      "text/plain": [
       "<matplotlib.axes._subplots.AxesSubplot at 0x12c845518>"
      ]
     },
     "execution_count": 170,
     "metadata": {},
     "output_type": "execute_result"
    },
    {
     "data": {
      "image/png": "[encoded data removed]",
      "text/plain": [
       "<matplotlib.figure.Figure at 0x12c1c2710>"
      ]
     },
     "metadata": {},
     "output_type": "display_data"
    }
   ],
   "source": [
    "df_final['AvgSessionTime_perUser'].hist(bins=30)"
   ]
  },
  {
   "cell_type": "code",
   "execution_count": 171,
   "metadata": {},
   "outputs": [
    {
     "data": {
      "text/plain": [
       "count    7.412000e+03\n",
       "mean     7.860027e+03\n",
       "std      6.512723e+04\n",
       "min      3.300000e-02\n",
       "25%      8.976813e+00\n",
       "50%      3.236250e+01\n",
       "75%      4.707285e+02\n",
       "max      2.918014e+06\n",
       "Name: pageStayTime_avg, dtype: float64"
      ]
     },
     "execution_count": 171,
     "metadata": {},
     "output_type": "execute_result"
    }
   ],
   "source": [
    "df_final['pageStayTime_avg'].describe()"
   ]
  },
  {
   "cell_type": "code",
   "execution_count": 172,
   "metadata": {},
   "outputs": [
    {
     "data": {
      "text/plain": [
       "event\n",
       "$pageview                         NaN\n",
       "about_leave               5230.275271\n",
       "btnClick                          NaN\n",
       "clickSubmit                       NaN\n",
       "click_send_cellphone              NaN\n",
       "courses_leave             9430.613664\n",
       "courses_play_leave        5449.115236\n",
       "demo_leave               11990.604502\n",
       "formSubmit                        NaN\n",
       "index_leave               4491.347169\n",
       "page_close               26623.669757\n",
       "verify_cellphone_code             NaN\n",
       "Name: properties.pageStayTime, dtype: float64"
      ]
     },
     "execution_count": 172,
     "metadata": {},
     "output_type": "execute_result"
    }
   ],
   "source": [
    "df_flat.groupby('event')['properties.pageStayTime'].mean()\n",
    "# demo_leave > courses_leave> courses_play_leave > about_leave > index_leave"
   ]
  },
  {
   "cell_type": "code",
   "execution_count": 173,
   "metadata": {
    "collapsed": true
   },
   "outputs": [],
   "source": [
    "df_final.reset_index(inplace=True)"
   ]
  },
  {
   "cell_type": "code",
   "execution_count": 174,
   "metadata": {},
   "outputs": [
    {
     "data": {
      "text/plain": [
       "country\n",
       "China            0.968016\n",
       "United States    0.013440\n",
       "Hong Kong        0.002892\n",
       "Japan            0.002807\n",
       "Canada           0.001106\n",
       "Name: index, dtype: float64"
      ]
     },
     "execution_count": 174,
     "metadata": {},
     "output_type": "execute_result"
    }
   ],
   "source": [
    "(df_final.groupby('country')['index'].size().sort_values(ascending=False)/df_final.shape[0]).head(5)"
   ]
  },
  {
   "cell_type": "code",
   "execution_count": 175,
   "metadata": {},
   "outputs": [
    {
     "data": {
      "text/plain": [
       "Beijing      0.335573\n",
       "Guangdong    0.210956\n",
       "Shanghai     0.118067\n",
       "Zhejiang     0.085318\n",
       "Jiangsu      0.049677\n",
       "Sichuan      0.040745\n",
       "Hubei        0.023392\n",
       "NaN          0.022627\n",
       "Tianjin      0.008251\n",
       "Shandong     0.007826\n",
       "Name: province, dtype: float64"
      ]
     },
     "execution_count": 175,
     "metadata": {},
     "output_type": "execute_result"
    }
   ],
   "source": [
    "(df_final['province'].value_counts(dropna=False)/df_final.shape[0]).head(10)"
   ]
  },
  {
   "cell_type": "code",
   "execution_count": 176,
   "metadata": {},
   "outputs": [
    {
     "data": {
      "text/plain": [
       "windows    7185\n",
       "macosx     2095\n",
       "iOS        1190\n",
       "Android    1167\n",
       "linux        82\n",
       "Name: properties.$os_cat, dtype: int64"
      ]
     },
     "execution_count": 176,
     "metadata": {},
     "output_type": "execute_result"
    }
   ],
   "source": [
    "df_flat.groupby('distinct_id')['properties.$os_cat'].value_counts().index.get_level_values(1).value_counts()"
   ]
  },
  {
   "cell_type": "code",
   "execution_count": 177,
   "metadata": {},
   "outputs": [
    {
     "data": {
      "text/plain": [
       "pc       7185\n",
       "other    2352\n",
       "mac      2095\n",
       "Name: properties.$model_cat, dtype: int64"
      ]
     },
     "execution_count": 177,
     "metadata": {},
     "output_type": "execute_result"
    }
   ],
   "source": [
    "df_flat.groupby('distinct_id')['properties.$model_cat'].value_counts().index.get_level_values(1).value_counts()"
   ]
  },
  {
   "cell_type": "code",
   "execution_count": 178,
   "metadata": {
    "collapsed": true
   },
   "outputs": [],
   "source": [
    "first_search = df_final['index'][df_final['properties.$first_referrer_host_cat_search']>0].count()\n",
    "first_content = df_final['index'][df_final['properties.$first_referrer_host_cat_content']>0].count()\n",
    "first_sensors = df_final['index'][df_final['properties.$first_referrer_host_cat_sensors']>0].count()\n",
    "first_other =  df_final['index'][df_final['properties.$first_referrer_host_cat_other']>0].count()"
   ]
  },
  {
   "cell_type": "code",
   "execution_count": 179,
   "metadata": {},
   "outputs": [
    {
     "data": {
      "text/plain": [
       "(6036, 328, 93, 269)"
      ]
     },
     "execution_count": 179,
     "metadata": {},
     "output_type": "execute_result"
    }
   ],
   "source": [
    "first_search,first_content,first_sensors,first_other"
   ]
  },
  {
   "cell_type": "code",
   "execution_count": 180,
   "metadata": {
    "collapsed": true
   },
   "outputs": [],
   "source": [
    "latest_search = df_final['index'][df_final['properties.$latest_referrer_host_cat_search']>0].count()\n",
    "latest_content = df_final['index'][df_final['properties.$latest_referrer_host_cat_content']>0].count()\n",
    "latest_sensors = df_final['index'][df_final['properties.$latest_referrer_host_cat_sensors']>0].count()\n",
    "latest_other =  df_final['index'][df_final['properties.$latest_referrer_host_cat_other']>0].count()"
   ]
  },
  {
   "cell_type": "code",
   "execution_count": 181,
   "metadata": {},
   "outputs": [
    {
     "data": {
      "text/plain": [
       "(7171, 564, 38, 397)"
      ]
     },
     "execution_count": 181,
     "metadata": {},
     "output_type": "execute_result"
    }
   ],
   "source": [
    "latest_search,latest_content,latest_sensors,latest_other"
   ]
  },
  {
   "cell_type": "code",
   "execution_count": 188,
   "metadata": {},
   "outputs": [
    {
     "data": {
      "text/plain": [
       "0.06903304773561811"
      ]
     },
     "execution_count": 188,
     "metadata": {},
     "output_type": "execute_result"
    }
   ],
   "source": [
    "564/(7171+564+38+397)"
   ]
  },
  {
   "cell_type": "code",
   "execution_count": 187,
   "metadata": {},
   "outputs": [
    {
     "data": {
      "text/plain": [
       "0.8974130240856378"
      ]
     },
     "execution_count": 187,
     "metadata": {},
     "output_type": "execute_result"
    }
   ],
   "source": [
    "6036/(6036+328+93+269)"
   ]
  },
  {
   "cell_type": "code",
   "execution_count": 182,
   "metadata": {
    "collapsed": true
   },
   "outputs": [],
   "source": [
    "utm_source_search = df_final['index'][df_final['properties.$latest_utm_source_cat_search']>0].count()\n",
    "utm_source_content = df_final['index'][df_final['properties.$latest_utm_source_cat_content']>0].count()\n",
    "utm_source_social = df_final['index'][df_final['properties.$latest_utm_source_cat_social']>0].count()\n",
    "utm_source_other =  df_final['index'][df_final['properties.$latest_utm_source_cat_other']>0].count()"
   ]
  },
  {
   "cell_type": "code",
   "execution_count": 183,
   "metadata": {},
   "outputs": [
    {
     "data": {
      "text/plain": [
       "(7140, 27, 64, 112)"
      ]
     },
     "execution_count": 183,
     "metadata": {},
     "output_type": "execute_result"
    }
   ],
   "source": [
    "utm_source_search,utm_source_content,utm_source_social,utm_source_other"
   ]
  },
  {
   "cell_type": "code",
   "execution_count": 184,
   "metadata": {},
   "outputs": [
    {
     "data": {
      "text/plain": [
       "0.9723546234509056"
      ]
     },
     "execution_count": 184,
     "metadata": {},
     "output_type": "execute_result"
    }
   ],
   "source": [
    "7140/(7140+27+64+112)"
   ]
  },
  {
   "cell_type": "markdown",
   "metadata": {},
   "source": [
    "#### New User vs Exp User"
   ]
  },
  {
   "cell_type": "code",
   "execution_count": 189,
   "metadata": {
    "collapsed": true
   },
   "outputs": [],
   "source": [
    "new_user = df_final[df_final['properties.$is_first_time']==1].copy()\n",
    "exp_user = df_final[df_final['properties.$is_first_time']==0].copy()"
   ]
  },
  {
   "cell_type": "code",
   "execution_count": 190,
   "metadata": {},
   "outputs": [
    {
     "data": {
      "text/plain": [
       "(9337, 2371, 11756)"
      ]
     },
     "execution_count": 190,
     "metadata": {},
     "output_type": "execute_result"
    }
   ],
   "source": [
    "new_user.shape[0],exp_user.shape[0],df_final.shape[0]"
   ]
  },
  {
   "cell_type": "code",
   "execution_count": 191,
   "metadata": {
    "collapsed": true
   },
   "outputs": [],
   "source": [
    "exp_user.fillna(0,inplace=True)\n",
    "new_user.fillna(0,inplace=True)"
   ]
  },
  {
   "cell_type": "code",
   "execution_count": 192,
   "metadata": {
    "collapsed": true
   },
   "outputs": [],
   "source": [
    "cols = ['freq', 'event', '$pageview', 'about_leave', 'btnClick','clickSubmit', 'click_send_cellphone', \n",
    "        'courses_leave','courses_play_leave', 'demo_leave', 'formSubmit', 'index_leave','page_close',\n",
    "        'verify_cellphone_code', 'NewSession_flag','AvgSessionTime_perUser','time_durationByMS','return_1day_flg',\n",
    "        'properties.$first_referrer_host_cat_search','properties.$latest_referrer_host_cat_search',\n",
    "       'properties.$first_referrer_host_cat_content',\n",
    "       'properties.$first_referrer_host_cat_other',\n",
    "       'properties.$first_referrer_host_cat_search',\n",
    "       'properties.$first_referrer_host_cat_sensors',\n",
    "       'properties.$latest_referrer_host_cat_content',\n",
    "       'properties.$latest_referrer_host_cat_other',\n",
    "       'properties.$latest_referrer_host_cat_search',\n",
    "       'properties.$latest_referrer_host_cat_sensors',\n",
    "       'properties.$latest_referrer_host',\n",
    "       'properties.$latest_utm_source_cat_content',\n",
    "       'properties.$latest_utm_source_cat_other',\n",
    "       'properties.$latest_utm_source_cat_search',\n",
    "       'properties.$latest_utm_source_cat_social',\n",
    "       'properties.$latest_utm_source_cat',\n",
    "       'properties.$latest_utm_campaign_cat_other',\n",
    "       'properties.$latest_utm_campaign_cat_品牌词',\n",
    "       'properties.$latest_utm_campaign_cat_神策-移动推广',\n",
    "       'properties.$latest_utm_campaign_cat_通用词',\n",
    "       'properties.$latest_utm_campaign_cat',\n",
    "       'properties.$latest_utm_medium_cat_cpc',\n",
    "       'properties.$latest_utm_medium_cat_mcpc',\n",
    "       'properties.$latest_utm_medium_cat_mfeed',\n",
    "       'properties.$latest_utm_medium_cat_other',\n",
    "       'properties.$latest_utm_medium_cat',\n",
    "       'properties.$latest_utm_content_cat_品牌',\n",
    "       'properties.$latest_utm_content_cat_通用',\n",
    "       'properties.$latest_utm_content_cat', 'latest_utm_term_shence_1',\n",
    "       'latest_utm_term_shuju_1', 'latest_utm_term_fenxi_1',\n",
    "       'properties.$model_cat_mac', 'properties.$model_cat_other',\n",
    "       'properties.$model_cat_pc', 'properties.$os_cat_Android',\n",
    "       'properties.$os_cat_iOS', 'properties.$os_cat_linux',\n",
    "       'properties.$os_cat_macosx', 'properties.$os_cat_windows',\n",
    "       'properties.$referrer_host_cat_content',\n",
    "       'properties.$referrer_host_cat_other',\n",
    "       'properties.$referrer_host_cat_search',\n",
    "       'properties.$referrer_host_cat_sensors',\n",
    "       'properties.$url_path_cat_b-round',\n",
    "       'properties.$url_path_cat_courses', 'properties.$url_path_cat_demo',\n",
    "       'properties.$url_path_cat_manual', 'properties.$url_path_cat_other',\n",
    "       'properties.$url_path_cat_product',\n",
    "       'prop_session_referrer_host_cat_content',\n",
    "       'prop_session_referrer_host_cat_other',\n",
    "       'prop_session_referrer_host_cat_search',\n",
    "       'prop_session_referrer_host_cat_sensors', \n",
    "       'properties.name_request_about', 'properties.name_request_b-round',\n",
    "       'properties.name_request_blog', 'properties.name_request_demo',\n",
    "       'properties.name_request_document', 'properties.name_request_logo',\n",
    "       'properties.name_request_mail', 'properties.name_request_product',\n",
    "       'properties.name_request_request', 'properties.name_request_viedo',\n",
    "       'properties.name_request', 'properties.page',\n",
    "       'properties.page_about', 'properties.page_courses_index',\n",
    "       'properties.page_demo', 'properties.page_index',\n",
    "       'properties.pagePosition', 'pageStayTime_avg', 'pageStayTime_max',\n",
    "       'pageStayTime_min', 'properties.requestBtn', 'properties.result']"
   ]
  },
  {
   "cell_type": "code",
   "execution_count": 193,
   "metadata": {
    "collapsed": true
   },
   "outputs": [],
   "source": [
    "from scipy import stats\n",
    "#stats.shapiro(new_user['$pageview'])\n",
    "#stats.shapiro(exp_user['$pageview'])"
   ]
  },
  {
   "cell_type": "code",
   "execution_count": 194,
   "metadata": {},
   "outputs": [
    {
     "name": "stdout",
     "output_type": "stream",
     "text": [
      "freq 6.75360938603e-12\n",
      "event 0.000258770089787\n",
      "$pageview 9.25010002768e-28\n",
      "about_leave 0.000100404567217\n",
      "btnClick 5.26705823171e-12\n",
      "courses_leave 2.96063355312e-10\n",
      "courses_play_leave 0.0208919289261\n",
      "demo_leave 4.84188278022e-13\n",
      "index_leave 2.1260432921e-09\n",
      "page_close 1.3857395907e-06\n",
      "NewSession_flag 2.05874448954e-59\n",
      "AvgSessionTime_perUser 1.42703336197e-09\n",
      "time_durationByMS 2.11064359271e-88\n",
      "return_1day_flg 6.47038815032e-99\n",
      "properties.$first_referrer_host_cat_search 0.0\n",
      "properties.$first_referrer_host_cat_content 8.03681822774e-36\n",
      "properties.$first_referrer_host_cat_other 4.92367881385e-51\n",
      "properties.$first_referrer_host_cat_search 0.0\n",
      "properties.$first_referrer_host_cat_sensors 2.72908626596e-17\n",
      "properties.$latest_referrer_host_cat_content 1.54902922611e-11\n",
      "properties.$latest_referrer_host_cat_sensors 0.000478825792992\n",
      "properties.$latest_referrer_host 1.00656328132e-14\n",
      "properties.$latest_utm_source_cat_content 0.019696606729\n",
      "properties.$latest_utm_source_cat_other 3.77875005223e-05\n",
      "properties.$latest_utm_source_cat_search 6.73220459811e-07\n",
      "properties.$latest_utm_source_cat 2.68357340797e-29\n",
      "properties.$latest_utm_campaign_cat_other 0.000879890475443\n",
      "properties.$latest_utm_campaign_cat_品牌词 8.55731260401e-25\n",
      "properties.$latest_utm_campaign_cat_神策-移动推广 6.47613281568e-07\n",
      "properties.$latest_utm_campaign_cat_通用词 3.59335826229e-06\n",
      "properties.$latest_utm_campaign_cat 1.86145044288e-28\n",
      "properties.$latest_utm_medium_cat_cpc 1.5589386665e-09\n",
      "properties.$latest_utm_medium_cat_other 0.000321666050732\n",
      "properties.$latest_utm_medium_cat 5.90793883825e-35\n",
      "properties.$latest_utm_content_cat_品牌 6.36295972893e-24\n",
      "properties.$latest_utm_content_cat_通用 2.70315259698e-05\n",
      "properties.$latest_utm_content_cat 6.14024757202e-39\n",
      "latest_utm_term_shence_1 1.46743807827e-23\n",
      "properties.$model_cat_mac 8.5518300621e-21\n",
      "properties.$model_cat_pc 0.00239142572699\n",
      "properties.$os_cat_macosx 8.5518300621e-21\n",
      "properties.$os_cat_windows 0.00239142572699\n",
      "properties.$referrer_host_cat_search 4.33920377206e-12\n",
      "properties.$referrer_host_cat_sensors 4.89805438715e-27\n",
      "properties.$url_path_cat_b-round 0.00295869387532\n",
      "properties.$url_path_cat_courses 0.00010237985009\n",
      "properties.$url_path_cat_demo 1.06981453871e-13\n",
      "properties.$url_path_cat_manual 9.06345150738e-48\n",
      "properties.$url_path_cat_other 9.45864163414e-07\n",
      "properties.$url_path_cat_product 1.21634830757e-05\n",
      "prop_session_referrer_host_cat_content 1.55498057866e-07\n",
      "prop_session_referrer_host_cat_sensors 1.18672284887e-12\n",
      "properties.name_request_about 0.00267689528836\n",
      "properties.name_request_b-round 0.000536700336031\n",
      "properties.name_request_blog 1.8364654154e-06\n",
      "properties.name_request_demo 5.44285576821e-10\n",
      "properties.name_request_document 4.97960309222e-19\n",
      "properties.name_request_logo 0.000961138017516\n",
      "properties.name_request_mail 0.000567289127377\n",
      "properties.name_request_product 0.00188178342539\n",
      "properties.name_request_request 0.000526140921848\n",
      "properties.name_request 1.87933802657e-10\n",
      "properties.page 9.72117251973e-10\n",
      "properties.page_about 0.00130303439014\n",
      "properties.page_courses_index 0.0124540221736\n",
      "properties.page_demo 0.0182510078259\n",
      "properties.page_index 3.57832058568e-12\n",
      "properties.pagePosition 2.03500221342e-07\n",
      "pageStayTime_avg 1.11767014712e-12\n",
      "pageStayTime_max 3.4395047007e-18\n",
      "pageStayTime_min 2.29772520931e-09\n",
      "properties.requestBtn 3.30225972912e-05\n",
      "properties.result 0.0471507922102\n"
     ]
    }
   ],
   "source": [
    "# output cols with p_value<0.05\n",
    "for i in cols:\n",
    "    t_result = stats.ttest_ind(new_user[i],exp_user[i],equal_var=False)\n",
    "    if t_result[1]<0.05:\n",
    "        print (i,t_result[1])\n"
   ]
  },
  {
   "cell_type": "markdown",
   "metadata": {},
   "source": [
    "### Funnel Analysis"
   ]
  },
  {
   "cell_type": "code",
   "execution_count": 195,
   "metadata": {
    "collapsed": true
   },
   "outputs": [],
   "source": [
    "# regrouping submiting event\n",
    "df_flat['event_cat'] = df_flat['event']\n",
    "#df_flat.loc[df_flat['event_cat'].isin(['index_leave','demo_leave','about_leave','courses_leave','courses_play_leave']),'event_cat']='leave'\n",
    "df_flat.loc[df_flat['event_cat'].isin(['clickSubmit','formSubmit']),'event_cat']='submit'\n",
    "#df_flat.loc[df_flat['event_cat'].isin(['verify_cellphone_code','click_send_cellphone']),'event_cat']='phone'"
   ]
  },
  {
   "cell_type": "code",
   "execution_count": 196,
   "metadata": {
    "collapsed": true
   },
   "outputs": [],
   "source": [
    "df_query1 = df_flat.groupby(['distinct_id','event_cat'])['time_date_full'].min()"
   ]
  },
  {
   "cell_type": "code",
   "execution_count": 197,
   "metadata": {
    "collapsed": true
   },
   "outputs": [],
   "source": [
    "df_query2 = df_query1.unstack()"
   ]
  },
  {
   "cell_type": "code",
   "execution_count": 198,
   "metadata": {},
   "outputs": [
    {
     "data": {
      "text/html": [
       "<div>\n",
       "<style>\n",
       "    .dataframe thead tr:only-child th {\n",
       "        text-align: right;\n",
       "    }\n",
       "\n",
       "    .dataframe thead th {\n",
       "        text-align: left;\n",
       "    }\n",
       "\n",
       "    .dataframe tbody tr th {\n",
       "        vertical-align: top;\n",
       "    }\n",
       "</style>\n",
       "<table border=\"1\" class=\"dataframe\">\n",
       "  <thead>\n",
       "    <tr style=\"text-align: right;\">\n",
       "      <th>event_cat</th>\n",
       "      <th>$pageview</th>\n",
       "      <th>about_leave</th>\n",
       "      <th>btnClick</th>\n",
       "      <th>click_send_cellphone</th>\n",
       "      <th>courses_leave</th>\n",
       "      <th>courses_play_leave</th>\n",
       "      <th>demo_leave</th>\n",
       "      <th>index_leave</th>\n",
       "      <th>page_close</th>\n",
       "      <th>submit</th>\n",
       "      <th>verify_cellphone_code</th>\n",
       "    </tr>\n",
       "    <tr>\n",
       "      <th>distinct_id</th>\n",
       "      <th></th>\n",
       "      <th></th>\n",
       "      <th></th>\n",
       "      <th></th>\n",
       "      <th></th>\n",
       "      <th></th>\n",
       "      <th></th>\n",
       "      <th></th>\n",
       "      <th></th>\n",
       "      <th></th>\n",
       "      <th></th>\n",
       "    </tr>\n",
       "  </thead>\n",
       "  <tbody>\n",
       "    <tr>\n",
       "      <th>00007ef910b6c9911f1b89d01a09aa3fc862f4a9</th>\n",
       "      <td>2017-03-07 05:52:17.039</td>\n",
       "      <td>NaT</td>\n",
       "      <td>2017-03-07 05:52:20.372</td>\n",
       "      <td>2017-03-07 05:52:29.692</td>\n",
       "      <td>NaT</td>\n",
       "      <td>NaT</td>\n",
       "      <td>NaT</td>\n",
       "      <td>NaT</td>\n",
       "      <td>NaT</td>\n",
       "      <td>2017-03-07 05:52:50.389</td>\n",
       "      <td>2017-03-07 05:52:51.618</td>\n",
       "    </tr>\n",
       "    <tr>\n",
       "      <th>000a216b72eff19bd0d5e17b9e676dd6ad9a38ac</th>\n",
       "      <td>NaT</td>\n",
       "      <td>NaT</td>\n",
       "      <td>NaT</td>\n",
       "      <td>NaT</td>\n",
       "      <td>NaT</td>\n",
       "      <td>NaT</td>\n",
       "      <td>NaT</td>\n",
       "      <td>2017-03-13 02:52:48.278</td>\n",
       "      <td>NaT</td>\n",
       "      <td>NaT</td>\n",
       "      <td>NaT</td>\n",
       "    </tr>\n",
       "    <tr>\n",
       "      <th>000c46a27ef69fa22b56d253a9c72773338a1686</th>\n",
       "      <td>2017-03-07 05:49:05.811</td>\n",
       "      <td>NaT</td>\n",
       "      <td>2017-03-07 05:49:11.642</td>\n",
       "      <td>NaT</td>\n",
       "      <td>2017-03-07 07:11:49.965</td>\n",
       "      <td>NaT</td>\n",
       "      <td>NaT</td>\n",
       "      <td>2017-03-07 05:49:11.647</td>\n",
       "      <td>NaT</td>\n",
       "      <td>NaT</td>\n",
       "      <td>NaT</td>\n",
       "    </tr>\n",
       "    <tr>\n",
       "      <th>000ed1dcd942969b458c5b308937c6389c08f999</th>\n",
       "      <td>2017-03-13 03:29:37.008</td>\n",
       "      <td>NaT</td>\n",
       "      <td>2017-03-13 03:30:07.357</td>\n",
       "      <td>NaT</td>\n",
       "      <td>NaT</td>\n",
       "      <td>NaT</td>\n",
       "      <td>NaT</td>\n",
       "      <td>2017-03-13 03:30:07.357</td>\n",
       "      <td>NaT</td>\n",
       "      <td>NaT</td>\n",
       "      <td>NaT</td>\n",
       "    </tr>\n",
       "    <tr>\n",
       "      <th>00111feff544ef5280a4c7064a362a9ea59c9389</th>\n",
       "      <td>2017-03-09 11:34:35.387</td>\n",
       "      <td>NaT</td>\n",
       "      <td>NaT</td>\n",
       "      <td>NaT</td>\n",
       "      <td>NaT</td>\n",
       "      <td>NaT</td>\n",
       "      <td>NaT</td>\n",
       "      <td>NaT</td>\n",
       "      <td>NaT</td>\n",
       "      <td>NaT</td>\n",
       "      <td>NaT</td>\n",
       "    </tr>\n",
       "  </tbody>\n",
       "</table>\n",
       "</div>"
      ],
      "text/plain": [
       "event_cat                                              $pageview about_leave  \\\n",
       "distinct_id                                                                    \n",
       "00007ef910b6c9911f1b89d01a09aa3fc862f4a9 2017-03-07 05:52:17.039         NaT   \n",
       "000a216b72eff19bd0d5e17b9e676dd6ad9a38ac                     NaT         NaT   \n",
       "000c46a27ef69fa22b56d253a9c72773338a1686 2017-03-07 05:49:05.811         NaT   \n",
       "000ed1dcd942969b458c5b308937c6389c08f999 2017-03-13 03:29:37.008         NaT   \n",
       "00111feff544ef5280a4c7064a362a9ea59c9389 2017-03-09 11:34:35.387         NaT   \n",
       "\n",
       "event_cat                                               btnClick  \\\n",
       "distinct_id                                                        \n",
       "00007ef910b6c9911f1b89d01a09aa3fc862f4a9 2017-03-07 05:52:20.372   \n",
       "000a216b72eff19bd0d5e17b9e676dd6ad9a38ac                     NaT   \n",
       "000c46a27ef69fa22b56d253a9c72773338a1686 2017-03-07 05:49:11.642   \n",
       "000ed1dcd942969b458c5b308937c6389c08f999 2017-03-13 03:30:07.357   \n",
       "00111feff544ef5280a4c7064a362a9ea59c9389                     NaT   \n",
       "\n",
       "event_cat                                   click_send_cellphone  \\\n",
       "distinct_id                                                        \n",
       "00007ef910b6c9911f1b89d01a09aa3fc862f4a9 2017-03-07 05:52:29.692   \n",
       "000a216b72eff19bd0d5e17b9e676dd6ad9a38ac                     NaT   \n",
       "000c46a27ef69fa22b56d253a9c72773338a1686                     NaT   \n",
       "000ed1dcd942969b458c5b308937c6389c08f999                     NaT   \n",
       "00111feff544ef5280a4c7064a362a9ea59c9389                     NaT   \n",
       "\n",
       "event_cat                                          courses_leave  \\\n",
       "distinct_id                                                        \n",
       "00007ef910b6c9911f1b89d01a09aa3fc862f4a9                     NaT   \n",
       "000a216b72eff19bd0d5e17b9e676dd6ad9a38ac                     NaT   \n",
       "000c46a27ef69fa22b56d253a9c72773338a1686 2017-03-07 07:11:49.965   \n",
       "000ed1dcd942969b458c5b308937c6389c08f999                     NaT   \n",
       "00111feff544ef5280a4c7064a362a9ea59c9389                     NaT   \n",
       "\n",
       "event_cat                                courses_play_leave demo_leave  \\\n",
       "distinct_id                                                              \n",
       "00007ef910b6c9911f1b89d01a09aa3fc862f4a9                NaT        NaT   \n",
       "000a216b72eff19bd0d5e17b9e676dd6ad9a38ac                NaT        NaT   \n",
       "000c46a27ef69fa22b56d253a9c72773338a1686                NaT        NaT   \n",
       "000ed1dcd942969b458c5b308937c6389c08f999                NaT        NaT   \n",
       "00111feff544ef5280a4c7064a362a9ea59c9389                NaT        NaT   \n",
       "\n",
       "event_cat                                            index_leave page_close  \\\n",
       "distinct_id                                                                   \n",
       "00007ef910b6c9911f1b89d01a09aa3fc862f4a9                     NaT        NaT   \n",
       "000a216b72eff19bd0d5e17b9e676dd6ad9a38ac 2017-03-13 02:52:48.278        NaT   \n",
       "000c46a27ef69fa22b56d253a9c72773338a1686 2017-03-07 05:49:11.647        NaT   \n",
       "000ed1dcd942969b458c5b308937c6389c08f999 2017-03-13 03:30:07.357        NaT   \n",
       "00111feff544ef5280a4c7064a362a9ea59c9389                     NaT        NaT   \n",
       "\n",
       "event_cat                                                 submit  \\\n",
       "distinct_id                                                        \n",
       "00007ef910b6c9911f1b89d01a09aa3fc862f4a9 2017-03-07 05:52:50.389   \n",
       "000a216b72eff19bd0d5e17b9e676dd6ad9a38ac                     NaT   \n",
       "000c46a27ef69fa22b56d253a9c72773338a1686                     NaT   \n",
       "000ed1dcd942969b458c5b308937c6389c08f999                     NaT   \n",
       "00111feff544ef5280a4c7064a362a9ea59c9389                     NaT   \n",
       "\n",
       "event_cat                                  verify_cellphone_code  \n",
       "distinct_id                                                       \n",
       "00007ef910b6c9911f1b89d01a09aa3fc862f4a9 2017-03-07 05:52:51.618  \n",
       "000a216b72eff19bd0d5e17b9e676dd6ad9a38ac                     NaT  \n",
       "000c46a27ef69fa22b56d253a9c72773338a1686                     NaT  \n",
       "000ed1dcd942969b458c5b308937c6389c08f999                     NaT  \n",
       "00111feff544ef5280a4c7064a362a9ea59c9389                     NaT  "
      ]
     },
     "execution_count": 198,
     "metadata": {},
     "output_type": "execute_result"
    }
   ],
   "source": [
    "df_query2.head(5)"
   ]
  },
  {
   "cell_type": "code",
   "execution_count": 199,
   "metadata": {},
   "outputs": [
    {
     "data": {
      "text/plain": [
       "event_cat\n",
       "$pageview                11587\n",
       "about_leave                712\n",
       "btnClick                  4501\n",
       "click_send_cellphone       501\n",
       "courses_leave              692\n",
       "courses_play_leave         370\n",
       "demo_leave                1436\n",
       "index_leave               6946\n",
       "page_close                  97\n",
       "submit                     501\n",
       "verify_cellphone_code      472\n",
       "dtype: int64"
      ]
     },
     "execution_count": 199,
     "metadata": {},
     "output_type": "execute_result"
    }
   ],
   "source": [
    "df_query2.count()"
   ]
  },
  {
   "cell_type": "code",
   "execution_count": 200,
   "metadata": {
    "collapsed": true
   },
   "outputs": [],
   "source": [
    "df_query2['pg'] = np.where(pd.isnull(df_query2['$pageview']),0,1)"
   ]
  },
  {
   "cell_type": "code",
   "execution_count": 201,
   "metadata": {
    "collapsed": true
   },
   "outputs": [],
   "source": [
    "df_query2['pg_to_btn'] = np.where((df_query2['$pageview'] < df_query2['btnClick']),1,0)"
   ]
  },
  {
   "cell_type": "code",
   "execution_count": 202,
   "metadata": {
    "collapsed": true
   },
   "outputs": [],
   "source": [
    "df_query2['pg_to_btn_leave'] = np.where((df_query2['$pageview'] < df_query2['btnClick']) \n",
    "                                        & (df_query2['btnClick'] < df_query2['index_leave']),1,0)"
   ]
  },
  {
   "cell_type": "code",
   "execution_count": 203,
   "metadata": {
    "collapsed": true
   },
   "outputs": [],
   "source": [
    "df_query2['pg_to_btn_to_leave_send'] = np.where((df_query2['$pageview'] < df_query2['btnClick'])\n",
    "                                           & (df_query2['btnClick'] < df_query2['index_leave'])\n",
    "                                           & (df_query2['index_leave'] < df_query2['click_send_cellphone']),1,0)"
   ]
  },
  {
   "cell_type": "code",
   "execution_count": 204,
   "metadata": {
    "collapsed": true
   },
   "outputs": [],
   "source": [
    "df_query2['pg_to_btn_to_leave_send_verify'] = np.where((df_query2['$pageview'] < df_query2['btnClick'])\n",
    "                                           & (df_query2['btnClick'] < df_query2['index_leave'])\n",
    "                                           & (df_query2['index_leave'] < df_query2['click_send_cellphone'])\n",
    "                                            & (df_query2['click_send_cellphone'] < df_query2['verify_cellphone_code']),1,0)"
   ]
  },
  {
   "cell_type": "code",
   "execution_count": 205,
   "metadata": {
    "collapsed": true
   },
   "outputs": [],
   "source": [
    "df_query2['pg_btn_leave_send_verify_submit'] = np.where((df_query2['$pageview'] < df_query2['btnClick'])\n",
    "                                           & (df_query2['btnClick'] < df_query2['index_leave'])\n",
    "                                           & (df_query2['index_leave'] < df_query2['click_send_cellphone'])\n",
    "                                            & (df_query2['click_send_cellphone'] < df_query2['verify_cellphone_code'])\n",
    "                                            & (df_query2['verify_cellphone_code'] < df_query2['submit']),1,0)"
   ]
  },
  {
   "cell_type": "code",
   "execution_count": 206,
   "metadata": {
    "collapsed": true
   },
   "outputs": [],
   "source": [
    "funnel_result = df_query2.sum()"
   ]
  },
  {
   "cell_type": "code",
   "execution_count": 207,
   "metadata": {},
   "outputs": [
    {
     "data": {
      "text/plain": [
       "event_cat\n",
       "pg                                 11587\n",
       "pg_to_btn                           4468\n",
       "pg_to_btn_leave                     3276\n",
       "pg_to_btn_to_leave_send              176\n",
       "pg_to_btn_to_leave_send_verify       167\n",
       "pg_btn_leave_send_verify_submit      156\n",
       "dtype: int64"
      ]
     },
     "execution_count": 207,
     "metadata": {},
     "output_type": "execute_result"
    }
   ],
   "source": [
    "funnel_result"
   ]
  },
  {
   "cell_type": "code",
   "execution_count": 208,
   "metadata": {},
   "outputs": [
    {
     "data": {
      "image/png": "[encoded data removed]",
      "text/plain": [
       "<matplotlib.figure.Figure at 0x13307d9b0>"
      ]
     },
     "metadata": {},
     "output_type": "display_data"
    }
   ],
   "source": [
    "ax = funnel_result.plot.barh()\n",
    "ax.invert_yaxis()\n",
    "plt.show()"
   ]
  },
  {
   "cell_type": "code",
   "execution_count": 209,
   "metadata": {
    "collapsed": true
   },
   "outputs": [],
   "source": [
    "#checking second pannel\n",
    "df_query3 = df_query1.unstack()\n",
    "df_query3['pg'] = np.where(pd.isnull(df_query3['$pageview']),0,1)\n",
    "\n",
    "df_query3['pg_to_btn'] = np.where((df_query3['$pageview'] < df_query3['btnClick']),1,0)\n",
    "\n",
    "df_query3['pg_to_btn_demoleave'] = np.where((df_query3['$pageview'] < df_query3['btnClick']) \n",
    "                                        & (df_query3['btnClick'] < df_query3['demo_leave']),1,0)\n",
    "\n",
    "df_query3['pg_to_btn_to_leave_send'] = np.where((df_query3['$pageview'] < df_query3['btnClick'])\n",
    "                                           & (df_query3['btnClick'] < df_query3['demo_leave'])\n",
    "                                           & (df_query3['demo_leave'] < df_query3['click_send_cellphone']),1,0)\n",
    "\n",
    "\n",
    "df_query3['pg_to_btn_to_leave_send_verify'] = np.where((df_query3['$pageview'] < df_query3['btnClick'])\n",
    "                                           & (df_query3['btnClick'] < df_query3['demo_leave'])\n",
    "                                           & (df_query3['demo_leave'] < df_query3['click_send_cellphone'])\n",
    "                                            & (df_query3['click_send_cellphone'] < df_query3['verify_cellphone_code']),1,0)\n",
    "\n",
    "df_query3['pg_btn_leave_send_verify_submit'] = np.where((df_query3['$pageview'] < df_query3['btnClick'])\n",
    "                                           & (df_query3['btnClick'] < df_query3['demo_leave'])\n",
    "                                           & (df_query3['demo_leave'] < df_query3['click_send_cellphone'])\n",
    "                                            & (df_query3['click_send_cellphone'] < df_query3['verify_cellphone_code'])\n",
    "                                            & (df_query3['verify_cellphone_code'] < df_query3['submit']),1,0)"
   ]
  },
  {
   "cell_type": "code",
   "execution_count": 210,
   "metadata": {},
   "outputs": [
    {
     "data": {
      "text/plain": [
       "event_cat\n",
       "pg                                 11587\n",
       "pg_to_btn                           4468\n",
       "pg_to_btn_demoleave                 1257\n",
       "pg_to_btn_to_leave_send               52\n",
       "pg_to_btn_to_leave_send_verify        46\n",
       "pg_btn_leave_send_verify_submit       42\n",
       "dtype: int64"
      ]
     },
     "execution_count": 210,
     "metadata": {},
     "output_type": "execute_result"
    }
   ],
   "source": [
    "funnel2 = df_query3.sum()\n",
    "funnel2"
   ]
  },
  {
   "cell_type": "code",
   "execution_count": 211,
   "metadata": {},
   "outputs": [
    {
     "data": {
      "image/png": "[encoded data removed]",
      "text/plain": [
       "<matplotlib.figure.Figure at 0x12e14bc18>"
      ]
     },
     "metadata": {},
     "output_type": "display_data"
    }
   ],
   "source": [
    "ax = funnel2.plot.barh()\n",
    "ax.invert_yaxis()\n",
    "plt.show()"
   ]
  },
  {
   "cell_type": "markdown",
   "metadata": {},
   "source": [
    "### Retention Analysis\n",
    "\n",
    "**ALL USER**:\n",
    "From the line plot or heatmap, we can see that all cohorts have a significant drop after their initial visit. About 10% users remain in the cohort. From the 2nd day visit to 7th day vistit, the retention rate continues to drop a little and reaches to 5%. Looking at the tail of each cohort, it has little 'v' shape curve. That's because visitors are lessly likely to visit the website during weekends, which is consistent with the above finding that the website has less traffic during weekends. \n",
    "\n",
    "**NEW USER**:\n",
    "Comparing new user retention rate with all user's, we can see that new user segment has even lower retention rate. The second day visit retention rate is around 5%, and at the end, the rate drops to 1%. \n",
    "\n",
    "**BtnClick USER**:\n",
    "For users who had btnclick behavior, overall, it has higher retention rate than all user group. Though the weekend cohort groups have quite low second day retention rate, other cohort groups all hav retention rate greater than 14%. \n",
    "\n",
    "**Demoleave USER**:\n",
    "For users who visited demopage, it has the highest second day retention rate among all segments."
   ]
  },
  {
   "cell_type": "markdown",
   "metadata": {},
   "source": [
    "#### All User"
   ]
  },
  {
   "cell_type": "code",
   "execution_count": 212,
   "metadata": {
    "collapsed": true
   },
   "outputs": [],
   "source": [
    "# creating sub datasets with cols 'id','time','event'\n",
    "df_retention = df_flat[['distinct_id','time_date','time_date_full','event']].copy()"
   ]
  },
  {
   "cell_type": "code",
   "execution_count": 213,
   "metadata": {
    "scrolled": true
   },
   "outputs": [
    {
     "data": {
      "text/html": [
       "<div>\n",
       "<style>\n",
       "    .dataframe thead tr:only-child th {\n",
       "        text-align: right;\n",
       "    }\n",
       "\n",
       "    .dataframe thead th {\n",
       "        text-align: left;\n",
       "    }\n",
       "\n",
       "    .dataframe tbody tr th {\n",
       "        vertical-align: top;\n",
       "    }\n",
       "</style>\n",
       "<table border=\"1\" class=\"dataframe\">\n",
       "  <thead>\n",
       "    <tr style=\"text-align: right;\">\n",
       "      <th></th>\n",
       "      <th>distinct_id</th>\n",
       "      <th>time_date</th>\n",
       "      <th>time_date_full</th>\n",
       "      <th>event</th>\n",
       "      <th>CohortGroup</th>\n",
       "    </tr>\n",
       "  </thead>\n",
       "  <tbody>\n",
       "    <tr>\n",
       "      <th>0</th>\n",
       "      <td>595466e9a8e733434ce08de16e927d985e0b5d48</td>\n",
       "      <td>2017-03-06</td>\n",
       "      <td>2017-03-06 09:04:07.953</td>\n",
       "      <td>index_leave</td>\n",
       "      <td>2017-03-06</td>\n",
       "    </tr>\n",
       "    <tr>\n",
       "      <th>1</th>\n",
       "      <td>9939d3e087bca29c42334d96dccd25ca0e06652a</td>\n",
       "      <td>NaT</td>\n",
       "      <td>NaT</td>\n",
       "      <td>NaN</td>\n",
       "      <td>2017-03-06</td>\n",
       "    </tr>\n",
       "    <tr>\n",
       "      <th>2</th>\n",
       "      <td>9939d3e087bca29c42334d96dccd25ca0e06652a</td>\n",
       "      <td>2017-03-06</td>\n",
       "      <td>2017-03-06 09:04:10.856</td>\n",
       "      <td>$pageview</td>\n",
       "      <td>2017-03-06</td>\n",
       "    </tr>\n",
       "    <tr>\n",
       "      <th>3</th>\n",
       "      <td>9939d3e087bca29c42334d96dccd25ca0e06652a</td>\n",
       "      <td>2017-03-06</td>\n",
       "      <td>2017-03-06 09:04:11.772</td>\n",
       "      <td>btnClick</td>\n",
       "      <td>2017-03-06</td>\n",
       "    </tr>\n",
       "    <tr>\n",
       "      <th>4</th>\n",
       "      <td>9939d3e087bca29c42334d96dccd25ca0e06652a</td>\n",
       "      <td>2017-03-06</td>\n",
       "      <td>2017-03-06 09:04:16.032</td>\n",
       "      <td>btnClick</td>\n",
       "      <td>2017-03-06</td>\n",
       "    </tr>\n",
       "    <tr>\n",
       "      <th>5</th>\n",
       "      <td>595466e9a8e733434ce08de16e927d985e0b5d48</td>\n",
       "      <td>2017-03-06</td>\n",
       "      <td>2017-03-06 09:04:17.880</td>\n",
       "      <td>demo_leave</td>\n",
       "      <td>2017-03-06</td>\n",
       "    </tr>\n",
       "    <tr>\n",
       "      <th>6</th>\n",
       "      <td>c98f9661c89faeedb1109065d146f5be806f2d50</td>\n",
       "      <td>2017-03-06</td>\n",
       "      <td>2017-03-06 09:04:18.601</td>\n",
       "      <td>btnClick</td>\n",
       "      <td>2017-03-06</td>\n",
       "    </tr>\n",
       "    <tr>\n",
       "      <th>7</th>\n",
       "      <td>c98f9661c89faeedb1109065d146f5be806f2d50</td>\n",
       "      <td>2017-03-06</td>\n",
       "      <td>2017-03-06 09:04:19.334</td>\n",
       "      <td>$pageview</td>\n",
       "      <td>2017-03-06</td>\n",
       "    </tr>\n",
       "    <tr>\n",
       "      <th>8</th>\n",
       "      <td>9939d3e087bca29c42334d96dccd25ca0e06652a</td>\n",
       "      <td>2017-03-06</td>\n",
       "      <td>2017-03-06 09:04:23.942</td>\n",
       "      <td>btnClick</td>\n",
       "      <td>2017-03-06</td>\n",
       "    </tr>\n",
       "    <tr>\n",
       "      <th>9</th>\n",
       "      <td>978ab1876c3063608cd564a1ab90bfd6eaaf8e44</td>\n",
       "      <td>2017-03-06</td>\n",
       "      <td>2017-03-06 09:04:42.530</td>\n",
       "      <td>btnClick</td>\n",
       "      <td>2017-03-06</td>\n",
       "    </tr>\n",
       "    <tr>\n",
       "      <th>10</th>\n",
       "      <td>978ab1876c3063608cd564a1ab90bfd6eaaf8e44</td>\n",
       "      <td>2017-03-06</td>\n",
       "      <td>2017-03-06 09:04:42.900</td>\n",
       "      <td>$pageview</td>\n",
       "      <td>2017-03-06</td>\n",
       "    </tr>\n",
       "    <tr>\n",
       "      <th>11</th>\n",
       "      <td>ff2705ac620f4adb287f690860eab8d4a3586ace</td>\n",
       "      <td>2017-03-06</td>\n",
       "      <td>2017-03-06 09:04:43.661</td>\n",
       "      <td>$pageview</td>\n",
       "      <td>2017-03-06</td>\n",
       "    </tr>\n",
       "    <tr>\n",
       "      <th>12</th>\n",
       "      <td>978ab1876c3063608cd564a1ab90bfd6eaaf8e44</td>\n",
       "      <td>2017-03-06</td>\n",
       "      <td>2017-03-06 09:04:58.416</td>\n",
       "      <td>$pageview</td>\n",
       "      <td>2017-03-06</td>\n",
       "    </tr>\n",
       "    <tr>\n",
       "      <th>13</th>\n",
       "      <td>ac2b15e51b9d22b6b46782fbde206657db0c1a26</td>\n",
       "      <td>NaT</td>\n",
       "      <td>NaT</td>\n",
       "      <td>NaN</td>\n",
       "      <td>2017-03-06</td>\n",
       "    </tr>\n",
       "    <tr>\n",
       "      <th>14</th>\n",
       "      <td>ac2b15e51b9d22b6b46782fbde206657db0c1a26</td>\n",
       "      <td>2017-03-06</td>\n",
       "      <td>2017-03-06 09:04:58.598</td>\n",
       "      <td>$pageview</td>\n",
       "      <td>2017-03-06</td>\n",
       "    </tr>\n",
       "    <tr>\n",
       "      <th>15</th>\n",
       "      <td>946454a22a08858901ab1fbc40fa976554dfac32</td>\n",
       "      <td>2017-03-06</td>\n",
       "      <td>2017-03-06 09:05:00.011</td>\n",
       "      <td>index_leave</td>\n",
       "      <td>2017-03-06</td>\n",
       "    </tr>\n",
       "    <tr>\n",
       "      <th>16</th>\n",
       "      <td>946454a22a08858901ab1fbc40fa976554dfac32</td>\n",
       "      <td>2017-03-06</td>\n",
       "      <td>2017-03-06 09:05:00.722</td>\n",
       "      <td>demo_leave</td>\n",
       "      <td>2017-03-06</td>\n",
       "    </tr>\n",
       "    <tr>\n",
       "      <th>17</th>\n",
       "      <td>9939d3e087bca29c42334d96dccd25ca0e06652a</td>\n",
       "      <td>2017-03-06</td>\n",
       "      <td>2017-03-06 09:05:14.336</td>\n",
       "      <td>click_send_cellphone</td>\n",
       "      <td>2017-03-06</td>\n",
       "    </tr>\n",
       "    <tr>\n",
       "      <th>18</th>\n",
       "      <td>5d85e42af6e819a53c9169fed4b909fe0f1613f2</td>\n",
       "      <td>NaT</td>\n",
       "      <td>NaT</td>\n",
       "      <td>NaN</td>\n",
       "      <td>2017-03-06</td>\n",
       "    </tr>\n",
       "    <tr>\n",
       "      <th>19</th>\n",
       "      <td>5d85e42af6e819a53c9169fed4b909fe0f1613f2</td>\n",
       "      <td>2017-03-06</td>\n",
       "      <td>2017-03-06 09:05:16.986</td>\n",
       "      <td>$pageview</td>\n",
       "      <td>2017-03-06</td>\n",
       "    </tr>\n",
       "  </tbody>\n",
       "</table>\n",
       "</div>"
      ],
      "text/plain": [
       "                                 distinct_id  time_date  \\\n",
       "0   595466e9a8e733434ce08de16e927d985e0b5d48 2017-03-06   \n",
       "1   9939d3e087bca29c42334d96dccd25ca0e06652a        NaT   \n",
       "2   9939d3e087bca29c42334d96dccd25ca0e06652a 2017-03-06   \n",
       "3   9939d3e087bca29c42334d96dccd25ca0e06652a 2017-03-06   \n",
       "4   9939d3e087bca29c42334d96dccd25ca0e06652a 2017-03-06   \n",
       "5   595466e9a8e733434ce08de16e927d985e0b5d48 2017-03-06   \n",
       "6   c98f9661c89faeedb1109065d146f5be806f2d50 2017-03-06   \n",
       "7   c98f9661c89faeedb1109065d146f5be806f2d50 2017-03-06   \n",
       "8   9939d3e087bca29c42334d96dccd25ca0e06652a 2017-03-06   \n",
       "9   978ab1876c3063608cd564a1ab90bfd6eaaf8e44 2017-03-06   \n",
       "10  978ab1876c3063608cd564a1ab90bfd6eaaf8e44 2017-03-06   \n",
       "11  ff2705ac620f4adb287f690860eab8d4a3586ace 2017-03-06   \n",
       "12  978ab1876c3063608cd564a1ab90bfd6eaaf8e44 2017-03-06   \n",
       "13  ac2b15e51b9d22b6b46782fbde206657db0c1a26        NaT   \n",
       "14  ac2b15e51b9d22b6b46782fbde206657db0c1a26 2017-03-06   \n",
       "15  946454a22a08858901ab1fbc40fa976554dfac32 2017-03-06   \n",
       "16  946454a22a08858901ab1fbc40fa976554dfac32 2017-03-06   \n",
       "17  9939d3e087bca29c42334d96dccd25ca0e06652a 2017-03-06   \n",
       "18  5d85e42af6e819a53c9169fed4b909fe0f1613f2        NaT   \n",
       "19  5d85e42af6e819a53c9169fed4b909fe0f1613f2 2017-03-06   \n",
       "\n",
       "            time_date_full                 event CohortGroup  \n",
       "0  2017-03-06 09:04:07.953           index_leave  2017-03-06  \n",
       "1                      NaT                   NaN  2017-03-06  \n",
       "2  2017-03-06 09:04:10.856             $pageview  2017-03-06  \n",
       "3  2017-03-06 09:04:11.772              btnClick  2017-03-06  \n",
       "4  2017-03-06 09:04:16.032              btnClick  2017-03-06  \n",
       "5  2017-03-06 09:04:17.880            demo_leave  2017-03-06  \n",
       "6  2017-03-06 09:04:18.601              btnClick  2017-03-06  \n",
       "7  2017-03-06 09:04:19.334             $pageview  2017-03-06  \n",
       "8  2017-03-06 09:04:23.942              btnClick  2017-03-06  \n",
       "9  2017-03-06 09:04:42.530              btnClick  2017-03-06  \n",
       "10 2017-03-06 09:04:42.900             $pageview  2017-03-06  \n",
       "11 2017-03-06 09:04:43.661             $pageview  2017-03-06  \n",
       "12 2017-03-06 09:04:58.416             $pageview  2017-03-06  \n",
       "13                     NaT                   NaN  2017-03-06  \n",
       "14 2017-03-06 09:04:58.598             $pageview  2017-03-06  \n",
       "15 2017-03-06 09:05:00.011           index_leave  2017-03-06  \n",
       "16 2017-03-06 09:05:00.722            demo_leave  2017-03-06  \n",
       "17 2017-03-06 09:05:14.336  click_send_cellphone  2017-03-06  \n",
       "18                     NaT                   NaN  2017-03-06  \n",
       "19 2017-03-06 09:05:16.986             $pageview  2017-03-06  "
      ]
     },
     "execution_count": 213,
     "metadata": {},
     "output_type": "execute_result"
    }
   ],
   "source": [
    "# defining user cohort group based on first event date\n",
    "df_retention.set_index('distinct_id',inplace=True)\n",
    "df_retention['CohortGroup'] = df_retention.groupby('distinct_id')['time_date'].min()\n",
    "df_retention.reset_index(inplace=True)\n",
    "df_retention.head(20)"
   ]
  },
  {
   "cell_type": "code",
   "execution_count": 214,
   "metadata": {
    "collapsed": true
   },
   "outputs": [],
   "source": [
    "cohorts = df_retention.groupby(['CohortGroup','time_date']).agg({'distinct_id':pd.Series.nunique,\n",
    "                                                                 'time_date_full':pd.Series.nunique})\n",
    "\n",
    "cohorts.rename(columns={'distinct_id':'total_users',\n",
    "                        'time_date_full': 'total_events'},inplace=True)\n"
   ]
  },
  {
   "cell_type": "code",
   "execution_count": 215,
   "metadata": {},
   "outputs": [
    {
     "data": {
      "text/html": [
       "<div>\n",
       "<style>\n",
       "    .dataframe thead tr:only-child th {\n",
       "        text-align: right;\n",
       "    }\n",
       "\n",
       "    .dataframe thead th {\n",
       "        text-align: left;\n",
       "    }\n",
       "\n",
       "    .dataframe tbody tr th {\n",
       "        vertical-align: top;\n",
       "    }\n",
       "</style>\n",
       "<table border=\"1\" class=\"dataframe\">\n",
       "  <thead>\n",
       "    <tr style=\"text-align: right;\">\n",
       "      <th></th>\n",
       "      <th></th>\n",
       "      <th>total_users</th>\n",
       "      <th>total_events</th>\n",
       "    </tr>\n",
       "    <tr>\n",
       "      <th>CohortGroup</th>\n",
       "      <th>time_date</th>\n",
       "      <th></th>\n",
       "      <th></th>\n",
       "    </tr>\n",
       "  </thead>\n",
       "  <tbody>\n",
       "    <tr>\n",
       "      <th rowspan=\"9\" valign=\"top\">2017-03-06</th>\n",
       "      <th>2017-03-06</th>\n",
       "      <td>788</td>\n",
       "      <td>3322</td>\n",
       "    </tr>\n",
       "    <tr>\n",
       "      <th>2017-03-07</th>\n",
       "      <td>92</td>\n",
       "      <td>817</td>\n",
       "    </tr>\n",
       "    <tr>\n",
       "      <th>2017-03-08</th>\n",
       "      <td>52</td>\n",
       "      <td>369</td>\n",
       "    </tr>\n",
       "    <tr>\n",
       "      <th>2017-03-09</th>\n",
       "      <td>50</td>\n",
       "      <td>275</td>\n",
       "    </tr>\n",
       "    <tr>\n",
       "      <th>2017-03-10</th>\n",
       "      <td>41</td>\n",
       "      <td>376</td>\n",
       "    </tr>\n",
       "    <tr>\n",
       "      <th>2017-03-11</th>\n",
       "      <td>15</td>\n",
       "      <td>83</td>\n",
       "    </tr>\n",
       "    <tr>\n",
       "      <th>2017-03-12</th>\n",
       "      <td>15</td>\n",
       "      <td>62</td>\n",
       "    </tr>\n",
       "    <tr>\n",
       "      <th>2017-03-13</th>\n",
       "      <td>50</td>\n",
       "      <td>340</td>\n",
       "    </tr>\n",
       "    <tr>\n",
       "      <th>2017-03-14</th>\n",
       "      <td>33</td>\n",
       "      <td>190</td>\n",
       "    </tr>\n",
       "    <tr>\n",
       "      <th>2017-03-07</th>\n",
       "      <th>2017-03-07</th>\n",
       "      <td>1730</td>\n",
       "      <td>8168</td>\n",
       "    </tr>\n",
       "  </tbody>\n",
       "</table>\n",
       "</div>"
      ],
      "text/plain": [
       "                        total_users  total_events\n",
       "CohortGroup time_date                            \n",
       "2017-03-06  2017-03-06          788          3322\n",
       "            2017-03-07           92           817\n",
       "            2017-03-08           52           369\n",
       "            2017-03-09           50           275\n",
       "            2017-03-10           41           376\n",
       "            2017-03-11           15            83\n",
       "            2017-03-12           15            62\n",
       "            2017-03-13           50           340\n",
       "            2017-03-14           33           190\n",
       "2017-03-07  2017-03-07         1730          8168"
      ]
     },
     "execution_count": 215,
     "metadata": {},
     "output_type": "execute_result"
    }
   ],
   "source": [
    "cohorts.head(10)"
   ]
  },
  {
   "cell_type": "code",
   "execution_count": 216,
   "metadata": {
    "collapsed": true
   },
   "outputs": [],
   "source": [
    "# adding 'cohortGroup' column, to indicate the nth day from users first visit\n",
    "def cohort_period(df):\n",
    "    df['CohortPeriod'] = np.arange(len(df))+1\n",
    "    return df\n",
    "\n",
    "cohorts = cohorts.groupby('CohortGroup').apply(cohort_period)"
   ]
  },
  {
   "cell_type": "code",
   "execution_count": 217,
   "metadata": {},
   "outputs": [
    {
     "data": {
      "text/html": [
       "<div>\n",
       "<style>\n",
       "    .dataframe thead tr:only-child th {\n",
       "        text-align: right;\n",
       "    }\n",
       "\n",
       "    .dataframe thead th {\n",
       "        text-align: left;\n",
       "    }\n",
       "\n",
       "    .dataframe tbody tr th {\n",
       "        vertical-align: top;\n",
       "    }\n",
       "</style>\n",
       "<table border=\"1\" class=\"dataframe\">\n",
       "  <thead>\n",
       "    <tr style=\"text-align: right;\">\n",
       "      <th></th>\n",
       "      <th></th>\n",
       "      <th>total_users</th>\n",
       "      <th>total_events</th>\n",
       "      <th>CohortPeriod</th>\n",
       "    </tr>\n",
       "    <tr>\n",
       "      <th>CohortGroup</th>\n",
       "      <th>time_date</th>\n",
       "      <th></th>\n",
       "      <th></th>\n",
       "      <th></th>\n",
       "    </tr>\n",
       "  </thead>\n",
       "  <tbody>\n",
       "    <tr>\n",
       "      <th rowspan=\"9\" valign=\"top\">2017-03-06</th>\n",
       "      <th>2017-03-06</th>\n",
       "      <td>788</td>\n",
       "      <td>3322</td>\n",
       "      <td>1</td>\n",
       "    </tr>\n",
       "    <tr>\n",
       "      <th>2017-03-07</th>\n",
       "      <td>92</td>\n",
       "      <td>817</td>\n",
       "      <td>2</td>\n",
       "    </tr>\n",
       "    <tr>\n",
       "      <th>2017-03-08</th>\n",
       "      <td>52</td>\n",
       "      <td>369</td>\n",
       "      <td>3</td>\n",
       "    </tr>\n",
       "    <tr>\n",
       "      <th>2017-03-09</th>\n",
       "      <td>50</td>\n",
       "      <td>275</td>\n",
       "      <td>4</td>\n",
       "    </tr>\n",
       "    <tr>\n",
       "      <th>2017-03-10</th>\n",
       "      <td>41</td>\n",
       "      <td>376</td>\n",
       "      <td>5</td>\n",
       "    </tr>\n",
       "    <tr>\n",
       "      <th>2017-03-11</th>\n",
       "      <td>15</td>\n",
       "      <td>83</td>\n",
       "      <td>6</td>\n",
       "    </tr>\n",
       "    <tr>\n",
       "      <th>2017-03-12</th>\n",
       "      <td>15</td>\n",
       "      <td>62</td>\n",
       "      <td>7</td>\n",
       "    </tr>\n",
       "    <tr>\n",
       "      <th>2017-03-13</th>\n",
       "      <td>50</td>\n",
       "      <td>340</td>\n",
       "      <td>8</td>\n",
       "    </tr>\n",
       "    <tr>\n",
       "      <th>2017-03-14</th>\n",
       "      <td>33</td>\n",
       "      <td>190</td>\n",
       "      <td>9</td>\n",
       "    </tr>\n",
       "    <tr>\n",
       "      <th>2017-03-07</th>\n",
       "      <th>2017-03-07</th>\n",
       "      <td>1730</td>\n",
       "      <td>8168</td>\n",
       "      <td>1</td>\n",
       "    </tr>\n",
       "  </tbody>\n",
       "</table>\n",
       "</div>"
      ],
      "text/plain": [
       "                        total_users  total_events  CohortPeriod\n",
       "CohortGroup time_date                                          \n",
       "2017-03-06  2017-03-06          788          3322             1\n",
       "            2017-03-07           92           817             2\n",
       "            2017-03-08           52           369             3\n",
       "            2017-03-09           50           275             4\n",
       "            2017-03-10           41           376             5\n",
       "            2017-03-11           15            83             6\n",
       "            2017-03-12           15            62             7\n",
       "            2017-03-13           50           340             8\n",
       "            2017-03-14           33           190             9\n",
       "2017-03-07  2017-03-07         1730          8168             1"
      ]
     },
     "execution_count": 217,
     "metadata": {},
     "output_type": "execute_result"
    }
   ],
   "source": [
    "cohorts.head(10)"
   ]
  },
  {
   "cell_type": "code",
   "execution_count": 218,
   "metadata": {},
   "outputs": [
    {
     "data": {
      "text/plain": [
       "CohortGroup\n",
       "2017-03-06     788\n",
       "2017-03-07    1730\n",
       "2017-03-08    1594\n",
       "2017-03-09    1708\n",
       "2017-03-10    1347\n",
       "2017-03-11     654\n",
       "2017-03-12     700\n",
       "2017-03-13    1580\n",
       "2017-03-14    1607\n",
       "Name: total_users, dtype: int64"
      ]
     },
     "execution_count": 218,
     "metadata": {},
     "output_type": "execute_result"
    }
   ],
   "source": [
    "cohorts.reset_index(inplace=True)\n",
    "cohorts.set_index(['CohortGroup','CohortPeriod'],inplace=True)\n",
    "\n",
    "cohort_group_size = cohorts['total_users'].groupby(level=0).first()\n",
    "cohort_group_size"
   ]
  },
  {
   "cell_type": "code",
   "execution_count": 219,
   "metadata": {},
   "outputs": [
    {
     "data": {
      "text/html": [
       "<div>\n",
       "<style>\n",
       "    .dataframe thead tr:only-child th {\n",
       "        text-align: right;\n",
       "    }\n",
       "\n",
       "    .dataframe thead th {\n",
       "        text-align: left;\n",
       "    }\n",
       "\n",
       "    .dataframe tbody tr th {\n",
       "        vertical-align: top;\n",
       "    }\n",
       "</style>\n",
       "<table border=\"1\" class=\"dataframe\">\n",
       "  <thead>\n",
       "    <tr style=\"text-align: right;\">\n",
       "      <th>CohortGroup</th>\n",
       "      <th>2017-03-06 00:00:00</th>\n",
       "      <th>2017-03-07 00:00:00</th>\n",
       "      <th>2017-03-08 00:00:00</th>\n",
       "      <th>2017-03-09 00:00:00</th>\n",
       "      <th>2017-03-10 00:00:00</th>\n",
       "      <th>2017-03-11 00:00:00</th>\n",
       "      <th>2017-03-12 00:00:00</th>\n",
       "      <th>2017-03-13 00:00:00</th>\n",
       "      <th>2017-03-14 00:00:00</th>\n",
       "    </tr>\n",
       "    <tr>\n",
       "      <th>CohortPeriod</th>\n",
       "      <th></th>\n",
       "      <th></th>\n",
       "      <th></th>\n",
       "      <th></th>\n",
       "      <th></th>\n",
       "      <th></th>\n",
       "      <th></th>\n",
       "      <th></th>\n",
       "      <th></th>\n",
       "    </tr>\n",
       "  </thead>\n",
       "  <tbody>\n",
       "    <tr>\n",
       "      <th>1</th>\n",
       "      <td>788.0</td>\n",
       "      <td>1730.0</td>\n",
       "      <td>1594.0</td>\n",
       "      <td>1708.0</td>\n",
       "      <td>1347.0</td>\n",
       "      <td>654.0</td>\n",
       "      <td>700.0</td>\n",
       "      <td>1580.0</td>\n",
       "      <td>1607.0</td>\n",
       "    </tr>\n",
       "    <tr>\n",
       "      <th>2</th>\n",
       "      <td>92.0</td>\n",
       "      <td>178.0</td>\n",
       "      <td>106.0</td>\n",
       "      <td>136.0</td>\n",
       "      <td>38.0</td>\n",
       "      <td>19.0</td>\n",
       "      <td>28.0</td>\n",
       "      <td>119.0</td>\n",
       "      <td>NaN</td>\n",
       "    </tr>\n",
       "    <tr>\n",
       "      <th>3</th>\n",
       "      <td>52.0</td>\n",
       "      <td>127.0</td>\n",
       "      <td>77.0</td>\n",
       "      <td>22.0</td>\n",
       "      <td>10.0</td>\n",
       "      <td>18.0</td>\n",
       "      <td>13.0</td>\n",
       "      <td>NaN</td>\n",
       "      <td>NaN</td>\n",
       "    </tr>\n",
       "    <tr>\n",
       "      <th>4</th>\n",
       "      <td>50.0</td>\n",
       "      <td>108.0</td>\n",
       "      <td>11.0</td>\n",
       "      <td>17.0</td>\n",
       "      <td>69.0</td>\n",
       "      <td>12.0</td>\n",
       "      <td>NaN</td>\n",
       "      <td>NaN</td>\n",
       "      <td>NaN</td>\n",
       "    </tr>\n",
       "    <tr>\n",
       "      <th>5</th>\n",
       "      <td>41.0</td>\n",
       "      <td>22.0</td>\n",
       "      <td>9.0</td>\n",
       "      <td>79.0</td>\n",
       "      <td>62.0</td>\n",
       "      <td>NaN</td>\n",
       "      <td>NaN</td>\n",
       "      <td>NaN</td>\n",
       "      <td>NaN</td>\n",
       "    </tr>\n",
       "    <tr>\n",
       "      <th>6</th>\n",
       "      <td>15.0</td>\n",
       "      <td>23.0</td>\n",
       "      <td>58.0</td>\n",
       "      <td>63.0</td>\n",
       "      <td>NaN</td>\n",
       "      <td>NaN</td>\n",
       "      <td>NaN</td>\n",
       "      <td>NaN</td>\n",
       "      <td>NaN</td>\n",
       "    </tr>\n",
       "    <tr>\n",
       "      <th>7</th>\n",
       "      <td>15.0</td>\n",
       "      <td>96.0</td>\n",
       "      <td>37.0</td>\n",
       "      <td>NaN</td>\n",
       "      <td>NaN</td>\n",
       "      <td>NaN</td>\n",
       "      <td>NaN</td>\n",
       "      <td>NaN</td>\n",
       "      <td>NaN</td>\n",
       "    </tr>\n",
       "    <tr>\n",
       "      <th>8</th>\n",
       "      <td>50.0</td>\n",
       "      <td>90.0</td>\n",
       "      <td>NaN</td>\n",
       "      <td>NaN</td>\n",
       "      <td>NaN</td>\n",
       "      <td>NaN</td>\n",
       "      <td>NaN</td>\n",
       "      <td>NaN</td>\n",
       "      <td>NaN</td>\n",
       "    </tr>\n",
       "    <tr>\n",
       "      <th>9</th>\n",
       "      <td>33.0</td>\n",
       "      <td>NaN</td>\n",
       "      <td>NaN</td>\n",
       "      <td>NaN</td>\n",
       "      <td>NaN</td>\n",
       "      <td>NaN</td>\n",
       "      <td>NaN</td>\n",
       "      <td>NaN</td>\n",
       "      <td>NaN</td>\n",
       "    </tr>\n",
       "  </tbody>\n",
       "</table>\n",
       "</div>"
      ],
      "text/plain": [
       "CohortGroup   2017-03-06  2017-03-07  2017-03-08  2017-03-09  2017-03-10  \\\n",
       "CohortPeriod                                                               \n",
       "1                  788.0      1730.0      1594.0      1708.0      1347.0   \n",
       "2                   92.0       178.0       106.0       136.0        38.0   \n",
       "3                   52.0       127.0        77.0        22.0        10.0   \n",
       "4                   50.0       108.0        11.0        17.0        69.0   \n",
       "5                   41.0        22.0         9.0        79.0        62.0   \n",
       "6                   15.0        23.0        58.0        63.0         NaN   \n",
       "7                   15.0        96.0        37.0         NaN         NaN   \n",
       "8                   50.0        90.0         NaN         NaN         NaN   \n",
       "9                   33.0         NaN         NaN         NaN         NaN   \n",
       "\n",
       "CohortGroup   2017-03-11  2017-03-12  2017-03-13  2017-03-14  \n",
       "CohortPeriod                                                  \n",
       "1                  654.0       700.0      1580.0      1607.0  \n",
       "2                   19.0        28.0       119.0         NaN  \n",
       "3                   18.0        13.0         NaN         NaN  \n",
       "4                   12.0         NaN         NaN         NaN  \n",
       "5                    NaN         NaN         NaN         NaN  \n",
       "6                    NaN         NaN         NaN         NaN  \n",
       "7                    NaN         NaN         NaN         NaN  \n",
       "8                    NaN         NaN         NaN         NaN  \n",
       "9                    NaN         NaN         NaN         NaN  "
      ]
     },
     "execution_count": 219,
     "metadata": {},
     "output_type": "execute_result"
    }
   ],
   "source": [
    "cohorts['total_users'].unstack(0)"
   ]
  },
  {
   "cell_type": "code",
   "execution_count": 220,
   "metadata": {},
   "outputs": [
    {
     "data": {
      "text/html": [
       "<div>\n",
       "<style>\n",
       "    .dataframe thead tr:only-child th {\n",
       "        text-align: right;\n",
       "    }\n",
       "\n",
       "    .dataframe thead th {\n",
       "        text-align: left;\n",
       "    }\n",
       "\n",
       "    .dataframe tbody tr th {\n",
       "        vertical-align: top;\n",
       "    }\n",
       "</style>\n",
       "<table border=\"1\" class=\"dataframe\">\n",
       "  <thead>\n",
       "    <tr style=\"text-align: right;\">\n",
       "      <th>CohortGroup</th>\n",
       "      <th>2017-03-06 00:00:00</th>\n",
       "      <th>2017-03-07 00:00:00</th>\n",
       "      <th>2017-03-08 00:00:00</th>\n",
       "      <th>2017-03-09 00:00:00</th>\n",
       "      <th>2017-03-10 00:00:00</th>\n",
       "      <th>2017-03-11 00:00:00</th>\n",
       "      <th>2017-03-12 00:00:00</th>\n",
       "      <th>2017-03-13 00:00:00</th>\n",
       "      <th>2017-03-14 00:00:00</th>\n",
       "    </tr>\n",
       "    <tr>\n",
       "      <th>CohortPeriod</th>\n",
       "      <th></th>\n",
       "      <th></th>\n",
       "      <th></th>\n",
       "      <th></th>\n",
       "      <th></th>\n",
       "      <th></th>\n",
       "      <th></th>\n",
       "      <th></th>\n",
       "      <th></th>\n",
       "    </tr>\n",
       "  </thead>\n",
       "  <tbody>\n",
       "    <tr>\n",
       "      <th>1</th>\n",
       "      <td>1.000000</td>\n",
       "      <td>1.000000</td>\n",
       "      <td>1.000000</td>\n",
       "      <td>1.000000</td>\n",
       "      <td>1.000000</td>\n",
       "      <td>1.000000</td>\n",
       "      <td>1.000000</td>\n",
       "      <td>1.000000</td>\n",
       "      <td>1.0</td>\n",
       "    </tr>\n",
       "    <tr>\n",
       "      <th>2</th>\n",
       "      <td>0.116751</td>\n",
       "      <td>0.102890</td>\n",
       "      <td>0.066499</td>\n",
       "      <td>0.079625</td>\n",
       "      <td>0.028211</td>\n",
       "      <td>0.029052</td>\n",
       "      <td>0.040000</td>\n",
       "      <td>0.075316</td>\n",
       "      <td>NaN</td>\n",
       "    </tr>\n",
       "    <tr>\n",
       "      <th>3</th>\n",
       "      <td>0.065990</td>\n",
       "      <td>0.073410</td>\n",
       "      <td>0.048306</td>\n",
       "      <td>0.012881</td>\n",
       "      <td>0.007424</td>\n",
       "      <td>0.027523</td>\n",
       "      <td>0.018571</td>\n",
       "      <td>NaN</td>\n",
       "      <td>NaN</td>\n",
       "    </tr>\n",
       "    <tr>\n",
       "      <th>4</th>\n",
       "      <td>0.063452</td>\n",
       "      <td>0.062428</td>\n",
       "      <td>0.006901</td>\n",
       "      <td>0.009953</td>\n",
       "      <td>0.051225</td>\n",
       "      <td>0.018349</td>\n",
       "      <td>NaN</td>\n",
       "      <td>NaN</td>\n",
       "      <td>NaN</td>\n",
       "    </tr>\n",
       "    <tr>\n",
       "      <th>5</th>\n",
       "      <td>0.052030</td>\n",
       "      <td>0.012717</td>\n",
       "      <td>0.005646</td>\n",
       "      <td>0.046253</td>\n",
       "      <td>0.046028</td>\n",
       "      <td>NaN</td>\n",
       "      <td>NaN</td>\n",
       "      <td>NaN</td>\n",
       "      <td>NaN</td>\n",
       "    </tr>\n",
       "    <tr>\n",
       "      <th>6</th>\n",
       "      <td>0.019036</td>\n",
       "      <td>0.013295</td>\n",
       "      <td>0.036386</td>\n",
       "      <td>0.036885</td>\n",
       "      <td>NaN</td>\n",
       "      <td>NaN</td>\n",
       "      <td>NaN</td>\n",
       "      <td>NaN</td>\n",
       "      <td>NaN</td>\n",
       "    </tr>\n",
       "    <tr>\n",
       "      <th>7</th>\n",
       "      <td>0.019036</td>\n",
       "      <td>0.055491</td>\n",
       "      <td>0.023212</td>\n",
       "      <td>NaN</td>\n",
       "      <td>NaN</td>\n",
       "      <td>NaN</td>\n",
       "      <td>NaN</td>\n",
       "      <td>NaN</td>\n",
       "      <td>NaN</td>\n",
       "    </tr>\n",
       "    <tr>\n",
       "      <th>8</th>\n",
       "      <td>0.063452</td>\n",
       "      <td>0.052023</td>\n",
       "      <td>NaN</td>\n",
       "      <td>NaN</td>\n",
       "      <td>NaN</td>\n",
       "      <td>NaN</td>\n",
       "      <td>NaN</td>\n",
       "      <td>NaN</td>\n",
       "      <td>NaN</td>\n",
       "    </tr>\n",
       "    <tr>\n",
       "      <th>9</th>\n",
       "      <td>0.041878</td>\n",
       "      <td>NaN</td>\n",
       "      <td>NaN</td>\n",
       "      <td>NaN</td>\n",
       "      <td>NaN</td>\n",
       "      <td>NaN</td>\n",
       "      <td>NaN</td>\n",
       "      <td>NaN</td>\n",
       "      <td>NaN</td>\n",
       "    </tr>\n",
       "  </tbody>\n",
       "</table>\n",
       "</div>"
      ],
      "text/plain": [
       "CohortGroup   2017-03-06  2017-03-07  2017-03-08  2017-03-09  2017-03-10  \\\n",
       "CohortPeriod                                                               \n",
       "1               1.000000    1.000000    1.000000    1.000000    1.000000   \n",
       "2               0.116751    0.102890    0.066499    0.079625    0.028211   \n",
       "3               0.065990    0.073410    0.048306    0.012881    0.007424   \n",
       "4               0.063452    0.062428    0.006901    0.009953    0.051225   \n",
       "5               0.052030    0.012717    0.005646    0.046253    0.046028   \n",
       "6               0.019036    0.013295    0.036386    0.036885         NaN   \n",
       "7               0.019036    0.055491    0.023212         NaN         NaN   \n",
       "8               0.063452    0.052023         NaN         NaN         NaN   \n",
       "9               0.041878         NaN         NaN         NaN         NaN   \n",
       "\n",
       "CohortGroup   2017-03-11  2017-03-12  2017-03-13  2017-03-14  \n",
       "CohortPeriod                                                  \n",
       "1               1.000000    1.000000    1.000000         1.0  \n",
       "2               0.029052    0.040000    0.075316         NaN  \n",
       "3               0.027523    0.018571         NaN         NaN  \n",
       "4               0.018349         NaN         NaN         NaN  \n",
       "5                    NaN         NaN         NaN         NaN  \n",
       "6                    NaN         NaN         NaN         NaN  \n",
       "7                    NaN         NaN         NaN         NaN  \n",
       "8                    NaN         NaN         NaN         NaN  \n",
       "9                    NaN         NaN         NaN         NaN  "
      ]
     },
     "execution_count": 220,
     "metadata": {},
     "output_type": "execute_result"
    }
   ],
   "source": [
    "user_retention = cohorts['total_users'].unstack(0).divide(cohort_group_size,axis=1)\n",
    "user_retention"
   ]
  },
  {
   "cell_type": "code",
   "execution_count": 221,
   "metadata": {
    "collapsed": true
   },
   "outputs": [],
   "source": [
    "user_retention.columns = ['2017-03-06', '2017-03-07', '2017-03-08', '2017-03-09',\n",
    "               '2017-03-10', '2017-03-11', '2017-03-12', '2017-03-13',\n",
    "               '2017-03-14']"
   ]
  },
  {
   "cell_type": "code",
   "execution_count": 222,
   "metadata": {},
   "outputs": [
    {
     "data": {
      "image/png": "[encoded data removed]",
      "text/plain": [
       "<matplotlib.figure.Figure at 0x12d341a90>"
      ]
     },
     "metadata": {},
     "output_type": "display_data"
    }
   ],
   "source": [
    "user_retention[['2017-03-06', '2017-03-07', '2017-03-08']].plot(figsize=(10,5))\n",
    "plt.title('User(ALL) Retention')\n",
    "plt.xticks(np.arange(1, 10, 1))\n",
    "plt.xlim(1, 10)\n",
    "plt.ylabel('% of Cohort visiting webpage')\n",
    "plt.savefig('all_user_retention_line_chart.pdf')"
   ]
  },
  {
   "cell_type": "code",
   "execution_count": 223,
   "metadata": {},
   "outputs": [
    {
     "data": {
      "image/png": "[encoded data removed]",
      "text/plain": [
       "<matplotlib.figure.Figure at 0x12dd5b940>"
      ]
     },
     "metadata": {},
     "output_type": "display_data"
    }
   ],
   "source": [
    "import seaborn as sns\n",
    "sns.set(style='white')\n",
    "\n",
    "plt.figure(figsize=(12, 8))\n",
    "plt.title('User(ALL) Retention')\n",
    "sns.heatmap(user_retention.T, mask=user_retention.T.isnull(), annot=True, fmt='.0%');\n",
    "plt.savefig('all_user_retention_heatmap.pdf')"
   ]
  },
  {
   "cell_type": "markdown",
   "metadata": {},
   "source": [
    "#### New User"
   ]
  },
  {
   "cell_type": "code",
   "execution_count": 224,
   "metadata": {
    "collapsed": true
   },
   "outputs": [],
   "source": [
    "# creating sub datasets with cols 'id','time','event'\n",
    "new_user_id = df_flat[df_flat['properties.$is_first_time']==1]['distinct_id'].unique()\n",
    "df_new_retention = df_flat.loc[df_flat['distinct_id'].isin(new_user_id),['distinct_id','time_date','time_date_full','event']].copy()"
   ]
  },
  {
   "cell_type": "code",
   "execution_count": 225,
   "metadata": {
    "collapsed": true
   },
   "outputs": [],
   "source": [
    "# defining user cohort group based on first event date\n",
    "df_new_retention.set_index('distinct_id',inplace=True)\n",
    "df_new_retention['CohortGroup'] = df_new_retention.groupby('distinct_id')['time_date'].min()\n",
    "df_new_retention.reset_index(inplace=True)\n",
    "#df_new_retention.head(20)"
   ]
  },
  {
   "cell_type": "code",
   "execution_count": 226,
   "metadata": {},
   "outputs": [
    {
     "data": {
      "text/html": [
       "<div>\n",
       "<style>\n",
       "    .dataframe thead tr:only-child th {\n",
       "        text-align: right;\n",
       "    }\n",
       "\n",
       "    .dataframe thead th {\n",
       "        text-align: left;\n",
       "    }\n",
       "\n",
       "    .dataframe tbody tr th {\n",
       "        vertical-align: top;\n",
       "    }\n",
       "</style>\n",
       "<table border=\"1\" class=\"dataframe\">\n",
       "  <thead>\n",
       "    <tr style=\"text-align: right;\">\n",
       "      <th></th>\n",
       "      <th></th>\n",
       "      <th>total_users</th>\n",
       "      <th>total_events</th>\n",
       "    </tr>\n",
       "    <tr>\n",
       "      <th>CohortGroup</th>\n",
       "      <th>time_date</th>\n",
       "      <th></th>\n",
       "      <th></th>\n",
       "    </tr>\n",
       "  </thead>\n",
       "  <tbody>\n",
       "    <tr>\n",
       "      <th rowspan=\"9\" valign=\"top\">2017-03-06</th>\n",
       "      <th>2017-03-06</th>\n",
       "      <td>547</td>\n",
       "      <td>2294</td>\n",
       "    </tr>\n",
       "    <tr>\n",
       "      <th>2017-03-07</th>\n",
       "      <td>19</td>\n",
       "      <td>90</td>\n",
       "    </tr>\n",
       "    <tr>\n",
       "      <th>2017-03-08</th>\n",
       "      <td>10</td>\n",
       "      <td>32</td>\n",
       "    </tr>\n",
       "    <tr>\n",
       "      <th>2017-03-09</th>\n",
       "      <td>7</td>\n",
       "      <td>18</td>\n",
       "    </tr>\n",
       "    <tr>\n",
       "      <th>2017-03-10</th>\n",
       "      <td>4</td>\n",
       "      <td>25</td>\n",
       "    </tr>\n",
       "    <tr>\n",
       "      <th>2017-03-11</th>\n",
       "      <td>2</td>\n",
       "      <td>3</td>\n",
       "    </tr>\n",
       "    <tr>\n",
       "      <th>2017-03-12</th>\n",
       "      <td>4</td>\n",
       "      <td>12</td>\n",
       "    </tr>\n",
       "    <tr>\n",
       "      <th>2017-03-13</th>\n",
       "      <td>4</td>\n",
       "      <td>6</td>\n",
       "    </tr>\n",
       "    <tr>\n",
       "      <th>2017-03-14</th>\n",
       "      <td>2</td>\n",
       "      <td>5</td>\n",
       "    </tr>\n",
       "    <tr>\n",
       "      <th>2017-03-07</th>\n",
       "      <th>2017-03-07</th>\n",
       "      <td>1229</td>\n",
       "      <td>5654</td>\n",
       "    </tr>\n",
       "  </tbody>\n",
       "</table>\n",
       "</div>"
      ],
      "text/plain": [
       "                        total_users  total_events\n",
       "CohortGroup time_date                            \n",
       "2017-03-06  2017-03-06          547          2294\n",
       "            2017-03-07           19            90\n",
       "            2017-03-08           10            32\n",
       "            2017-03-09            7            18\n",
       "            2017-03-10            4            25\n",
       "            2017-03-11            2             3\n",
       "            2017-03-12            4            12\n",
       "            2017-03-13            4             6\n",
       "            2017-03-14            2             5\n",
       "2017-03-07  2017-03-07         1229          5654"
      ]
     },
     "execution_count": 226,
     "metadata": {},
     "output_type": "execute_result"
    }
   ],
   "source": [
    "cohorts_new = df_new_retention.groupby(['CohortGroup','time_date']).agg({'distinct_id':pd.Series.nunique,\n",
    "                                                                 'time_date_full':pd.Series.nunique})\n",
    "\n",
    "cohorts_new.rename(columns={'distinct_id':'total_users',\n",
    "                        'time_date_full': 'total_events'},inplace=True)\n",
    "\n",
    "cohorts_new.head(10)"
   ]
  },
  {
   "cell_type": "code",
   "execution_count": 227,
   "metadata": {
    "collapsed": true
   },
   "outputs": [],
   "source": [
    "cohorts_new = cohorts_new.groupby('CohortGroup').apply(cohort_period)"
   ]
  },
  {
   "cell_type": "code",
   "execution_count": 228,
   "metadata": {
    "collapsed": true
   },
   "outputs": [],
   "source": [
    "cohorts_new.reset_index(inplace=True)\n",
    "cohorts_new.set_index(['CohortGroup','CohortPeriod'],inplace=True)\n",
    "cohorts_new_size = cohorts_new['total_users'].groupby(level=0).first()"
   ]
  },
  {
   "cell_type": "code",
   "execution_count": 229,
   "metadata": {
    "collapsed": true
   },
   "outputs": [],
   "source": [
    "new_user_retention = cohorts_new['total_users'].unstack(0).divide(cohorts_new_size,axis=1)"
   ]
  },
  {
   "cell_type": "code",
   "execution_count": 230,
   "metadata": {
    "collapsed": true
   },
   "outputs": [],
   "source": [
    "new_user_retention.columns = ['2017-03-06', '2017-03-07', '2017-03-08', '2017-03-09',\n",
    "               '2017-03-10', '2017-03-11', '2017-03-12', '2017-03-13',\n",
    "               '2017-03-14']"
   ]
  },
  {
   "cell_type": "code",
   "execution_count": 231,
   "metadata": {},
   "outputs": [
    {
     "data": {
      "text/html": [
       "<div>\n",
       "<style>\n",
       "    .dataframe thead tr:only-child th {\n",
       "        text-align: right;\n",
       "    }\n",
       "\n",
       "    .dataframe thead th {\n",
       "        text-align: left;\n",
       "    }\n",
       "\n",
       "    .dataframe tbody tr th {\n",
       "        vertical-align: top;\n",
       "    }\n",
       "</style>\n",
       "<table border=\"1\" class=\"dataframe\">\n",
       "  <thead>\n",
       "    <tr style=\"text-align: right;\">\n",
       "      <th></th>\n",
       "      <th>2017-03-06</th>\n",
       "      <th>2017-03-07</th>\n",
       "      <th>2017-03-08</th>\n",
       "      <th>2017-03-09</th>\n",
       "      <th>2017-03-10</th>\n",
       "      <th>2017-03-11</th>\n",
       "      <th>2017-03-12</th>\n",
       "      <th>2017-03-13</th>\n",
       "      <th>2017-03-14</th>\n",
       "    </tr>\n",
       "    <tr>\n",
       "      <th>CohortPeriod</th>\n",
       "      <th></th>\n",
       "      <th></th>\n",
       "      <th></th>\n",
       "      <th></th>\n",
       "      <th></th>\n",
       "      <th></th>\n",
       "      <th></th>\n",
       "      <th></th>\n",
       "      <th></th>\n",
       "    </tr>\n",
       "  </thead>\n",
       "  <tbody>\n",
       "    <tr>\n",
       "      <th>1</th>\n",
       "      <td>1.000000</td>\n",
       "      <td>1.000000</td>\n",
       "      <td>1.000000</td>\n",
       "      <td>1.000000</td>\n",
       "      <td>1.000000</td>\n",
       "      <td>1.000000</td>\n",
       "      <td>1.000000</td>\n",
       "      <td>1.000000</td>\n",
       "      <td>1.0</td>\n",
       "    </tr>\n",
       "    <tr>\n",
       "      <th>2</th>\n",
       "      <td>0.034735</td>\n",
       "      <td>0.055330</td>\n",
       "      <td>0.046130</td>\n",
       "      <td>0.052975</td>\n",
       "      <td>0.025926</td>\n",
       "      <td>0.025952</td>\n",
       "      <td>0.036859</td>\n",
       "      <td>0.064985</td>\n",
       "      <td>NaN</td>\n",
       "    </tr>\n",
       "    <tr>\n",
       "      <th>3</th>\n",
       "      <td>0.018282</td>\n",
       "      <td>0.024410</td>\n",
       "      <td>0.025020</td>\n",
       "      <td>0.007983</td>\n",
       "      <td>0.004630</td>\n",
       "      <td>0.017301</td>\n",
       "      <td>0.014423</td>\n",
       "      <td>NaN</td>\n",
       "      <td>NaN</td>\n",
       "    </tr>\n",
       "    <tr>\n",
       "      <th>4</th>\n",
       "      <td>0.012797</td>\n",
       "      <td>0.018714</td>\n",
       "      <td>0.003127</td>\n",
       "      <td>0.005080</td>\n",
       "      <td>0.038889</td>\n",
       "      <td>0.006920</td>\n",
       "      <td>NaN</td>\n",
       "      <td>NaN</td>\n",
       "      <td>NaN</td>\n",
       "    </tr>\n",
       "    <tr>\n",
       "      <th>5</th>\n",
       "      <td>0.007313</td>\n",
       "      <td>0.005696</td>\n",
       "      <td>0.003127</td>\n",
       "      <td>0.023222</td>\n",
       "      <td>0.031481</td>\n",
       "      <td>NaN</td>\n",
       "      <td>NaN</td>\n",
       "      <td>NaN</td>\n",
       "      <td>NaN</td>\n",
       "    </tr>\n",
       "    <tr>\n",
       "      <th>6</th>\n",
       "      <td>0.003656</td>\n",
       "      <td>0.000814</td>\n",
       "      <td>0.017201</td>\n",
       "      <td>0.015239</td>\n",
       "      <td>NaN</td>\n",
       "      <td>NaN</td>\n",
       "      <td>NaN</td>\n",
       "      <td>NaN</td>\n",
       "      <td>NaN</td>\n",
       "    </tr>\n",
       "    <tr>\n",
       "      <th>7</th>\n",
       "      <td>0.007313</td>\n",
       "      <td>0.013019</td>\n",
       "      <td>0.010164</td>\n",
       "      <td>NaN</td>\n",
       "      <td>NaN</td>\n",
       "      <td>NaN</td>\n",
       "      <td>NaN</td>\n",
       "      <td>NaN</td>\n",
       "      <td>NaN</td>\n",
       "    </tr>\n",
       "    <tr>\n",
       "      <th>8</th>\n",
       "      <td>0.007313</td>\n",
       "      <td>0.009764</td>\n",
       "      <td>NaN</td>\n",
       "      <td>NaN</td>\n",
       "      <td>NaN</td>\n",
       "      <td>NaN</td>\n",
       "      <td>NaN</td>\n",
       "      <td>NaN</td>\n",
       "      <td>NaN</td>\n",
       "    </tr>\n",
       "    <tr>\n",
       "      <th>9</th>\n",
       "      <td>0.003656</td>\n",
       "      <td>NaN</td>\n",
       "      <td>NaN</td>\n",
       "      <td>NaN</td>\n",
       "      <td>NaN</td>\n",
       "      <td>NaN</td>\n",
       "      <td>NaN</td>\n",
       "      <td>NaN</td>\n",
       "      <td>NaN</td>\n",
       "    </tr>\n",
       "  </tbody>\n",
       "</table>\n",
       "</div>"
      ],
      "text/plain": [
       "              2017-03-06  2017-03-07  2017-03-08  2017-03-09  2017-03-10  \\\n",
       "CohortPeriod                                                               \n",
       "1               1.000000    1.000000    1.000000    1.000000    1.000000   \n",
       "2               0.034735    0.055330    0.046130    0.052975    0.025926   \n",
       "3               0.018282    0.024410    0.025020    0.007983    0.004630   \n",
       "4               0.012797    0.018714    0.003127    0.005080    0.038889   \n",
       "5               0.007313    0.005696    0.003127    0.023222    0.031481   \n",
       "6               0.003656    0.000814    0.017201    0.015239         NaN   \n",
       "7               0.007313    0.013019    0.010164         NaN         NaN   \n",
       "8               0.007313    0.009764         NaN         NaN         NaN   \n",
       "9               0.003656         NaN         NaN         NaN         NaN   \n",
       "\n",
       "              2017-03-11  2017-03-12  2017-03-13  2017-03-14  \n",
       "CohortPeriod                                                  \n",
       "1               1.000000    1.000000    1.000000         1.0  \n",
       "2               0.025952    0.036859    0.064985         NaN  \n",
       "3               0.017301    0.014423         NaN         NaN  \n",
       "4               0.006920         NaN         NaN         NaN  \n",
       "5                    NaN         NaN         NaN         NaN  \n",
       "6                    NaN         NaN         NaN         NaN  \n",
       "7                    NaN         NaN         NaN         NaN  \n",
       "8                    NaN         NaN         NaN         NaN  \n",
       "9                    NaN         NaN         NaN         NaN  "
      ]
     },
     "execution_count": 231,
     "metadata": {},
     "output_type": "execute_result"
    }
   ],
   "source": [
    "new_user_retention"
   ]
  },
  {
   "cell_type": "code",
   "execution_count": 232,
   "metadata": {},
   "outputs": [
    {
     "data": {
      "image/png": "[encoded data removed]",
      "text/plain": [
       "<matplotlib.figure.Figure at 0x12eb50710>"
      ]
     },
     "metadata": {},
     "output_type": "display_data"
    }
   ],
   "source": [
    "import seaborn as sns\n",
    "sns.set(style='white')\n",
    "plt.figure(figsize=(12, 8))\n",
    "plt.title('User(NEW) Retention')\n",
    "sns.heatmap(new_user_retention.T, mask=new_user_retention.T.isnull(), annot=True, fmt='.0%');\n",
    "plt.savefig('new_user_retention_heatmap.pdf')"
   ]
  },
  {
   "cell_type": "markdown",
   "metadata": {},
   "source": [
    "#### Users who had button click behavior"
   ]
  },
  {
   "cell_type": "code",
   "execution_count": 258,
   "metadata": {
    "collapsed": true
   },
   "outputs": [],
   "source": [
    "btnclick_id = df_final[df_final['btnClick']>=1]['index']"
   ]
  },
  {
   "cell_type": "code",
   "execution_count": 260,
   "metadata": {
    "collapsed": true
   },
   "outputs": [],
   "source": [
    "btnclick_user  = df_flat.loc[df_flat['distinct_id'].isin(btnclick_id),['distinct_id','time_date','time_date_full','event']].copy()"
   ]
  },
  {
   "cell_type": "code",
   "execution_count": 263,
   "metadata": {
    "collapsed": true
   },
   "outputs": [],
   "source": [
    "btnclick_user.set_index('distinct_id',inplace=True)\n",
    "btnclick_user['CohortGroup'] = btnclick_user.groupby('distinct_id')['time_date'].min()\n",
    "btnclick_user.reset_index(inplace=True)"
   ]
  },
  {
   "cell_type": "code",
   "execution_count": 264,
   "metadata": {
    "collapsed": true
   },
   "outputs": [],
   "source": [
    "cohorts_btnclick = btnclick_user.groupby(['CohortGroup','time_date']).agg({'distinct_id':pd.Series.nunique,\n",
    "                                                                  'time_date_full':pd.Series.nunique})\n",
    "\n",
    "cohorts_btnclick.rename(columns={'distinct_id':'total_users', \n",
    "                        'time_date_full': 'total_events'},inplace=True)\n"
   ]
  },
  {
   "cell_type": "code",
   "execution_count": 266,
   "metadata": {},
   "outputs": [
    {
     "data": {
      "text/html": [
       "<div>\n",
       "<style>\n",
       "    .dataframe thead tr:only-child th {\n",
       "        text-align: right;\n",
       "    }\n",
       "\n",
       "    .dataframe thead th {\n",
       "        text-align: left;\n",
       "    }\n",
       "\n",
       "    .dataframe tbody tr th {\n",
       "        vertical-align: top;\n",
       "    }\n",
       "</style>\n",
       "<table border=\"1\" class=\"dataframe\">\n",
       "  <thead>\n",
       "    <tr style=\"text-align: right;\">\n",
       "      <th></th>\n",
       "      <th></th>\n",
       "      <th>total_users</th>\n",
       "      <th>total_events</th>\n",
       "    </tr>\n",
       "    <tr>\n",
       "      <th>CohortGroup</th>\n",
       "      <th>time_date</th>\n",
       "      <th></th>\n",
       "      <th></th>\n",
       "    </tr>\n",
       "  </thead>\n",
       "  <tbody>\n",
       "    <tr>\n",
       "      <th rowspan=\"9\" valign=\"top\">2017-03-06</th>\n",
       "      <th>2017-03-06</th>\n",
       "      <td>292</td>\n",
       "      <td>2527</td>\n",
       "    </tr>\n",
       "    <tr>\n",
       "      <th>2017-03-07</th>\n",
       "      <td>61</td>\n",
       "      <td>753</td>\n",
       "    </tr>\n",
       "    <tr>\n",
       "      <th>2017-03-08</th>\n",
       "      <td>31</td>\n",
       "      <td>301</td>\n",
       "    </tr>\n",
       "    <tr>\n",
       "      <th>2017-03-09</th>\n",
       "      <td>29</td>\n",
       "      <td>210</td>\n",
       "    </tr>\n",
       "    <tr>\n",
       "      <th>2017-03-10</th>\n",
       "      <td>27</td>\n",
       "      <td>355</td>\n",
       "    </tr>\n",
       "    <tr>\n",
       "      <th>2017-03-11</th>\n",
       "      <td>10</td>\n",
       "      <td>72</td>\n",
       "    </tr>\n",
       "    <tr>\n",
       "      <th>2017-03-12</th>\n",
       "      <td>11</td>\n",
       "      <td>52</td>\n",
       "    </tr>\n",
       "    <tr>\n",
       "      <th>2017-03-13</th>\n",
       "      <td>33</td>\n",
       "      <td>310</td>\n",
       "    </tr>\n",
       "    <tr>\n",
       "      <th>2017-03-14</th>\n",
       "      <td>21</td>\n",
       "      <td>164</td>\n",
       "    </tr>\n",
       "    <tr>\n",
       "      <th>2017-03-07</th>\n",
       "      <th>2017-03-07</th>\n",
       "      <td>701</td>\n",
       "      <td>6379</td>\n",
       "    </tr>\n",
       "  </tbody>\n",
       "</table>\n",
       "</div>"
      ],
      "text/plain": [
       "                        total_users  total_events\n",
       "CohortGroup time_date                            \n",
       "2017-03-06  2017-03-06          292          2527\n",
       "            2017-03-07           61           753\n",
       "            2017-03-08           31           301\n",
       "            2017-03-09           29           210\n",
       "            2017-03-10           27           355\n",
       "            2017-03-11           10            72\n",
       "            2017-03-12           11            52\n",
       "            2017-03-13           33           310\n",
       "            2017-03-14           21           164\n",
       "2017-03-07  2017-03-07          701          6379"
      ]
     },
     "execution_count": 266,
     "metadata": {},
     "output_type": "execute_result"
    }
   ],
   "source": [
    "cohorts_btnclick.head(10)"
   ]
  },
  {
   "cell_type": "code",
   "execution_count": 267,
   "metadata": {
    "collapsed": true
   },
   "outputs": [],
   "source": [
    "cohorts_btnclick = cohorts_btnclick.groupby('CohortGroup').apply(cohort_period)"
   ]
  },
  {
   "cell_type": "code",
   "execution_count": 268,
   "metadata": {
    "collapsed": true
   },
   "outputs": [],
   "source": [
    "cohorts_btnclick.reset_index(inplace=True)\n",
    "cohorts_btnclick.set_index(['CohortGroup','CohortPeriod'],inplace=True)\n",
    "cohorts_btnclick_size = cohorts_btnclick['total_users'].groupby(level=0).first()"
   ]
  },
  {
   "cell_type": "code",
   "execution_count": 269,
   "metadata": {
    "collapsed": true
   },
   "outputs": [],
   "source": [
    "btnclick_user_retention = cohorts_btnclick['total_users'].unstack(0).divide(cohorts_btnclick_size,axis=1)"
   ]
  },
  {
   "cell_type": "code",
   "execution_count": 270,
   "metadata": {
    "collapsed": true
   },
   "outputs": [],
   "source": [
    "btnclick_user_retention.columns = ['2017-03-06', '2017-03-07', '2017-03-08', '2017-03-09',\n",
    "               '2017-03-10', '2017-03-11', '2017-03-12', '2017-03-13',\n",
    "               '2017-03-14']"
   ]
  },
  {
   "cell_type": "code",
   "execution_count": 271,
   "metadata": {},
   "outputs": [
    {
     "data": {
      "image/png": "[encoded data removed]",
      "text/plain": [
       "<matplotlib.figure.Figure at 0x14155c1d0>"
      ]
     },
     "metadata": {},
     "output_type": "display_data"
    }
   ],
   "source": [
    "import seaborn as sns\n",
    "sns.set(style='white')\n",
    "plt.figure(figsize=(12, 8))\n",
    "plt.title('User(btnclick) Retention')\n",
    "sns.heatmap(btnclick_user_retention.T, mask=btnclick_user_retention.T.isnull(), annot=True, fmt='.0%');\n",
    "plt.savefig('btnclick_user_retention_heatmap.pdf')"
   ]
  },
  {
   "cell_type": "markdown",
   "metadata": {},
   "source": [
    "#### users who visited demo page"
   ]
  },
  {
   "cell_type": "code",
   "execution_count": 272,
   "metadata": {
    "collapsed": true
   },
   "outputs": [],
   "source": [
    "demoleave_id = df_final[df_final['demo_leave']>=1]['index']\n",
    "demoleave_user  = df_flat.loc[df_flat['distinct_id'].isin(demoleave_id),['distinct_id','time_date','time_date_full','event']].copy()"
   ]
  },
  {
   "cell_type": "code",
   "execution_count": 273,
   "metadata": {
    "collapsed": true
   },
   "outputs": [],
   "source": [
    "demoleave_user.set_index('distinct_id',inplace=True)\n",
    "demoleave_user['CohortGroup'] = demoleave_user.groupby('distinct_id')['time_date'].min()\n",
    "demoleave_user.reset_index(inplace=True)"
   ]
  },
  {
   "cell_type": "code",
   "execution_count": 274,
   "metadata": {
    "collapsed": true
   },
   "outputs": [],
   "source": [
    "cohorts_demoleave = demoleave_user.groupby(['CohortGroup','time_date']).agg({'distinct_id':pd.Series.nunique,\n",
    "                                                                  'time_date_full':pd.Series.nunique})\n",
    "\n",
    "cohorts_demoleave.rename(columns={'distinct_id':'total_users', \n",
    "                        'time_date_full': 'total_events'},inplace=True)\n",
    "\n",
    "cohorts_demoleave = cohorts_demoleave.groupby('CohortGroup').apply(cohort_period)\n",
    "\n",
    "cohorts_demoleave.reset_index(inplace=True)\n",
    "cohorts_demoleave.set_index(['CohortGroup','CohortPeriod'],inplace=True)\n",
    "cohorts_demoleave_size = cohorts_demoleave['total_users'].groupby(level=0).first()"
   ]
  },
  {
   "cell_type": "code",
   "execution_count": 275,
   "metadata": {
    "collapsed": true
   },
   "outputs": [],
   "source": [
    "demoleave_user_retention = cohorts_demoleave['total_users'].unstack(0).divide(cohorts_demoleave_size,axis=1)"
   ]
  },
  {
   "cell_type": "code",
   "execution_count": 276,
   "metadata": {
    "collapsed": true
   },
   "outputs": [],
   "source": [
    "demoleave_user_retention.columns = ['2017-03-06', '2017-03-07', '2017-03-08', '2017-03-09',\n",
    "               '2017-03-10', '2017-03-11', '2017-03-12', '2017-03-13',\n",
    "               '2017-03-14']"
   ]
  },
  {
   "cell_type": "code",
   "execution_count": 277,
   "metadata": {},
   "outputs": [
    {
     "data": {
      "image/png": "[encoded data removed]",
      "text/plain": [
       "<matplotlib.figure.Figure at 0x12e1041d0>"
      ]
     },
     "metadata": {},
     "output_type": "display_data"
    }
   ],
   "source": [
    "import seaborn as sns\n",
    "sns.set(style='white')\n",
    "plt.figure(figsize=(12, 8))\n",
    "plt.title('User(demoleave) Retention')\n",
    "sns.heatmap(demoleave_user_retention.T, mask=demoleave_user_retention.T.isnull(), annot=True, fmt='.0%');\n",
    "plt.savefig('demoleave_user_retention_heatmap.pdf')"
   ]
  },
  {
   "cell_type": "code",
   "execution_count": 278,
   "metadata": {
    "collapsed": true
   },
   "outputs": [],
   "source": [
    "# comparing three segments\n",
    "cmp_retention = pd.concat([user_retention['2017-03-07'],new_user_retention['2017-03-07'],btnclick_user_retention['2017-03-07'],demoleave_user_retention['2017-03-07']],axis=1)\n",
    "cmp_retention.columns = ['all_user','new_user','btnclick_user','demoleave_user']"
   ]
  },
  {
   "cell_type": "code",
   "execution_count": 279,
   "metadata": {},
   "outputs": [
    {
     "data": {
      "image/png": "[encoded data removed]",
      "text/plain": [
       "<matplotlib.figure.Figure at 0x1358e5fd0>"
      ]
     },
     "metadata": {},
     "output_type": "display_data"
    }
   ],
   "source": [
    "cmp_retention.plot(figsize=(10,5))\n",
    "plt.title('Comparing Retention using 20170307 cohort')\n",
    "plt.xticks(np.arange(1, 10, 1))\n",
    "plt.xlim(1, 10)\n",
    "plt.ylabel('% of Cohort visiting webpage')\n",
    "plt.savefig('cmp_retention_line_chart.pdf')"
   ]
  }
 ],
 "metadata": {
  "kernelspec": {
   "display_name": "Python 3",
   "language": "python",
   "name": "python3"
  },
  "language_info": {
   "codemirror_mode": {
    "name": "ipython",
    "version": 3
   },
   "file_extension": ".py",
   "mimetype": "text/x-python",
   "name": "python",
   "nbconvert_exporter": "python",
   "pygments_lexer": "ipython3",
   "version": "3.6.1"
  }
 },
 "nbformat": 4,
 "nbformat_minor": 2
}
